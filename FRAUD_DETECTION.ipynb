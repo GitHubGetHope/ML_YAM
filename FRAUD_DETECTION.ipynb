{
  "nbformat": 4,
  "nbformat_minor": 0,
  "metadata": {
    "kernelspec": {
      "display_name": "Python 3",
      "language": "python",
      "name": "python3"
    },
    "language_info": {
      "codemirror_mode": {
        "name": "ipython",
        "version": 3
      },
      "file_extension": ".py",
      "mimetype": "text/x-python",
      "name": "python",
      "nbconvert_exporter": "python",
      "pygments_lexer": "ipython3",
      "version": "3.6.10"
    },
    "colab": {
      "name": "FRAUD DETECTION.ipynb",
      "provenance": [],
      "collapsed_sections": [],
      "toc_visible": true,
      "include_colab_link": true
    }
  },
  "cells": [
    {
      "cell_type": "markdown",
      "metadata": {
        "id": "view-in-github",
        "colab_type": "text"
      },
      "source": [
        "<a href=\"https://colab.research.google.com/github/GitHubGetHope/ML_YAM/blob/master/FRAUD_DETECTION.ipynb\" target=\"_parent\"><img src=\"https://colab.research.google.com/assets/colab-badge.svg\" alt=\"Open In Colab\"/></a>"
      ]
    },
    {
      "cell_type": "markdown",
      "metadata": {
        "id": "yZaLyP7F-l4p",
        "colab_type": "text"
      },
      "source": [
        "# Credit Card Fraud Detection\n",
        "\n",
        "---\n",
        "Our project, entitled, “Credit Card Fraud Detection” consists of identifying whether a new transaction is fraudulent or not by using a card transaction dataset that contains a mix of fraudulent and non-fraudulent transactions. We will use various predictive models to see how accurate they are in detecting whether a transaction is a normal payment or a fraud. \n",
        "We will try to through the various algorithms like Decision Trees, Logistic Regression, Random Forest... to implement the model and use datasets provided by Kaggle.\n",
        "\n",
        "The aim of this project is to build a classifier that can detect credit card fraudulent transactions.\n",
        "\n",
        "\n",
        "---\n",
        "Group : ML_YAM\n",
        "\n",
        "Membres: \n",
        "\n",
        "Laghmam Yassine,  Faik Marwa,  Ellatifi Anass\n"
      ]
    },
    {
      "cell_type": "markdown",
      "metadata": {
        "id": "qABRKEIBtJlM",
        "colab_type": "text"
      },
      "source": [
        "# Importing all the neccessery Libairies\n"
      ]
    },
    {
      "cell_type": "code",
      "metadata": {
        "id": "bHi-r7hPoyJ0",
        "colab_type": "code",
        "colab": {}
      },
      "source": [
        "import numpy as np\n",
        "import pandas as pd\n",
        "import os\n",
        "\n",
        "%matplotlib inline\n",
        "import matplotlib as mpl\n",
        "import matplotlib.pyplot as plt\n",
        "\n",
        "import sklearn"
      ],
      "execution_count": 0,
      "outputs": []
    },
    {
      "cell_type": "markdown",
      "metadata": {
        "id": "24StVUevoyJ_",
        "colab_type": "text"
      },
      "source": [
        "# Loading the credit card fraud dataset\n",
        " Load the dataset from the csv file using pandas, the best way is to mount the drive on colab and copy the path for the csv file.\n",
        " "
      ]
    },
    {
      "cell_type": "code",
      "metadata": {
        "id": "cA1bV1O739oh",
        "colab_type": "code",
        "outputId": "d1d8ec09-b8d0-4298-ddc3-b51f5d91025a",
        "colab": {
          "base_uri": "https://localhost:8080/",
          "height": 125
        }
      },
      "source": [
        "from google.colab import drive\n",
        "drive.mount('/content/drive')"
      ],
      "execution_count": 5,
      "outputs": [
        {
          "output_type": "stream",
          "text": [
            "Go to this URL in a browser: https://accounts.google.com/o/oauth2/auth?client_id=947318989803-6bn6qk8qdgf4n4g3pfee6491hc0brc4i.apps.googleusercontent.com&redirect_uri=urn%3aietf%3awg%3aoauth%3a2.0%3aoob&response_type=code&scope=email%20https%3a%2f%2fwww.googleapis.com%2fauth%2fdocs.test%20https%3a%2f%2fwww.googleapis.com%2fauth%2fdrive%20https%3a%2f%2fwww.googleapis.com%2fauth%2fdrive.photos.readonly%20https%3a%2f%2fwww.googleapis.com%2fauth%2fpeopleapi.readonly\n",
            "\n",
            "Enter your authorization code:\n",
            "··········\n",
            "Mounted at /content/drive\n"
          ],
          "name": "stdout"
        }
      ]
    },
    {
      "cell_type": "code",
      "metadata": {
        "id": "Jikznf7hoyKA",
        "colab_type": "code",
        "outputId": "c8314567-1c9d-4aec-a0f4-14d8bea8adc9",
        "colab": {
          "base_uri": "https://localhost:8080/",
          "height": 215
        }
      },
      "source": [
        "data = pd.read_csv(\"/content/drive/My Drive/creditcard.csv\")\n",
        "data.head()"
      ],
      "execution_count": 6,
      "outputs": [
        {
          "output_type": "execute_result",
          "data": {
            "text/html": [
              "<div>\n",
              "<style scoped>\n",
              "    .dataframe tbody tr th:only-of-type {\n",
              "        vertical-align: middle;\n",
              "    }\n",
              "\n",
              "    .dataframe tbody tr th {\n",
              "        vertical-align: top;\n",
              "    }\n",
              "\n",
              "    .dataframe thead th {\n",
              "        text-align: right;\n",
              "    }\n",
              "</style>\n",
              "<table border=\"1\" class=\"dataframe\">\n",
              "  <thead>\n",
              "    <tr style=\"text-align: right;\">\n",
              "      <th></th>\n",
              "      <th>Time</th>\n",
              "      <th>V1</th>\n",
              "      <th>V2</th>\n",
              "      <th>V3</th>\n",
              "      <th>V4</th>\n",
              "      <th>V5</th>\n",
              "      <th>V6</th>\n",
              "      <th>V7</th>\n",
              "      <th>V8</th>\n",
              "      <th>V9</th>\n",
              "      <th>V10</th>\n",
              "      <th>V11</th>\n",
              "      <th>V12</th>\n",
              "      <th>V13</th>\n",
              "      <th>V14</th>\n",
              "      <th>V15</th>\n",
              "      <th>V16</th>\n",
              "      <th>V17</th>\n",
              "      <th>V18</th>\n",
              "      <th>V19</th>\n",
              "      <th>V20</th>\n",
              "      <th>V21</th>\n",
              "      <th>V22</th>\n",
              "      <th>V23</th>\n",
              "      <th>V24</th>\n",
              "      <th>V25</th>\n",
              "      <th>V26</th>\n",
              "      <th>V27</th>\n",
              "      <th>V28</th>\n",
              "      <th>Amount</th>\n",
              "      <th>Class</th>\n",
              "    </tr>\n",
              "  </thead>\n",
              "  <tbody>\n",
              "    <tr>\n",
              "      <th>0</th>\n",
              "      <td>0.0</td>\n",
              "      <td>-1.359807</td>\n",
              "      <td>-0.072781</td>\n",
              "      <td>2.536347</td>\n",
              "      <td>1.378155</td>\n",
              "      <td>-0.338321</td>\n",
              "      <td>0.462388</td>\n",
              "      <td>0.239599</td>\n",
              "      <td>0.098698</td>\n",
              "      <td>0.363787</td>\n",
              "      <td>0.090794</td>\n",
              "      <td>-0.551600</td>\n",
              "      <td>-0.617801</td>\n",
              "      <td>-0.991390</td>\n",
              "      <td>-0.311169</td>\n",
              "      <td>1.468177</td>\n",
              "      <td>-0.470401</td>\n",
              "      <td>0.207971</td>\n",
              "      <td>0.025791</td>\n",
              "      <td>0.403993</td>\n",
              "      <td>0.251412</td>\n",
              "      <td>-0.018307</td>\n",
              "      <td>0.277838</td>\n",
              "      <td>-0.110474</td>\n",
              "      <td>0.066928</td>\n",
              "      <td>0.128539</td>\n",
              "      <td>-0.189115</td>\n",
              "      <td>0.133558</td>\n",
              "      <td>-0.021053</td>\n",
              "      <td>149.62</td>\n",
              "      <td>0</td>\n",
              "    </tr>\n",
              "    <tr>\n",
              "      <th>1</th>\n",
              "      <td>0.0</td>\n",
              "      <td>1.191857</td>\n",
              "      <td>0.266151</td>\n",
              "      <td>0.166480</td>\n",
              "      <td>0.448154</td>\n",
              "      <td>0.060018</td>\n",
              "      <td>-0.082361</td>\n",
              "      <td>-0.078803</td>\n",
              "      <td>0.085102</td>\n",
              "      <td>-0.255425</td>\n",
              "      <td>-0.166974</td>\n",
              "      <td>1.612727</td>\n",
              "      <td>1.065235</td>\n",
              "      <td>0.489095</td>\n",
              "      <td>-0.143772</td>\n",
              "      <td>0.635558</td>\n",
              "      <td>0.463917</td>\n",
              "      <td>-0.114805</td>\n",
              "      <td>-0.183361</td>\n",
              "      <td>-0.145783</td>\n",
              "      <td>-0.069083</td>\n",
              "      <td>-0.225775</td>\n",
              "      <td>-0.638672</td>\n",
              "      <td>0.101288</td>\n",
              "      <td>-0.339846</td>\n",
              "      <td>0.167170</td>\n",
              "      <td>0.125895</td>\n",
              "      <td>-0.008983</td>\n",
              "      <td>0.014724</td>\n",
              "      <td>2.69</td>\n",
              "      <td>0</td>\n",
              "    </tr>\n",
              "    <tr>\n",
              "      <th>2</th>\n",
              "      <td>1.0</td>\n",
              "      <td>-1.358354</td>\n",
              "      <td>-1.340163</td>\n",
              "      <td>1.773209</td>\n",
              "      <td>0.379780</td>\n",
              "      <td>-0.503198</td>\n",
              "      <td>1.800499</td>\n",
              "      <td>0.791461</td>\n",
              "      <td>0.247676</td>\n",
              "      <td>-1.514654</td>\n",
              "      <td>0.207643</td>\n",
              "      <td>0.624501</td>\n",
              "      <td>0.066084</td>\n",
              "      <td>0.717293</td>\n",
              "      <td>-0.165946</td>\n",
              "      <td>2.345865</td>\n",
              "      <td>-2.890083</td>\n",
              "      <td>1.109969</td>\n",
              "      <td>-0.121359</td>\n",
              "      <td>-2.261857</td>\n",
              "      <td>0.524980</td>\n",
              "      <td>0.247998</td>\n",
              "      <td>0.771679</td>\n",
              "      <td>0.909412</td>\n",
              "      <td>-0.689281</td>\n",
              "      <td>-0.327642</td>\n",
              "      <td>-0.139097</td>\n",
              "      <td>-0.055353</td>\n",
              "      <td>-0.059752</td>\n",
              "      <td>378.66</td>\n",
              "      <td>0</td>\n",
              "    </tr>\n",
              "    <tr>\n",
              "      <th>3</th>\n",
              "      <td>1.0</td>\n",
              "      <td>-0.966272</td>\n",
              "      <td>-0.185226</td>\n",
              "      <td>1.792993</td>\n",
              "      <td>-0.863291</td>\n",
              "      <td>-0.010309</td>\n",
              "      <td>1.247203</td>\n",
              "      <td>0.237609</td>\n",
              "      <td>0.377436</td>\n",
              "      <td>-1.387024</td>\n",
              "      <td>-0.054952</td>\n",
              "      <td>-0.226487</td>\n",
              "      <td>0.178228</td>\n",
              "      <td>0.507757</td>\n",
              "      <td>-0.287924</td>\n",
              "      <td>-0.631418</td>\n",
              "      <td>-1.059647</td>\n",
              "      <td>-0.684093</td>\n",
              "      <td>1.965775</td>\n",
              "      <td>-1.232622</td>\n",
              "      <td>-0.208038</td>\n",
              "      <td>-0.108300</td>\n",
              "      <td>0.005274</td>\n",
              "      <td>-0.190321</td>\n",
              "      <td>-1.175575</td>\n",
              "      <td>0.647376</td>\n",
              "      <td>-0.221929</td>\n",
              "      <td>0.062723</td>\n",
              "      <td>0.061458</td>\n",
              "      <td>123.50</td>\n",
              "      <td>0</td>\n",
              "    </tr>\n",
              "    <tr>\n",
              "      <th>4</th>\n",
              "      <td>2.0</td>\n",
              "      <td>-1.158233</td>\n",
              "      <td>0.877737</td>\n",
              "      <td>1.548718</td>\n",
              "      <td>0.403034</td>\n",
              "      <td>-0.407193</td>\n",
              "      <td>0.095921</td>\n",
              "      <td>0.592941</td>\n",
              "      <td>-0.270533</td>\n",
              "      <td>0.817739</td>\n",
              "      <td>0.753074</td>\n",
              "      <td>-0.822843</td>\n",
              "      <td>0.538196</td>\n",
              "      <td>1.345852</td>\n",
              "      <td>-1.119670</td>\n",
              "      <td>0.175121</td>\n",
              "      <td>-0.451449</td>\n",
              "      <td>-0.237033</td>\n",
              "      <td>-0.038195</td>\n",
              "      <td>0.803487</td>\n",
              "      <td>0.408542</td>\n",
              "      <td>-0.009431</td>\n",
              "      <td>0.798278</td>\n",
              "      <td>-0.137458</td>\n",
              "      <td>0.141267</td>\n",
              "      <td>-0.206010</td>\n",
              "      <td>0.502292</td>\n",
              "      <td>0.219422</td>\n",
              "      <td>0.215153</td>\n",
              "      <td>69.99</td>\n",
              "      <td>0</td>\n",
              "    </tr>\n",
              "  </tbody>\n",
              "</table>\n",
              "</div>"
            ],
            "text/plain": [
              "   Time        V1        V2        V3  ...       V27       V28  Amount  Class\n",
              "0   0.0 -1.359807 -0.072781  2.536347  ...  0.133558 -0.021053  149.62      0\n",
              "1   0.0  1.191857  0.266151  0.166480  ... -0.008983  0.014724    2.69      0\n",
              "2   1.0 -1.358354 -1.340163  1.773209  ... -0.055353 -0.059752  378.66      0\n",
              "3   1.0 -0.966272 -0.185226  1.792993  ...  0.062723  0.061458  123.50      0\n",
              "4   2.0 -1.158233  0.877737  1.548718  ...  0.219422  0.215153   69.99      0\n",
              "\n",
              "[5 rows x 31 columns]"
            ]
          },
          "metadata": {
            "tags": []
          },
          "execution_count": 6
        }
      ]
    },
    {
      "cell_type": "markdown",
      "metadata": {
        "id": "McPLbH8loyKO",
        "colab_type": "text"
      },
      "source": [
        "# Exploration of data"
      ]
    },
    {
      "cell_type": "code",
      "metadata": {
        "id": "CFn9ve_HoyKE",
        "colab_type": "code",
        "outputId": "3d098739-63ca-4ebb-eb77-8d27398aa429",
        "colab": {
          "base_uri": "https://localhost:8080/",
          "height": 34
        }
      },
      "source": [
        "print(data.shape)"
      ],
      "execution_count": 7,
      "outputs": [
        {
          "output_type": "stream",
          "text": [
            "(284807, 31)\n"
          ],
          "name": "stdout"
        }
      ]
    },
    {
      "cell_type": "code",
      "metadata": {
        "id": "x_Gtwpi9oyKO",
        "colab_type": "code",
        "outputId": "c4f9a43b-fda4-4715-97fd-117654bd7293",
        "colab": {}
      },
      "source": [
        "data.tail()"
      ],
      "execution_count": 0,
      "outputs": [
        {
          "output_type": "execute_result",
          "data": {
            "text/html": [
              "<div>\n",
              "<style scoped>\n",
              "    .dataframe tbody tr th:only-of-type {\n",
              "        vertical-align: middle;\n",
              "    }\n",
              "\n",
              "    .dataframe tbody tr th {\n",
              "        vertical-align: top;\n",
              "    }\n",
              "\n",
              "    .dataframe thead th {\n",
              "        text-align: right;\n",
              "    }\n",
              "</style>\n",
              "<table border=\"1\" class=\"dataframe\">\n",
              "  <thead>\n",
              "    <tr style=\"text-align: right;\">\n",
              "      <th></th>\n",
              "      <th>Time</th>\n",
              "      <th>V1</th>\n",
              "      <th>V2</th>\n",
              "      <th>V3</th>\n",
              "      <th>V4</th>\n",
              "      <th>V5</th>\n",
              "      <th>V6</th>\n",
              "      <th>V7</th>\n",
              "      <th>V8</th>\n",
              "      <th>V9</th>\n",
              "      <th>...</th>\n",
              "      <th>V21</th>\n",
              "      <th>V22</th>\n",
              "      <th>V23</th>\n",
              "      <th>V24</th>\n",
              "      <th>V25</th>\n",
              "      <th>V26</th>\n",
              "      <th>V27</th>\n",
              "      <th>V28</th>\n",
              "      <th>Amount</th>\n",
              "      <th>Class</th>\n",
              "    </tr>\n",
              "  </thead>\n",
              "  <tbody>\n",
              "    <tr>\n",
              "      <th>284802</th>\n",
              "      <td>172786.0</td>\n",
              "      <td>-11.881118</td>\n",
              "      <td>10.071785</td>\n",
              "      <td>-9.834783</td>\n",
              "      <td>-2.066656</td>\n",
              "      <td>-5.364473</td>\n",
              "      <td>-2.606837</td>\n",
              "      <td>-4.918215</td>\n",
              "      <td>7.305334</td>\n",
              "      <td>1.914428</td>\n",
              "      <td>...</td>\n",
              "      <td>0.213454</td>\n",
              "      <td>0.111864</td>\n",
              "      <td>1.014480</td>\n",
              "      <td>-0.509348</td>\n",
              "      <td>1.436807</td>\n",
              "      <td>0.250034</td>\n",
              "      <td>0.943651</td>\n",
              "      <td>0.823731</td>\n",
              "      <td>0.77</td>\n",
              "      <td>0</td>\n",
              "    </tr>\n",
              "    <tr>\n",
              "      <th>284803</th>\n",
              "      <td>172787.0</td>\n",
              "      <td>-0.732789</td>\n",
              "      <td>-0.055080</td>\n",
              "      <td>2.035030</td>\n",
              "      <td>-0.738589</td>\n",
              "      <td>0.868229</td>\n",
              "      <td>1.058415</td>\n",
              "      <td>0.024330</td>\n",
              "      <td>0.294869</td>\n",
              "      <td>0.584800</td>\n",
              "      <td>...</td>\n",
              "      <td>0.214205</td>\n",
              "      <td>0.924384</td>\n",
              "      <td>0.012463</td>\n",
              "      <td>-1.016226</td>\n",
              "      <td>-0.606624</td>\n",
              "      <td>-0.395255</td>\n",
              "      <td>0.068472</td>\n",
              "      <td>-0.053527</td>\n",
              "      <td>24.79</td>\n",
              "      <td>0</td>\n",
              "    </tr>\n",
              "    <tr>\n",
              "      <th>284804</th>\n",
              "      <td>172788.0</td>\n",
              "      <td>1.919565</td>\n",
              "      <td>-0.301254</td>\n",
              "      <td>-3.249640</td>\n",
              "      <td>-0.557828</td>\n",
              "      <td>2.630515</td>\n",
              "      <td>3.031260</td>\n",
              "      <td>-0.296827</td>\n",
              "      <td>0.708417</td>\n",
              "      <td>0.432454</td>\n",
              "      <td>...</td>\n",
              "      <td>0.232045</td>\n",
              "      <td>0.578229</td>\n",
              "      <td>-0.037501</td>\n",
              "      <td>0.640134</td>\n",
              "      <td>0.265745</td>\n",
              "      <td>-0.087371</td>\n",
              "      <td>0.004455</td>\n",
              "      <td>-0.026561</td>\n",
              "      <td>67.88</td>\n",
              "      <td>0</td>\n",
              "    </tr>\n",
              "    <tr>\n",
              "      <th>284805</th>\n",
              "      <td>172788.0</td>\n",
              "      <td>-0.240440</td>\n",
              "      <td>0.530483</td>\n",
              "      <td>0.702510</td>\n",
              "      <td>0.689799</td>\n",
              "      <td>-0.377961</td>\n",
              "      <td>0.623708</td>\n",
              "      <td>-0.686180</td>\n",
              "      <td>0.679145</td>\n",
              "      <td>0.392087</td>\n",
              "      <td>...</td>\n",
              "      <td>0.265245</td>\n",
              "      <td>0.800049</td>\n",
              "      <td>-0.163298</td>\n",
              "      <td>0.123205</td>\n",
              "      <td>-0.569159</td>\n",
              "      <td>0.546668</td>\n",
              "      <td>0.108821</td>\n",
              "      <td>0.104533</td>\n",
              "      <td>10.00</td>\n",
              "      <td>0</td>\n",
              "    </tr>\n",
              "    <tr>\n",
              "      <th>284806</th>\n",
              "      <td>172792.0</td>\n",
              "      <td>-0.533413</td>\n",
              "      <td>-0.189733</td>\n",
              "      <td>0.703337</td>\n",
              "      <td>-0.506271</td>\n",
              "      <td>-0.012546</td>\n",
              "      <td>-0.649617</td>\n",
              "      <td>1.577006</td>\n",
              "      <td>-0.414650</td>\n",
              "      <td>0.486180</td>\n",
              "      <td>...</td>\n",
              "      <td>0.261057</td>\n",
              "      <td>0.643078</td>\n",
              "      <td>0.376777</td>\n",
              "      <td>0.008797</td>\n",
              "      <td>-0.473649</td>\n",
              "      <td>-0.818267</td>\n",
              "      <td>-0.002415</td>\n",
              "      <td>0.013649</td>\n",
              "      <td>217.00</td>\n",
              "      <td>0</td>\n",
              "    </tr>\n",
              "  </tbody>\n",
              "</table>\n",
              "<p>5 rows × 31 columns</p>\n",
              "</div>"
            ],
            "text/plain": [
              "            Time         V1         V2        V3        V4        V5  \\\n",
              "284802  172786.0 -11.881118  10.071785 -9.834783 -2.066656 -5.364473   \n",
              "284803  172787.0  -0.732789  -0.055080  2.035030 -0.738589  0.868229   \n",
              "284804  172788.0   1.919565  -0.301254 -3.249640 -0.557828  2.630515   \n",
              "284805  172788.0  -0.240440   0.530483  0.702510  0.689799 -0.377961   \n",
              "284806  172792.0  -0.533413  -0.189733  0.703337 -0.506271 -0.012546   \n",
              "\n",
              "              V6        V7        V8        V9  ...       V21       V22  \\\n",
              "284802 -2.606837 -4.918215  7.305334  1.914428  ...  0.213454  0.111864   \n",
              "284803  1.058415  0.024330  0.294869  0.584800  ...  0.214205  0.924384   \n",
              "284804  3.031260 -0.296827  0.708417  0.432454  ...  0.232045  0.578229   \n",
              "284805  0.623708 -0.686180  0.679145  0.392087  ...  0.265245  0.800049   \n",
              "284806 -0.649617  1.577006 -0.414650  0.486180  ...  0.261057  0.643078   \n",
              "\n",
              "             V23       V24       V25       V26       V27       V28  Amount  \\\n",
              "284802  1.014480 -0.509348  1.436807  0.250034  0.943651  0.823731    0.77   \n",
              "284803  0.012463 -1.016226 -0.606624 -0.395255  0.068472 -0.053527   24.79   \n",
              "284804 -0.037501  0.640134  0.265745 -0.087371  0.004455 -0.026561   67.88   \n",
              "284805 -0.163298  0.123205 -0.569159  0.546668  0.108821  0.104533   10.00   \n",
              "284806  0.376777  0.008797 -0.473649 -0.818267 -0.002415  0.013649  217.00   \n",
              "\n",
              "        Class  \n",
              "284802      0  \n",
              "284803      0  \n",
              "284804      0  \n",
              "284805      0  \n",
              "284806      0  \n",
              "\n",
              "[5 rows x 31 columns]"
            ]
          },
          "metadata": {
            "tags": []
          },
          "execution_count": 5
        }
      ]
    },
    {
      "cell_type": "code",
      "metadata": {
        "id": "t4UvHVj-oyKS",
        "colab_type": "code",
        "outputId": "07c396cf-6a30-412f-be11-489d35cd9b40",
        "colab": {}
      },
      "source": [
        "data.dtypes"
      ],
      "execution_count": 0,
      "outputs": [
        {
          "output_type": "execute_result",
          "data": {
            "text/plain": [
              "Time      float64\n",
              "V1        float64\n",
              "V2        float64\n",
              "V3        float64\n",
              "V4        float64\n",
              "V5        float64\n",
              "V6        float64\n",
              "V7        float64\n",
              "V8        float64\n",
              "V9        float64\n",
              "V10       float64\n",
              "V11       float64\n",
              "V12       float64\n",
              "V13       float64\n",
              "V14       float64\n",
              "V15       float64\n",
              "V16       float64\n",
              "V17       float64\n",
              "V18       float64\n",
              "V19       float64\n",
              "V20       float64\n",
              "V21       float64\n",
              "V22       float64\n",
              "V23       float64\n",
              "V24       float64\n",
              "V25       float64\n",
              "V26       float64\n",
              "V27       float64\n",
              "V28       float64\n",
              "Amount    float64\n",
              "Class       int64\n",
              "dtype: object"
            ]
          },
          "metadata": {
            "tags": []
          },
          "execution_count": 6
        }
      ]
    },
    {
      "cell_type": "markdown",
      "metadata": {
        "id": "7XDtrsK3oyKV",
        "colab_type": "raw"
      },
      "source": [
        "###numeric data###"
      ]
    },
    {
      "cell_type": "code",
      "metadata": {
        "id": "m6FXo8o3oyKX",
        "colab_type": "code",
        "outputId": "d2fe715c-37d1-42e8-e223-abb5c33c6f93",
        "colab": {}
      },
      "source": [
        "data.describe()"
      ],
      "execution_count": 0,
      "outputs": [
        {
          "output_type": "execute_result",
          "data": {
            "text/html": [
              "<div>\n",
              "<style scoped>\n",
              "    .dataframe tbody tr th:only-of-type {\n",
              "        vertical-align: middle;\n",
              "    }\n",
              "\n",
              "    .dataframe tbody tr th {\n",
              "        vertical-align: top;\n",
              "    }\n",
              "\n",
              "    .dataframe thead th {\n",
              "        text-align: right;\n",
              "    }\n",
              "</style>\n",
              "<table border=\"1\" class=\"dataframe\">\n",
              "  <thead>\n",
              "    <tr style=\"text-align: right;\">\n",
              "      <th></th>\n",
              "      <th>Time</th>\n",
              "      <th>V1</th>\n",
              "      <th>V2</th>\n",
              "      <th>V3</th>\n",
              "      <th>V4</th>\n",
              "      <th>V5</th>\n",
              "      <th>V6</th>\n",
              "      <th>V7</th>\n",
              "      <th>V8</th>\n",
              "      <th>V9</th>\n",
              "      <th>...</th>\n",
              "      <th>V21</th>\n",
              "      <th>V22</th>\n",
              "      <th>V23</th>\n",
              "      <th>V24</th>\n",
              "      <th>V25</th>\n",
              "      <th>V26</th>\n",
              "      <th>V27</th>\n",
              "      <th>V28</th>\n",
              "      <th>Amount</th>\n",
              "      <th>Class</th>\n",
              "    </tr>\n",
              "  </thead>\n",
              "  <tbody>\n",
              "    <tr>\n",
              "      <th>count</th>\n",
              "      <td>284807.000000</td>\n",
              "      <td>2.848070e+05</td>\n",
              "      <td>2.848070e+05</td>\n",
              "      <td>2.848070e+05</td>\n",
              "      <td>2.848070e+05</td>\n",
              "      <td>2.848070e+05</td>\n",
              "      <td>2.848070e+05</td>\n",
              "      <td>2.848070e+05</td>\n",
              "      <td>2.848070e+05</td>\n",
              "      <td>2.848070e+05</td>\n",
              "      <td>...</td>\n",
              "      <td>2.848070e+05</td>\n",
              "      <td>2.848070e+05</td>\n",
              "      <td>2.848070e+05</td>\n",
              "      <td>2.848070e+05</td>\n",
              "      <td>2.848070e+05</td>\n",
              "      <td>2.848070e+05</td>\n",
              "      <td>2.848070e+05</td>\n",
              "      <td>2.848070e+05</td>\n",
              "      <td>284807.000000</td>\n",
              "      <td>284807.000000</td>\n",
              "    </tr>\n",
              "    <tr>\n",
              "      <th>mean</th>\n",
              "      <td>94813.859575</td>\n",
              "      <td>1.165980e-15</td>\n",
              "      <td>3.416908e-16</td>\n",
              "      <td>-1.373150e-15</td>\n",
              "      <td>2.086869e-15</td>\n",
              "      <td>9.604066e-16</td>\n",
              "      <td>1.490107e-15</td>\n",
              "      <td>-5.556467e-16</td>\n",
              "      <td>1.177556e-16</td>\n",
              "      <td>-2.406455e-15</td>\n",
              "      <td>...</td>\n",
              "      <td>1.656562e-16</td>\n",
              "      <td>-3.444850e-16</td>\n",
              "      <td>2.578648e-16</td>\n",
              "      <td>4.471968e-15</td>\n",
              "      <td>5.340915e-16</td>\n",
              "      <td>1.687098e-15</td>\n",
              "      <td>-3.666453e-16</td>\n",
              "      <td>-1.220404e-16</td>\n",
              "      <td>88.349619</td>\n",
              "      <td>0.001727</td>\n",
              "    </tr>\n",
              "    <tr>\n",
              "      <th>std</th>\n",
              "      <td>47488.145955</td>\n",
              "      <td>1.958696e+00</td>\n",
              "      <td>1.651309e+00</td>\n",
              "      <td>1.516255e+00</td>\n",
              "      <td>1.415869e+00</td>\n",
              "      <td>1.380247e+00</td>\n",
              "      <td>1.332271e+00</td>\n",
              "      <td>1.237094e+00</td>\n",
              "      <td>1.194353e+00</td>\n",
              "      <td>1.098632e+00</td>\n",
              "      <td>...</td>\n",
              "      <td>7.345240e-01</td>\n",
              "      <td>7.257016e-01</td>\n",
              "      <td>6.244603e-01</td>\n",
              "      <td>6.056471e-01</td>\n",
              "      <td>5.212781e-01</td>\n",
              "      <td>4.822270e-01</td>\n",
              "      <td>4.036325e-01</td>\n",
              "      <td>3.300833e-01</td>\n",
              "      <td>250.120109</td>\n",
              "      <td>0.041527</td>\n",
              "    </tr>\n",
              "    <tr>\n",
              "      <th>min</th>\n",
              "      <td>0.000000</td>\n",
              "      <td>-5.640751e+01</td>\n",
              "      <td>-7.271573e+01</td>\n",
              "      <td>-4.832559e+01</td>\n",
              "      <td>-5.683171e+00</td>\n",
              "      <td>-1.137433e+02</td>\n",
              "      <td>-2.616051e+01</td>\n",
              "      <td>-4.355724e+01</td>\n",
              "      <td>-7.321672e+01</td>\n",
              "      <td>-1.343407e+01</td>\n",
              "      <td>...</td>\n",
              "      <td>-3.483038e+01</td>\n",
              "      <td>-1.093314e+01</td>\n",
              "      <td>-4.480774e+01</td>\n",
              "      <td>-2.836627e+00</td>\n",
              "      <td>-1.029540e+01</td>\n",
              "      <td>-2.604551e+00</td>\n",
              "      <td>-2.256568e+01</td>\n",
              "      <td>-1.543008e+01</td>\n",
              "      <td>0.000000</td>\n",
              "      <td>0.000000</td>\n",
              "    </tr>\n",
              "    <tr>\n",
              "      <th>25%</th>\n",
              "      <td>54201.500000</td>\n",
              "      <td>-9.203734e-01</td>\n",
              "      <td>-5.985499e-01</td>\n",
              "      <td>-8.903648e-01</td>\n",
              "      <td>-8.486401e-01</td>\n",
              "      <td>-6.915971e-01</td>\n",
              "      <td>-7.682956e-01</td>\n",
              "      <td>-5.540759e-01</td>\n",
              "      <td>-2.086297e-01</td>\n",
              "      <td>-6.430976e-01</td>\n",
              "      <td>...</td>\n",
              "      <td>-2.283949e-01</td>\n",
              "      <td>-5.423504e-01</td>\n",
              "      <td>-1.618463e-01</td>\n",
              "      <td>-3.545861e-01</td>\n",
              "      <td>-3.171451e-01</td>\n",
              "      <td>-3.269839e-01</td>\n",
              "      <td>-7.083953e-02</td>\n",
              "      <td>-5.295979e-02</td>\n",
              "      <td>5.600000</td>\n",
              "      <td>0.000000</td>\n",
              "    </tr>\n",
              "    <tr>\n",
              "      <th>50%</th>\n",
              "      <td>84692.000000</td>\n",
              "      <td>1.810880e-02</td>\n",
              "      <td>6.548556e-02</td>\n",
              "      <td>1.798463e-01</td>\n",
              "      <td>-1.984653e-02</td>\n",
              "      <td>-5.433583e-02</td>\n",
              "      <td>-2.741871e-01</td>\n",
              "      <td>4.010308e-02</td>\n",
              "      <td>2.235804e-02</td>\n",
              "      <td>-5.142873e-02</td>\n",
              "      <td>...</td>\n",
              "      <td>-2.945017e-02</td>\n",
              "      <td>6.781943e-03</td>\n",
              "      <td>-1.119293e-02</td>\n",
              "      <td>4.097606e-02</td>\n",
              "      <td>1.659350e-02</td>\n",
              "      <td>-5.213911e-02</td>\n",
              "      <td>1.342146e-03</td>\n",
              "      <td>1.124383e-02</td>\n",
              "      <td>22.000000</td>\n",
              "      <td>0.000000</td>\n",
              "    </tr>\n",
              "    <tr>\n",
              "      <th>75%</th>\n",
              "      <td>139320.500000</td>\n",
              "      <td>1.315642e+00</td>\n",
              "      <td>8.037239e-01</td>\n",
              "      <td>1.027196e+00</td>\n",
              "      <td>7.433413e-01</td>\n",
              "      <td>6.119264e-01</td>\n",
              "      <td>3.985649e-01</td>\n",
              "      <td>5.704361e-01</td>\n",
              "      <td>3.273459e-01</td>\n",
              "      <td>5.971390e-01</td>\n",
              "      <td>...</td>\n",
              "      <td>1.863772e-01</td>\n",
              "      <td>5.285536e-01</td>\n",
              "      <td>1.476421e-01</td>\n",
              "      <td>4.395266e-01</td>\n",
              "      <td>3.507156e-01</td>\n",
              "      <td>2.409522e-01</td>\n",
              "      <td>9.104512e-02</td>\n",
              "      <td>7.827995e-02</td>\n",
              "      <td>77.165000</td>\n",
              "      <td>0.000000</td>\n",
              "    </tr>\n",
              "    <tr>\n",
              "      <th>max</th>\n",
              "      <td>172792.000000</td>\n",
              "      <td>2.454930e+00</td>\n",
              "      <td>2.205773e+01</td>\n",
              "      <td>9.382558e+00</td>\n",
              "      <td>1.687534e+01</td>\n",
              "      <td>3.480167e+01</td>\n",
              "      <td>7.330163e+01</td>\n",
              "      <td>1.205895e+02</td>\n",
              "      <td>2.000721e+01</td>\n",
              "      <td>1.559499e+01</td>\n",
              "      <td>...</td>\n",
              "      <td>2.720284e+01</td>\n",
              "      <td>1.050309e+01</td>\n",
              "      <td>2.252841e+01</td>\n",
              "      <td>4.584549e+00</td>\n",
              "      <td>7.519589e+00</td>\n",
              "      <td>3.517346e+00</td>\n",
              "      <td>3.161220e+01</td>\n",
              "      <td>3.384781e+01</td>\n",
              "      <td>25691.160000</td>\n",
              "      <td>1.000000</td>\n",
              "    </tr>\n",
              "  </tbody>\n",
              "</table>\n",
              "<p>8 rows × 31 columns</p>\n",
              "</div>"
            ],
            "text/plain": [
              "                Time            V1            V2            V3            V4  \\\n",
              "count  284807.000000  2.848070e+05  2.848070e+05  2.848070e+05  2.848070e+05   \n",
              "mean    94813.859575  1.165980e-15  3.416908e-16 -1.373150e-15  2.086869e-15   \n",
              "std     47488.145955  1.958696e+00  1.651309e+00  1.516255e+00  1.415869e+00   \n",
              "min         0.000000 -5.640751e+01 -7.271573e+01 -4.832559e+01 -5.683171e+00   \n",
              "25%     54201.500000 -9.203734e-01 -5.985499e-01 -8.903648e-01 -8.486401e-01   \n",
              "50%     84692.000000  1.810880e-02  6.548556e-02  1.798463e-01 -1.984653e-02   \n",
              "75%    139320.500000  1.315642e+00  8.037239e-01  1.027196e+00  7.433413e-01   \n",
              "max    172792.000000  2.454930e+00  2.205773e+01  9.382558e+00  1.687534e+01   \n",
              "\n",
              "                 V5            V6            V7            V8            V9  \\\n",
              "count  2.848070e+05  2.848070e+05  2.848070e+05  2.848070e+05  2.848070e+05   \n",
              "mean   9.604066e-16  1.490107e-15 -5.556467e-16  1.177556e-16 -2.406455e-15   \n",
              "std    1.380247e+00  1.332271e+00  1.237094e+00  1.194353e+00  1.098632e+00   \n",
              "min   -1.137433e+02 -2.616051e+01 -4.355724e+01 -7.321672e+01 -1.343407e+01   \n",
              "25%   -6.915971e-01 -7.682956e-01 -5.540759e-01 -2.086297e-01 -6.430976e-01   \n",
              "50%   -5.433583e-02 -2.741871e-01  4.010308e-02  2.235804e-02 -5.142873e-02   \n",
              "75%    6.119264e-01  3.985649e-01  5.704361e-01  3.273459e-01  5.971390e-01   \n",
              "max    3.480167e+01  7.330163e+01  1.205895e+02  2.000721e+01  1.559499e+01   \n",
              "\n",
              "       ...           V21           V22           V23           V24  \\\n",
              "count  ...  2.848070e+05  2.848070e+05  2.848070e+05  2.848070e+05   \n",
              "mean   ...  1.656562e-16 -3.444850e-16  2.578648e-16  4.471968e-15   \n",
              "std    ...  7.345240e-01  7.257016e-01  6.244603e-01  6.056471e-01   \n",
              "min    ... -3.483038e+01 -1.093314e+01 -4.480774e+01 -2.836627e+00   \n",
              "25%    ... -2.283949e-01 -5.423504e-01 -1.618463e-01 -3.545861e-01   \n",
              "50%    ... -2.945017e-02  6.781943e-03 -1.119293e-02  4.097606e-02   \n",
              "75%    ...  1.863772e-01  5.285536e-01  1.476421e-01  4.395266e-01   \n",
              "max    ...  2.720284e+01  1.050309e+01  2.252841e+01  4.584549e+00   \n",
              "\n",
              "                V25           V26           V27           V28         Amount  \\\n",
              "count  2.848070e+05  2.848070e+05  2.848070e+05  2.848070e+05  284807.000000   \n",
              "mean   5.340915e-16  1.687098e-15 -3.666453e-16 -1.220404e-16      88.349619   \n",
              "std    5.212781e-01  4.822270e-01  4.036325e-01  3.300833e-01     250.120109   \n",
              "min   -1.029540e+01 -2.604551e+00 -2.256568e+01 -1.543008e+01       0.000000   \n",
              "25%   -3.171451e-01 -3.269839e-01 -7.083953e-02 -5.295979e-02       5.600000   \n",
              "50%    1.659350e-02 -5.213911e-02  1.342146e-03  1.124383e-02      22.000000   \n",
              "75%    3.507156e-01  2.409522e-01  9.104512e-02  7.827995e-02      77.165000   \n",
              "max    7.519589e+00  3.517346e+00  3.161220e+01  3.384781e+01   25691.160000   \n",
              "\n",
              "               Class  \n",
              "count  284807.000000  \n",
              "mean        0.001727  \n",
              "std         0.041527  \n",
              "min         0.000000  \n",
              "25%         0.000000  \n",
              "50%         0.000000  \n",
              "75%         0.000000  \n",
              "max         1.000000  \n",
              "\n",
              "[8 rows x 31 columns]"
            ]
          },
          "metadata": {
            "tags": []
          },
          "execution_count": 7
        }
      ]
    },
    {
      "cell_type": "code",
      "metadata": {
        "id": "gORHEJIRoyKc",
        "colab_type": "code",
        "outputId": "f4c4623b-afa6-4e4f-a43a-d001d0657bc3",
        "colab": {}
      },
      "source": [
        "data.Amount.describe()"
      ],
      "execution_count": 0,
      "outputs": [
        {
          "output_type": "execute_result",
          "data": {
            "text/plain": [
              "count    284807.000000\n",
              "mean         88.349619\n",
              "std         250.120109\n",
              "min           0.000000\n",
              "25%           5.600000\n",
              "50%          22.000000\n",
              "75%          77.165000\n",
              "max       25691.160000\n",
              "Name: Amount, dtype: float64"
            ]
          },
          "metadata": {
            "tags": []
          },
          "execution_count": 8
        }
      ]
    },
    {
      "cell_type": "code",
      "metadata": {
        "id": "GF6-wQVjoyKg",
        "colab_type": "code",
        "outputId": "82979ec8-2427-4b92-cd87-965ee55176d9",
        "colab": {}
      },
      "source": [
        "data.isnull().values.any()"
      ],
      "execution_count": 0,
      "outputs": [
        {
          "output_type": "execute_result",
          "data": {
            "text/plain": [
              "False"
            ]
          },
          "metadata": {
            "tags": []
          },
          "execution_count": 9
        }
      ]
    },
    {
      "cell_type": "markdown",
      "metadata": {
        "id": "u1XG1exuoyKl",
        "colab_type": "text"
      },
      "source": [
        "There is No \"Null\" values. \n",
        "\n",
        "Time to explain the data we are dealing with."
      ]
    },
    {
      "cell_type": "code",
      "metadata": {
        "scrolled": true,
        "id": "GAkmY4jAoyKm",
        "colab_type": "code",
        "outputId": "09ea03c3-4c51-4ade-9ab6-911b992608ca",
        "colab": {
          "base_uri": "https://localhost:8080/",
          "height": 87
        }
      },
      "source": [
        "# Determine number of fraud cases in dataset \n",
        "fraud = data[data['Class'] == 1] \n",
        "valid = data[data['Class'] == 0] \n",
        "print(fraud.shape,valid.shape)\n",
        "print('Fraud Cases: {}'.format(len(fraud))) \n",
        "print('Valid Transactions: {}'.format(len(valid)))\n",
        "print(len(fraud)/float(len(valid))) "
      ],
      "execution_count": 8,
      "outputs": [
        {
          "output_type": "stream",
          "text": [
            "(492, 31) (284315, 31)\n",
            "Fraud Cases: 492\n",
            "Valid Transactions: 284315\n",
            "0.0017304750013189597\n"
          ],
          "name": "stdout"
        }
      ]
    },
    {
      "cell_type": "markdown",
      "metadata": {
        "id": "DKpcBs-HoyKt",
        "colab_type": "text"
      },
      "source": [
        "Most of the transactions are non-fraud. Only 0.46% fraudulent transaction out all the transactions. \n",
        "\n",
        "\n"
      ]
    },
    {
      "cell_type": "code",
      "metadata": {
        "id": "yifLdYkhoyKu",
        "colab_type": "code",
        "outputId": "1265da1e-3241-4bd7-92d5-2a947847e2b6",
        "colab": {
          "base_uri": "https://localhost:8080/",
          "height": 215
        }
      },
      "source": [
        "data.head()"
      ],
      "execution_count": 0,
      "outputs": [
        {
          "output_type": "execute_result",
          "data": {
            "text/html": [
              "<div>\n",
              "<style scoped>\n",
              "    .dataframe tbody tr th:only-of-type {\n",
              "        vertical-align: middle;\n",
              "    }\n",
              "\n",
              "    .dataframe tbody tr th {\n",
              "        vertical-align: top;\n",
              "    }\n",
              "\n",
              "    .dataframe thead th {\n",
              "        text-align: right;\n",
              "    }\n",
              "</style>\n",
              "<table border=\"1\" class=\"dataframe\">\n",
              "  <thead>\n",
              "    <tr style=\"text-align: right;\">\n",
              "      <th></th>\n",
              "      <th>Time</th>\n",
              "      <th>V1</th>\n",
              "      <th>V2</th>\n",
              "      <th>V3</th>\n",
              "      <th>V4</th>\n",
              "      <th>V5</th>\n",
              "      <th>V6</th>\n",
              "      <th>V7</th>\n",
              "      <th>V8</th>\n",
              "      <th>V9</th>\n",
              "      <th>V10</th>\n",
              "      <th>V11</th>\n",
              "      <th>V12</th>\n",
              "      <th>V13</th>\n",
              "      <th>V14</th>\n",
              "      <th>V15</th>\n",
              "      <th>V16</th>\n",
              "      <th>V17</th>\n",
              "      <th>V18</th>\n",
              "      <th>V19</th>\n",
              "      <th>V20</th>\n",
              "      <th>V21</th>\n",
              "      <th>V22</th>\n",
              "      <th>V23</th>\n",
              "      <th>V24</th>\n",
              "      <th>V25</th>\n",
              "      <th>V26</th>\n",
              "      <th>V27</th>\n",
              "      <th>V28</th>\n",
              "      <th>Amount</th>\n",
              "      <th>Class</th>\n",
              "    </tr>\n",
              "  </thead>\n",
              "  <tbody>\n",
              "    <tr>\n",
              "      <th>0</th>\n",
              "      <td>0.0</td>\n",
              "      <td>-1.359807</td>\n",
              "      <td>-0.072781</td>\n",
              "      <td>2.536347</td>\n",
              "      <td>1.378155</td>\n",
              "      <td>-0.338321</td>\n",
              "      <td>0.462388</td>\n",
              "      <td>0.239599</td>\n",
              "      <td>0.098698</td>\n",
              "      <td>0.363787</td>\n",
              "      <td>0.090794</td>\n",
              "      <td>-0.551600</td>\n",
              "      <td>-0.617801</td>\n",
              "      <td>-0.991390</td>\n",
              "      <td>-0.311169</td>\n",
              "      <td>1.468177</td>\n",
              "      <td>-0.470401</td>\n",
              "      <td>0.207971</td>\n",
              "      <td>0.025791</td>\n",
              "      <td>0.403993</td>\n",
              "      <td>0.251412</td>\n",
              "      <td>-0.018307</td>\n",
              "      <td>0.277838</td>\n",
              "      <td>-0.110474</td>\n",
              "      <td>0.066928</td>\n",
              "      <td>0.128539</td>\n",
              "      <td>-0.189115</td>\n",
              "      <td>0.133558</td>\n",
              "      <td>-0.021053</td>\n",
              "      <td>149.62</td>\n",
              "      <td>0</td>\n",
              "    </tr>\n",
              "    <tr>\n",
              "      <th>1</th>\n",
              "      <td>0.0</td>\n",
              "      <td>1.191857</td>\n",
              "      <td>0.266151</td>\n",
              "      <td>0.166480</td>\n",
              "      <td>0.448154</td>\n",
              "      <td>0.060018</td>\n",
              "      <td>-0.082361</td>\n",
              "      <td>-0.078803</td>\n",
              "      <td>0.085102</td>\n",
              "      <td>-0.255425</td>\n",
              "      <td>-0.166974</td>\n",
              "      <td>1.612727</td>\n",
              "      <td>1.065235</td>\n",
              "      <td>0.489095</td>\n",
              "      <td>-0.143772</td>\n",
              "      <td>0.635558</td>\n",
              "      <td>0.463917</td>\n",
              "      <td>-0.114805</td>\n",
              "      <td>-0.183361</td>\n",
              "      <td>-0.145783</td>\n",
              "      <td>-0.069083</td>\n",
              "      <td>-0.225775</td>\n",
              "      <td>-0.638672</td>\n",
              "      <td>0.101288</td>\n",
              "      <td>-0.339846</td>\n",
              "      <td>0.167170</td>\n",
              "      <td>0.125895</td>\n",
              "      <td>-0.008983</td>\n",
              "      <td>0.014724</td>\n",
              "      <td>2.69</td>\n",
              "      <td>0</td>\n",
              "    </tr>\n",
              "    <tr>\n",
              "      <th>2</th>\n",
              "      <td>1.0</td>\n",
              "      <td>-1.358354</td>\n",
              "      <td>-1.340163</td>\n",
              "      <td>1.773209</td>\n",
              "      <td>0.379780</td>\n",
              "      <td>-0.503198</td>\n",
              "      <td>1.800499</td>\n",
              "      <td>0.791461</td>\n",
              "      <td>0.247676</td>\n",
              "      <td>-1.514654</td>\n",
              "      <td>0.207643</td>\n",
              "      <td>0.624501</td>\n",
              "      <td>0.066084</td>\n",
              "      <td>0.717293</td>\n",
              "      <td>-0.165946</td>\n",
              "      <td>2.345865</td>\n",
              "      <td>-2.890083</td>\n",
              "      <td>1.109969</td>\n",
              "      <td>-0.121359</td>\n",
              "      <td>-2.261857</td>\n",
              "      <td>0.524980</td>\n",
              "      <td>0.247998</td>\n",
              "      <td>0.771679</td>\n",
              "      <td>0.909412</td>\n",
              "      <td>-0.689281</td>\n",
              "      <td>-0.327642</td>\n",
              "      <td>-0.139097</td>\n",
              "      <td>-0.055353</td>\n",
              "      <td>-0.059752</td>\n",
              "      <td>378.66</td>\n",
              "      <td>0</td>\n",
              "    </tr>\n",
              "    <tr>\n",
              "      <th>3</th>\n",
              "      <td>1.0</td>\n",
              "      <td>-0.966272</td>\n",
              "      <td>-0.185226</td>\n",
              "      <td>1.792993</td>\n",
              "      <td>-0.863291</td>\n",
              "      <td>-0.010309</td>\n",
              "      <td>1.247203</td>\n",
              "      <td>0.237609</td>\n",
              "      <td>0.377436</td>\n",
              "      <td>-1.387024</td>\n",
              "      <td>-0.054952</td>\n",
              "      <td>-0.226487</td>\n",
              "      <td>0.178228</td>\n",
              "      <td>0.507757</td>\n",
              "      <td>-0.287924</td>\n",
              "      <td>-0.631418</td>\n",
              "      <td>-1.059647</td>\n",
              "      <td>-0.684093</td>\n",
              "      <td>1.965775</td>\n",
              "      <td>-1.232622</td>\n",
              "      <td>-0.208038</td>\n",
              "      <td>-0.108300</td>\n",
              "      <td>0.005274</td>\n",
              "      <td>-0.190321</td>\n",
              "      <td>-1.175575</td>\n",
              "      <td>0.647376</td>\n",
              "      <td>-0.221929</td>\n",
              "      <td>0.062723</td>\n",
              "      <td>0.061458</td>\n",
              "      <td>123.50</td>\n",
              "      <td>0</td>\n",
              "    </tr>\n",
              "    <tr>\n",
              "      <th>4</th>\n",
              "      <td>2.0</td>\n",
              "      <td>-1.158233</td>\n",
              "      <td>0.877737</td>\n",
              "      <td>1.548718</td>\n",
              "      <td>0.403034</td>\n",
              "      <td>-0.407193</td>\n",
              "      <td>0.095921</td>\n",
              "      <td>0.592941</td>\n",
              "      <td>-0.270533</td>\n",
              "      <td>0.817739</td>\n",
              "      <td>0.753074</td>\n",
              "      <td>-0.822843</td>\n",
              "      <td>0.538196</td>\n",
              "      <td>1.345852</td>\n",
              "      <td>-1.119670</td>\n",
              "      <td>0.175121</td>\n",
              "      <td>-0.451449</td>\n",
              "      <td>-0.237033</td>\n",
              "      <td>-0.038195</td>\n",
              "      <td>0.803487</td>\n",
              "      <td>0.408542</td>\n",
              "      <td>-0.009431</td>\n",
              "      <td>0.798278</td>\n",
              "      <td>-0.137458</td>\n",
              "      <td>0.141267</td>\n",
              "      <td>-0.206010</td>\n",
              "      <td>0.502292</td>\n",
              "      <td>0.219422</td>\n",
              "      <td>0.215153</td>\n",
              "      <td>69.99</td>\n",
              "      <td>0</td>\n",
              "    </tr>\n",
              "  </tbody>\n",
              "</table>\n",
              "</div>"
            ],
            "text/plain": [
              "   Time        V1        V2        V3  ...       V27       V28  Amount  Class\n",
              "0   0.0 -1.359807 -0.072781  2.536347  ...  0.133558 -0.021053  149.62      0\n",
              "1   0.0  1.191857  0.266151  0.166480  ... -0.008983  0.014724    2.69      0\n",
              "2   1.0 -1.358354 -1.340163  1.773209  ... -0.055353 -0.059752  378.66      0\n",
              "3   1.0 -0.966272 -0.185226  1.792993  ...  0.062723  0.061458  123.50      0\n",
              "4   2.0 -1.158233  0.877737  1.548718  ...  0.219422  0.215153   69.99      0\n",
              "\n",
              "[5 rows x 31 columns]"
            ]
          },
          "metadata": {
            "tags": []
          },
          "execution_count": 9
        }
      ]
    },
    {
      "cell_type": "code",
      "metadata": {
        "id": "qrvZU8fmoyKy",
        "colab_type": "code",
        "outputId": "b0bd61b9-b465-4ba4-c814-1ca41b6ac5d4",
        "colab": {
          "base_uri": "https://localhost:8080/",
          "height": 334
        }
      },
      "source": [
        "import seaborn as sns\n",
        "sns.countplot(data[\"Class\"],label=\"Count\")\n",
        "plt.show()"
      ],
      "execution_count": 9,
      "outputs": [
        {
          "output_type": "stream",
          "text": [
            "/usr/local/lib/python3.6/dist-packages/statsmodels/tools/_testing.py:19: FutureWarning: pandas.util.testing is deprecated. Use the functions in the public API at pandas.testing instead.\n",
            "  import pandas.util.testing as tm\n"
          ],
          "name": "stderr"
        },
        {
          "output_type": "display_data",
          "data": {
            "image/png": "[encoded data removed]",
            "text/plain": [
              "<Figure size 432x288 with 1 Axes>"
            ]
          },
          "metadata": {
            "tags": [],
            "needs_background": "light"
          }
        }
      ]
    },
    {
      "cell_type": "code",
      "metadata": {
        "id": "d_Lo9g4Aa1rr",
        "colab_type": "code",
        "outputId": "8361fe1f-884c-42c6-be89-cdaaffb352f5",
        "colab": {
          "base_uri": "https://localhost:8080/",
          "height": 625
        }
      },
      "source": [
        "# Correlation matrix \n",
        "corrmat = data.corr() \n",
        "fig = plt.figure(figsize = (14, 10)) \n",
        "sns.heatmap(corrmat, vmax = 0.8, square = True) \n",
        "plt.show() \n"
      ],
      "execution_count": 10,
      "outputs": [
        {
          "output_type": "display_data",
          "data": {
            "image/png": "[encoded data removed]",
            "text/plain": [
              "<Figure size 1008x720 with 2 Axes>"
            ]
          },
          "metadata": {
            "tags": [],
            "needs_background": "light"
          }
        }
      ]
    },
    {
      "cell_type": "markdown",
      "metadata": {
        "id": "DxYAPsaVa1dy",
        "colab_type": "text"
      },
      "source": [
        "In the HeatMap we can clearly see that most of the features do not correlate to other features but there are some features that either has a positive or a negative correlation with each other"
      ]
    },
    {
      "cell_type": "markdown",
      "metadata": {
        "id": "6TAZ_MMYoyK1",
        "colab_type": "text"
      },
      "source": [
        "# Data modeling "
      ]
    },
    {
      "cell_type": "code",
      "metadata": {
        "id": "MKnYefcIoyK2",
        "colab_type": "code",
        "outputId": "d0b47c0b-b163-484f-beb2-baa45da49aaa",
        "colab": {
          "base_uri": "https://localhost:8080/",
          "height": 52
        }
      },
      "source": [
        "#Dividing the data into inputs parameters and outputs value format\n",
        "\n",
        "X = data[['Time','Amount']]\n",
        "Y = data[\"Class\"] \n",
        "print(X.shape) \n",
        "print(Y.shape) \n",
        "\n"
      ],
      "execution_count": 11,
      "outputs": [
        {
          "output_type": "stream",
          "text": [
            "(284807, 2)\n",
            "(284807,)\n"
          ],
          "name": "stdout"
        }
      ]
    },
    {
      "cell_type": "code",
      "metadata": {
        "id": "K37dOo8qoyK6",
        "colab_type": "code",
        "colab": {}
      },
      "source": [
        "#Training and Testing Data Bifurcation\n",
        "from sklearn.model_selection import train_test_split\n",
        "xTrain, xTest, yTrain, yTest = train_test_split(X, Y, test_size = 0.2, random_state = 40)"
      ],
      "execution_count": 0,
      "outputs": []
    },
    {
      "cell_type": "markdown",
      "metadata": {
        "id": "KVvjeD76oyK9",
        "colab_type": "text"
      },
      "source": [
        "# Logistic Regression"
      ]
    },
    {
      "cell_type": "code",
      "metadata": {
        "id": "AcTgPd7IoyK-",
        "colab_type": "code",
        "outputId": "31af8694-fe88-464e-b4f8-07497e13f746",
        "colab": {
          "base_uri": "https://localhost:8080/",
          "height": 52
        }
      },
      "source": [
        "from sklearn.linear_model import LogisticRegression\n",
        "logreg = LogisticRegression(random_state= 40,multi_class='ovr')\n",
        "logreg.fit(xTrain,yTrain)\n",
        "print('Accuracy of Logistic regression classifier on training set: {:.2f}'\n",
        "     .format(logreg.score(xTrain, yTrain)))\n",
        "print('Accuracy of Logistic regression classifier on test set: {:.2f}'\n",
        "     .format(logreg.score(xTest, yTest)))"
      ],
      "execution_count": 15,
      "outputs": [
        {
          "output_type": "stream",
          "text": [
            "Accuracy of Logistic regression classifier on training set: 1.00\n",
            "Accuracy of Logistic regression classifier on test set: 1.00\n"
          ],
          "name": "stdout"
        }
      ]
    },
    {
      "cell_type": "code",
      "metadata": {
        "id": "NzAYMefboyLC",
        "colab_type": "code",
        "outputId": "26c99f52-30c5-4e65-dbb7-3f288dbb6e56",
        "colab": {
          "base_uri": "https://localhost:8080/",
          "height": 34
        }
      },
      "source": [
        "print(\"w0 =\", logreg.intercept_[0], \", w1 = \", logreg.coef_[0][0], \", w2 = \", logreg.coef_[0][1])"
      ],
      "execution_count": 16,
      "outputs": [
        {
          "output_type": "stream",
          "text": [
            "w0 = -5.872956642663144 , w1 =  -5.702828806137392e-06 , w2 =  0.0002130614986083354\n"
          ],
          "name": "stdout"
        }
      ]
    },
    {
      "cell_type": "markdown",
      "metadata": {
        "id": "lD82WmenoyLF",
        "colab_type": "text"
      },
      "source": [
        "# Decision tree"
      ]
    },
    {
      "cell_type": "code",
      "metadata": {
        "id": "0gAX0q74oyLG",
        "colab_type": "code",
        "outputId": "2e961cc9-6363-4595-ab40-603b8f5c5e74",
        "colab": {
          "base_uri": "https://localhost:8080/",
          "height": 34
        }
      },
      "source": [
        "from sklearn.tree import DecisionTreeClassifier\n",
        "from sklearn.metrics import accuracy_score\n",
        "\n",
        "tree_clf = DecisionTreeClassifier(random_state=42)\n",
        "tree_clf.fit(xTrain, yTrain)\n",
        "y_pred_tree = tree_clf.predict(xTest)\n",
        "\n",
        "print(accuracy_score(yTest, y_pred_tree))\n"
      ],
      "execution_count": 17,
      "outputs": [
        {
          "output_type": "stream",
          "text": [
            "0.9971735542993575\n"
          ],
          "name": "stdout"
        }
      ]
    },
    {
      "cell_type": "code",
      "metadata": {
        "colab_type": "code",
        "outputId": "eefca251-5b27-418b-d2f0-140d6b962f34",
        "id": "hUUqQcL3A_Hf",
        "colab": {
          "base_uri": "https://localhost:8080/",
          "height": 1000
        }
      },
      "source": [
        "from graphviz import Source\n",
        "from sklearn.tree import export_graphviz\n",
        "\n",
        "dot_data = export_graphviz(\n",
        "        tree_clf,\n",
        "        out_file=None, \n",
        "        feature_names=[\"x1\", \"x2\"],\n",
        "        class_names=[\"yellow\", \"blue\"],\n",
        "        rounded=True,\n",
        "        filled=True,\n",
        "        max_depth = 5\n",
        "\n",
        "    )\n",
        "graph = Source(dot_data)  \n",
        "graph\n",
        "    \n",
        "   \n",
        "    \n"
      ],
      "execution_count": 18,
      "outputs": [
        {
          "output_type": "execute_result",
          "data": {
            "text/plain": [
              "<graphviz.files.Source at 0x7f1ff9a76080>"
            ],
            "image/svg+xml": "<?xml version=\"1.0\" encoding=\"UTF-8\" standalone=\"no\"?>\n<!DOCTYPE svg PUBLIC \"-//W3C//DTD SVG 1.1//EN\"\n \"http://www.w3.org/Graphics/SVG/1.1/DTD/svg11.dtd\">\n<!-- Generated by graphviz version 2.40.1 (20161225.0304)\n -->\n<!-- Title: Tree Pages: 1 -->\n<svg width=\"3677pt\" height=\"758pt\"\n viewBox=\"0.00 0.00 3677.00 758.00\" xmlns=\"http://www.w3.org/2000/svg\" xmlns:xlink=\"http://www.w3.org/1999/xlink\">\n<g id=\"graph0\" class=\"graph\" transform=\"scale(1 1) rotate(0) translate(4 754)\">\n<title>Tree</title>\n<polygon fill=\"#ffffff\" stroke=\"transparent\" points=\"-4,4 -4,-754 3673,-754 3673,4 -4,4\"/>\n<!-- 0 -->\n<g id=\"node1\" class=\"node\">\n<title>0</title>\n<path fill=\"#e58139\" stroke=\"#000000\" d=\"M1379.5,-750C1379.5,-750 1246.5,-750 1246.5,-750 1240.5,-750 1234.5,-744 1234.5,-738 1234.5,-738 1234.5,-679 1234.5,-679 1234.5,-673 1240.5,-667 1246.5,-667 1246.5,-667 1379.5,-667 1379.5,-667 1385.5,-667 1391.5,-673 1391.5,-679 1391.5,-679 1391.5,-738 1391.5,-738 1391.5,-744 1385.5,-750 1379.5,-750\"/>\n<text text-anchor=\"middle\" x=\"1313\" y=\"-734.8\" font-family=\"Helvetica,sans-Serif\" font-size=\"14.00\" fill=\"#000000\">x2 &lt;= 1.185</text>\n<text text-anchor=\"middle\" x=\"1313\" y=\"-719.8\" font-family=\"Helvetica,sans-Serif\" font-size=\"14.00\" fill=\"#000000\">gini = 0.003</text>\n<text text-anchor=\"middle\" x=\"1313\" y=\"-704.8\" font-family=\"Helvetica,sans-Serif\" font-size=\"14.00\" fill=\"#000000\">samples = 227845</text>\n<text text-anchor=\"middle\" x=\"1313\" y=\"-689.8\" font-family=\"Helvetica,sans-Serif\" font-size=\"14.00\" fill=\"#000000\">value = [227450, 395]</text>\n<text text-anchor=\"middle\" x=\"1313\" y=\"-674.8\" font-family=\"Helvetica,sans-Serif\" font-size=\"14.00\" fill=\"#000000\">class = yellow</text>\n</g>\n<!-- 1 -->\n<g id=\"node2\" class=\"node\">\n<title>1</title>\n<path fill=\"#e5823a\" stroke=\"#000000\" d=\"M856.5,-631C856.5,-631 731.5,-631 731.5,-631 725.5,-631 719.5,-625 719.5,-619 719.5,-619 719.5,-560 719.5,-560 719.5,-554 725.5,-548 731.5,-548 731.5,-548 856.5,-548 856.5,-548 862.5,-548 868.5,-554 868.5,-560 868.5,-560 868.5,-619 868.5,-619 868.5,-625 862.5,-631 856.5,-631\"/>\n<text text-anchor=\"middle\" x=\"794\" y=\"-615.8\" font-family=\"Helvetica,sans-Serif\" font-size=\"14.00\" fill=\"#000000\">x1 &lt;= 21697.0</text>\n<text text-anchor=\"middle\" x=\"794\" y=\"-600.8\" font-family=\"Helvetica,sans-Serif\" font-size=\"14.00\" fill=\"#000000\">gini = 0.012</text>\n<text text-anchor=\"middle\" x=\"794\" y=\"-585.8\" font-family=\"Helvetica,sans-Serif\" font-size=\"14.00\" fill=\"#000000\">samples = 24950</text>\n<text text-anchor=\"middle\" x=\"794\" y=\"-570.8\" font-family=\"Helvetica,sans-Serif\" font-size=\"14.00\" fill=\"#000000\">value = [24799, 151]</text>\n<text text-anchor=\"middle\" x=\"794\" y=\"-555.8\" font-family=\"Helvetica,sans-Serif\" font-size=\"14.00\" fill=\"#000000\">class = yellow</text>\n</g>\n<!-- 0&#45;&gt;1 -->\n<g id=\"edge1\" class=\"edge\">\n<title>0&#45;&gt;1</title>\n<path fill=\"none\" stroke=\"#000000\" d=\"M1234.457,-690.4911C1138.5687,-668.5051 977.0403,-631.4688 878.5169,-608.8786\"/>\n<polygon fill=\"#000000\" stroke=\"#000000\" points=\"879.1234,-605.4269 868.5941,-606.6035 877.559,-612.2499 879.1234,-605.4269\"/>\n<text text-anchor=\"middle\" x=\"881.8739\" y=\"-624.0848\" font-family=\"Helvetica,sans-Serif\" font-size=\"14.00\" fill=\"#000000\">True</text>\n</g>\n<!-- 526 -->\n<g id=\"node39\" class=\"node\">\n<title>526</title>\n<path fill=\"#e58139\" stroke=\"#000000\" d=\"M2035.5,-631C2035.5,-631 1902.5,-631 1902.5,-631 1896.5,-631 1890.5,-625 1890.5,-619 1890.5,-619 1890.5,-560 1890.5,-560 1890.5,-554 1896.5,-548 1902.5,-548 1902.5,-548 2035.5,-548 2035.5,-548 2041.5,-548 2047.5,-554 2047.5,-560 2047.5,-560 2047.5,-619 2047.5,-619 2047.5,-625 2041.5,-631 2035.5,-631\"/>\n<text text-anchor=\"middle\" x=\"1969\" y=\"-615.8\" font-family=\"Helvetica,sans-Serif\" font-size=\"14.00\" fill=\"#000000\">x2 &lt;= 99.895</text>\n<text text-anchor=\"middle\" x=\"1969\" y=\"-600.8\" font-family=\"Helvetica,sans-Serif\" font-size=\"14.00\" fill=\"#000000\">gini = 0.002</text>\n<text text-anchor=\"middle\" x=\"1969\" y=\"-585.8\" font-family=\"Helvetica,sans-Serif\" font-size=\"14.00\" fill=\"#000000\">samples = 202895</text>\n<text text-anchor=\"middle\" x=\"1969\" y=\"-570.8\" font-family=\"Helvetica,sans-Serif\" font-size=\"14.00\" fill=\"#000000\">value = [202651, 244]</text>\n<text text-anchor=\"middle\" x=\"1969\" y=\"-555.8\" font-family=\"Helvetica,sans-Serif\" font-size=\"14.00\" fill=\"#000000\">class = yellow</text>\n</g>\n<!-- 0&#45;&gt;526 -->\n<g id=\"edge38\" class=\"edge\">\n<title>0&#45;&gt;526</title>\n<path fill=\"none\" stroke=\"#000000\" d=\"M1391.8029,-694.205C1514.6894,-671.9131 1751.2032,-629.0089 1880.041,-605.6374\"/>\n<polygon fill=\"#000000\" stroke=\"#000000\" points=\"1881.0523,-609.0111 1890.267,-603.7824 1879.8028,-602.1235 1881.0523,-609.0111\"/>\n<text text-anchor=\"middle\" x=\"1876.0284\" y=\"-620.6314\" font-family=\"Helvetica,sans-Serif\" font-size=\"14.00\" fill=\"#000000\">False</text>\n</g>\n<!-- 2 -->\n<g id=\"node3\" class=\"node\">\n<title>2</title>\n<path fill=\"#e6853f\" stroke=\"#000000\" d=\"M277,-512C277,-512 169,-512 169,-512 163,-512 157,-506 157,-500 157,-500 157,-441 157,-441 157,-435 163,-429 169,-429 169,-429 277,-429 277,-429 283,-429 289,-435 289,-441 289,-441 289,-500 289,-500 289,-506 283,-512 277,-512\"/>\n<text text-anchor=\"middle\" x=\"223\" y=\"-496.8\" font-family=\"Helvetica,sans-Serif\" font-size=\"14.00\" fill=\"#000000\">x1 &lt;= 7482.0</text>\n<text text-anchor=\"middle\" x=\"223\" y=\"-481.8\" font-family=\"Helvetica,sans-Serif\" font-size=\"14.00\" fill=\"#000000\">gini = 0.053</text>\n<text text-anchor=\"middle\" x=\"223\" y=\"-466.8\" font-family=\"Helvetica,sans-Serif\" font-size=\"14.00\" fill=\"#000000\">samples = 1140</text>\n<text text-anchor=\"middle\" x=\"223\" y=\"-451.8\" font-family=\"Helvetica,sans-Serif\" font-size=\"14.00\" fill=\"#000000\">value = [1109, 31]</text>\n<text text-anchor=\"middle\" x=\"223\" y=\"-436.8\" font-family=\"Helvetica,sans-Serif\" font-size=\"14.00\" fill=\"#000000\">class = yellow</text>\n</g>\n<!-- 1&#45;&gt;2 -->\n<g id=\"edge2\" class=\"edge\">\n<title>1&#45;&gt;2</title>\n<path fill=\"none\" stroke=\"#000000\" d=\"M719.3517,-573.9428C610.448,-551.2466 409.0636,-509.2768 299.2572,-486.3925\"/>\n<polygon fill=\"#000000\" stroke=\"#000000\" points=\"299.7504,-482.9201 289.2466,-484.3062 298.3221,-489.7729 299.7504,-482.9201\"/>\n</g>\n<!-- 79 -->\n<g id=\"node14\" class=\"node\">\n<title>79</title>\n<path fill=\"#e5823a\" stroke=\"#000000\" d=\"M856.5,-512C856.5,-512 731.5,-512 731.5,-512 725.5,-512 719.5,-506 719.5,-500 719.5,-500 719.5,-441 719.5,-441 719.5,-435 725.5,-429 731.5,-429 731.5,-429 856.5,-429 856.5,-429 862.5,-429 868.5,-435 868.5,-441 868.5,-441 868.5,-500 868.5,-500 868.5,-506 862.5,-512 856.5,-512\"/>\n<text text-anchor=\"middle\" x=\"794\" y=\"-496.8\" font-family=\"Helvetica,sans-Serif\" font-size=\"14.00\" fill=\"#000000\">x2 &lt;= 0.015</text>\n<text text-anchor=\"middle\" x=\"794\" y=\"-481.8\" font-family=\"Helvetica,sans-Serif\" font-size=\"14.00\" fill=\"#000000\">gini = 0.01</text>\n<text text-anchor=\"middle\" x=\"794\" y=\"-466.8\" font-family=\"Helvetica,sans-Serif\" font-size=\"14.00\" fill=\"#000000\">samples = 23810</text>\n<text text-anchor=\"middle\" x=\"794\" y=\"-451.8\" font-family=\"Helvetica,sans-Serif\" font-size=\"14.00\" fill=\"#000000\">value = [23690, 120]</text>\n<text text-anchor=\"middle\" x=\"794\" y=\"-436.8\" font-family=\"Helvetica,sans-Serif\" font-size=\"14.00\" fill=\"#000000\">class = yellow</text>\n</g>\n<!-- 1&#45;&gt;79 -->\n<g id=\"edge13\" class=\"edge\">\n<title>1&#45;&gt;79</title>\n<path fill=\"none\" stroke=\"#000000\" d=\"M794,-547.8796C794,-539.6838 794,-530.9891 794,-522.5013\"/>\n<polygon fill=\"#000000\" stroke=\"#000000\" points=\"797.5001,-522.298 794,-512.2981 790.5001,-522.2981 797.5001,-522.298\"/>\n</g>\n<!-- 3 -->\n<g id=\"node4\" class=\"node\">\n<title>3</title>\n<path fill=\"#e58139\" stroke=\"#000000\" d=\"M131,-385.5C131,-385.5 39,-385.5 39,-385.5 33,-385.5 27,-379.5 27,-373.5 27,-373.5 27,-329.5 27,-329.5 27,-323.5 33,-317.5 39,-317.5 39,-317.5 131,-317.5 131,-317.5 137,-317.5 143,-323.5 143,-329.5 143,-329.5 143,-373.5 143,-373.5 143,-379.5 137,-385.5 131,-385.5\"/>\n<text text-anchor=\"middle\" x=\"85\" y=\"-370.3\" font-family=\"Helvetica,sans-Serif\" font-size=\"14.00\" fill=\"#000000\">gini = 0.0</text>\n<text text-anchor=\"middle\" x=\"85\" y=\"-355.3\" font-family=\"Helvetica,sans-Serif\" font-size=\"14.00\" fill=\"#000000\">samples = 738</text>\n<text text-anchor=\"middle\" x=\"85\" y=\"-340.3\" font-family=\"Helvetica,sans-Serif\" font-size=\"14.00\" fill=\"#000000\">value = [738, 0]</text>\n<text text-anchor=\"middle\" x=\"85\" y=\"-325.3\" font-family=\"Helvetica,sans-Serif\" font-size=\"14.00\" fill=\"#000000\">class = yellow</text>\n</g>\n<!-- 2&#45;&gt;3 -->\n<g id=\"edge3\" class=\"edge\">\n<title>2&#45;&gt;3</title>\n<path fill=\"none\" stroke=\"#000000\" d=\"M174.7343,-428.8796C161.0899,-417.1138 146.2531,-404.3197 132.6454,-392.5855\"/>\n<polygon fill=\"#000000\" stroke=\"#000000\" points=\"134.6527,-389.6948 124.7938,-385.8149 130.0813,-394.9961 134.6527,-389.6948\"/>\n</g>\n<!-- 4 -->\n<g id=\"node5\" class=\"node\">\n<title>4</title>\n<path fill=\"#e78c4a\" stroke=\"#000000\" d=\"M273,-393C273,-393 173,-393 173,-393 167,-393 161,-387 161,-381 161,-381 161,-322 161,-322 161,-316 167,-310 173,-310 173,-310 273,-310 273,-310 279,-310 285,-316 285,-322 285,-322 285,-381 285,-381 285,-387 279,-393 273,-393\"/>\n<text text-anchor=\"middle\" x=\"223\" y=\"-377.8\" font-family=\"Helvetica,sans-Serif\" font-size=\"14.00\" fill=\"#000000\">x2 &lt;= 0.995</text>\n<text text-anchor=\"middle\" x=\"223\" y=\"-362.8\" font-family=\"Helvetica,sans-Serif\" font-size=\"14.00\" fill=\"#000000\">gini = 0.142</text>\n<text text-anchor=\"middle\" x=\"223\" y=\"-347.8\" font-family=\"Helvetica,sans-Serif\" font-size=\"14.00\" fill=\"#000000\">samples = 402</text>\n<text text-anchor=\"middle\" x=\"223\" y=\"-332.8\" font-family=\"Helvetica,sans-Serif\" font-size=\"14.00\" fill=\"#000000\">value = [371, 31]</text>\n<text text-anchor=\"middle\" x=\"223\" y=\"-317.8\" font-family=\"Helvetica,sans-Serif\" font-size=\"14.00\" fill=\"#000000\">class = yellow</text>\n</g>\n<!-- 2&#45;&gt;4 -->\n<g id=\"edge4\" class=\"edge\">\n<title>2&#45;&gt;4</title>\n<path fill=\"none\" stroke=\"#000000\" d=\"M223,-428.8796C223,-420.6838 223,-411.9891 223,-403.5013\"/>\n<polygon fill=\"#000000\" stroke=\"#000000\" points=\"226.5001,-403.298 223,-393.2981 219.5001,-403.2981 226.5001,-403.298\"/>\n</g>\n<!-- 5 -->\n<g id=\"node6\" class=\"node\">\n<title>5</title>\n<path fill=\"#e58139\" stroke=\"#000000\" d=\"M135,-266.5C135,-266.5 43,-266.5 43,-266.5 37,-266.5 31,-260.5 31,-254.5 31,-254.5 31,-210.5 31,-210.5 31,-204.5 37,-198.5 43,-198.5 43,-198.5 135,-198.5 135,-198.5 141,-198.5 147,-204.5 147,-210.5 147,-210.5 147,-254.5 147,-254.5 147,-260.5 141,-266.5 135,-266.5\"/>\n<text text-anchor=\"middle\" x=\"89\" y=\"-251.3\" font-family=\"Helvetica,sans-Serif\" font-size=\"14.00\" fill=\"#000000\">gini = 0.0</text>\n<text text-anchor=\"middle\" x=\"89\" y=\"-236.3\" font-family=\"Helvetica,sans-Serif\" font-size=\"14.00\" fill=\"#000000\">samples = 306</text>\n<text text-anchor=\"middle\" x=\"89\" y=\"-221.3\" font-family=\"Helvetica,sans-Serif\" font-size=\"14.00\" fill=\"#000000\">value = [306, 0]</text>\n<text text-anchor=\"middle\" x=\"89\" y=\"-206.3\" font-family=\"Helvetica,sans-Serif\" font-size=\"14.00\" fill=\"#000000\">class = yellow</text>\n</g>\n<!-- 4&#45;&gt;5 -->\n<g id=\"edge5\" class=\"edge\">\n<title>4&#45;&gt;5</title>\n<path fill=\"none\" stroke=\"#000000\" d=\"M176.1333,-309.8796C162.8844,-298.1138 148.4776,-285.3197 135.2644,-273.5855\"/>\n<polygon fill=\"#000000\" stroke=\"#000000\" points=\"137.4416,-270.8381 127.6403,-266.8149 132.7935,-276.0722 137.4416,-270.8381\"/>\n</g>\n<!-- 6 -->\n<g id=\"node7\" class=\"node\">\n<title>6</title>\n<path fill=\"#f1bd97\" stroke=\"#000000\" d=\"M269,-274C269,-274 177,-274 177,-274 171,-274 165,-268 165,-262 165,-262 165,-203 165,-203 165,-197 171,-191 177,-191 177,-191 269,-191 269,-191 275,-191 281,-197 281,-203 281,-203 281,-262 281,-262 281,-268 275,-274 269,-274\"/>\n<text text-anchor=\"middle\" x=\"223\" y=\"-258.8\" font-family=\"Helvetica,sans-Serif\" font-size=\"14.00\" fill=\"#000000\">x1 &lt;= 8878.5</text>\n<text text-anchor=\"middle\" x=\"223\" y=\"-243.8\" font-family=\"Helvetica,sans-Serif\" font-size=\"14.00\" fill=\"#000000\">gini = 0.437</text>\n<text text-anchor=\"middle\" x=\"223\" y=\"-228.8\" font-family=\"Helvetica,sans-Serif\" font-size=\"14.00\" fill=\"#000000\">samples = 96</text>\n<text text-anchor=\"middle\" x=\"223\" y=\"-213.8\" font-family=\"Helvetica,sans-Serif\" font-size=\"14.00\" fill=\"#000000\">value = [65, 31]</text>\n<text text-anchor=\"middle\" x=\"223\" y=\"-198.8\" font-family=\"Helvetica,sans-Serif\" font-size=\"14.00\" fill=\"#000000\">class = yellow</text>\n</g>\n<!-- 4&#45;&gt;6 -->\n<g id=\"edge6\" class=\"edge\">\n<title>4&#45;&gt;6</title>\n<path fill=\"none\" stroke=\"#000000\" d=\"M223,-309.8796C223,-301.6838 223,-292.9891 223,-284.5013\"/>\n<polygon fill=\"#000000\" stroke=\"#000000\" points=\"226.5001,-284.298 223,-274.2981 219.5001,-284.2981 226.5001,-284.298\"/>\n</g>\n<!-- 7 -->\n<g id=\"node8\" class=\"node\">\n<title>7</title>\n<path fill=\"#9ccef2\" stroke=\"#000000\" d=\"M134.5,-155C134.5,-155 51.5,-155 51.5,-155 45.5,-155 39.5,-149 39.5,-143 39.5,-143 39.5,-84 39.5,-84 39.5,-78 45.5,-72 51.5,-72 51.5,-72 134.5,-72 134.5,-72 140.5,-72 146.5,-78 146.5,-84 146.5,-84 146.5,-143 146.5,-143 146.5,-149 140.5,-155 134.5,-155\"/>\n<text text-anchor=\"middle\" x=\"93\" y=\"-139.8\" font-family=\"Helvetica,sans-Serif\" font-size=\"14.00\" fill=\"#000000\">x1 &lt;= 7635.0</text>\n<text text-anchor=\"middle\" x=\"93\" y=\"-124.8\" font-family=\"Helvetica,sans-Serif\" font-size=\"14.00\" fill=\"#000000\">gini = 0.444</text>\n<text text-anchor=\"middle\" x=\"93\" y=\"-109.8\" font-family=\"Helvetica,sans-Serif\" font-size=\"14.00\" fill=\"#000000\">samples = 24</text>\n<text text-anchor=\"middle\" x=\"93\" y=\"-94.8\" font-family=\"Helvetica,sans-Serif\" font-size=\"14.00\" fill=\"#000000\">value = [8, 16]</text>\n<text text-anchor=\"middle\" x=\"93\" y=\"-79.8\" font-family=\"Helvetica,sans-Serif\" font-size=\"14.00\" fill=\"#000000\">class = blue</text>\n</g>\n<!-- 6&#45;&gt;7 -->\n<g id=\"edge7\" class=\"edge\">\n<title>6&#45;&gt;7</title>\n<path fill=\"none\" stroke=\"#000000\" d=\"M177.5323,-190.8796C167.3983,-181.6031 156.566,-171.6874 146.1535,-162.1559\"/>\n<polygon fill=\"#000000\" stroke=\"#000000\" points=\"148.4013,-159.4685 138.6618,-155.2981 143.6748,-164.6319 148.4013,-159.4685\"/>\n</g>\n<!-- 28 -->\n<g id=\"node11\" class=\"node\">\n<title>28</title>\n<path fill=\"#eca26d\" stroke=\"#000000\" d=\"M269,-155C269,-155 177,-155 177,-155 171,-155 165,-149 165,-143 165,-143 165,-84 165,-84 165,-78 171,-72 177,-72 177,-72 269,-72 269,-72 275,-72 281,-78 281,-84 281,-84 281,-143 281,-143 281,-149 275,-155 269,-155\"/>\n<text text-anchor=\"middle\" x=\"223\" y=\"-139.8\" font-family=\"Helvetica,sans-Serif\" font-size=\"14.00\" fill=\"#000000\">x1 &lt;= 21264.5</text>\n<text text-anchor=\"middle\" x=\"223\" y=\"-124.8\" font-family=\"Helvetica,sans-Serif\" font-size=\"14.00\" fill=\"#000000\">gini = 0.33</text>\n<text text-anchor=\"middle\" x=\"223\" y=\"-109.8\" font-family=\"Helvetica,sans-Serif\" font-size=\"14.00\" fill=\"#000000\">samples = 72</text>\n<text text-anchor=\"middle\" x=\"223\" y=\"-94.8\" font-family=\"Helvetica,sans-Serif\" font-size=\"14.00\" fill=\"#000000\">value = [57, 15]</text>\n<text text-anchor=\"middle\" x=\"223\" y=\"-79.8\" font-family=\"Helvetica,sans-Serif\" font-size=\"14.00\" fill=\"#000000\">class = yellow</text>\n</g>\n<!-- 6&#45;&gt;28 -->\n<g id=\"edge10\" class=\"edge\">\n<title>6&#45;&gt;28</title>\n<path fill=\"none\" stroke=\"#000000\" d=\"M223,-190.8796C223,-182.6838 223,-173.9891 223,-165.5013\"/>\n<polygon fill=\"#000000\" stroke=\"#000000\" points=\"226.5001,-165.298 223,-155.2981 219.5001,-165.2981 226.5001,-165.298\"/>\n</g>\n<!-- 8 -->\n<g id=\"node9\" class=\"node\">\n<title>8</title>\n<path fill=\"#c0c0c0\" stroke=\"#000000\" d=\"M42,-36C42,-36 12,-36 12,-36 6,-36 0,-30 0,-24 0,-24 0,-12 0,-12 0,-6 6,0 12,0 12,0 42,0 42,0 48,0 54,-6 54,-12 54,-12 54,-24 54,-24 54,-30 48,-36 42,-36\"/>\n<text text-anchor=\"middle\" x=\"27\" y=\"-14.3\" font-family=\"Helvetica,sans-Serif\" font-size=\"14.00\" fill=\"#000000\">(...)</text>\n</g>\n<!-- 7&#45;&gt;8 -->\n<g id=\"edge8\" class=\"edge\">\n<title>7&#45;&gt;8</title>\n<path fill=\"none\" stroke=\"#000000\" d=\"M64.2434,-71.8901C57.8495,-62.6384 51.2396,-53.0739 45.3952,-44.6173\"/>\n<polygon fill=\"#000000\" stroke=\"#000000\" points=\"48.1877,-42.5018 39.623,-36.2651 42.4291,-46.4816 48.1877,-42.5018\"/>\n</g>\n<!-- 9 -->\n<g id=\"node10\" class=\"node\">\n<title>9</title>\n<path fill=\"#c0c0c0\" stroke=\"#000000\" d=\"M114,-36C114,-36 84,-36 84,-36 78,-36 72,-30 72,-24 72,-24 72,-12 72,-12 72,-6 78,0 84,0 84,0 114,0 114,0 120,0 126,-6 126,-12 126,-12 126,-24 126,-24 126,-30 120,-36 114,-36\"/>\n<text text-anchor=\"middle\" x=\"99\" y=\"-14.3\" font-family=\"Helvetica,sans-Serif\" font-size=\"14.00\" fill=\"#000000\">(...)</text>\n</g>\n<!-- 7&#45;&gt;9 -->\n<g id=\"edge9\" class=\"edge\">\n<title>7&#45;&gt;9</title>\n<path fill=\"none\" stroke=\"#000000\" d=\"M95.6142,-71.8901C96.1527,-63.3201 96.708,-54.4817 97.2092,-46.5041\"/>\n<polygon fill=\"#000000\" stroke=\"#000000\" points=\"100.7184,-46.4649 97.8525,-36.2651 93.7322,-46.0259 100.7184,-46.4649\"/>\n</g>\n<!-- 29 -->\n<g id=\"node12\" class=\"node\">\n<title>29</title>\n<path fill=\"#c0c0c0\" stroke=\"#000000\" d=\"M210,-36C210,-36 180,-36 180,-36 174,-36 168,-30 168,-24 168,-24 168,-12 168,-12 168,-6 174,0 180,0 180,0 210,0 210,0 216,0 222,-6 222,-12 222,-12 222,-24 222,-24 222,-30 216,-36 210,-36\"/>\n<text text-anchor=\"middle\" x=\"195\" y=\"-14.3\" font-family=\"Helvetica,sans-Serif\" font-size=\"14.00\" fill=\"#000000\">(...)</text>\n</g>\n<!-- 28&#45;&gt;29 -->\n<g id=\"edge11\" class=\"edge\">\n<title>28&#45;&gt;29</title>\n<path fill=\"none\" stroke=\"#000000\" d=\"M210.8002,-71.8901C208.2305,-63.1253 205.5784,-54.0798 203.1981,-45.9615\"/>\n<polygon fill=\"#000000\" stroke=\"#000000\" points=\"206.5274,-44.8764 200.3552,-36.2651 199.8102,-46.8459 206.5274,-44.8764\"/>\n</g>\n<!-- 78 -->\n<g id=\"node13\" class=\"node\">\n<title>78</title>\n<path fill=\"#c0c0c0\" stroke=\"#000000\" d=\"M282,-36C282,-36 252,-36 252,-36 246,-36 240,-30 240,-24 240,-24 240,-12 240,-12 240,-6 246,0 252,0 252,0 282,0 282,0 288,0 294,-6 294,-12 294,-12 294,-24 294,-24 294,-30 288,-36 282,-36\"/>\n<text text-anchor=\"middle\" x=\"267\" y=\"-14.3\" font-family=\"Helvetica,sans-Serif\" font-size=\"14.00\" fill=\"#000000\">(...)</text>\n</g>\n<!-- 28&#45;&gt;78 -->\n<g id=\"edge12\" class=\"edge\">\n<title>28&#45;&gt;78</title>\n<path fill=\"none\" stroke=\"#000000\" d=\"M242.171,-71.8901C246.299,-62.9305 250.5621,-53.6777 254.3659,-45.4217\"/>\n<polygon fill=\"#000000\" stroke=\"#000000\" points=\"257.5789,-46.8121 258.5847,-36.2651 251.2212,-43.8829 257.5789,-46.8121\"/>\n</g>\n<!-- 80 -->\n<g id=\"node15\" class=\"node\">\n<title>80</title>\n<path fill=\"#e5833c\" stroke=\"#000000\" d=\"M771,-393C771,-393 663,-393 663,-393 657,-393 651,-387 651,-381 651,-381 651,-322 651,-322 651,-316 657,-310 663,-310 663,-310 771,-310 771,-310 777,-310 783,-316 783,-322 783,-322 783,-381 783,-381 783,-387 777,-393 771,-393\"/>\n<text text-anchor=\"middle\" x=\"717\" y=\"-377.8\" font-family=\"Helvetica,sans-Serif\" font-size=\"14.00\" fill=\"#000000\">x1 &lt;= 84185.0</text>\n<text text-anchor=\"middle\" x=\"717\" y=\"-362.8\" font-family=\"Helvetica,sans-Serif\" font-size=\"14.00\" fill=\"#000000\">gini = 0.029</text>\n<text text-anchor=\"middle\" x=\"717\" y=\"-347.8\" font-family=\"Helvetica,sans-Serif\" font-size=\"14.00\" fill=\"#000000\">samples = 1819</text>\n<text text-anchor=\"middle\" x=\"717\" y=\"-332.8\" font-family=\"Helvetica,sans-Serif\" font-size=\"14.00\" fill=\"#000000\">value = [1792, 27]</text>\n<text text-anchor=\"middle\" x=\"717\" y=\"-317.8\" font-family=\"Helvetica,sans-Serif\" font-size=\"14.00\" fill=\"#000000\">class = yellow</text>\n</g>\n<!-- 79&#45;&gt;80 -->\n<g id=\"edge14\" class=\"edge\">\n<title>79&#45;&gt;80</title>\n<path fill=\"none\" stroke=\"#000000\" d=\"M767.0691,-428.8796C761.4163,-420.1434 755.3967,-410.8404 749.5634,-401.8253\"/>\n<polygon fill=\"#000000\" stroke=\"#000000\" points=\"752.4169,-399.7924 744.0458,-393.2981 746.5399,-403.5952 752.4169,-399.7924\"/>\n</g>\n<!-- 181 -->\n<g id=\"node26\" class=\"node\">\n<title>181</title>\n<path fill=\"#e5823a\" stroke=\"#000000\" d=\"M994,-393C994,-393 878,-393 878,-393 872,-393 866,-387 866,-381 866,-381 866,-322 866,-322 866,-316 872,-310 878,-310 878,-310 994,-310 994,-310 1000,-310 1006,-316 1006,-322 1006,-322 1006,-381 1006,-381 1006,-387 1000,-393 994,-393\"/>\n<text text-anchor=\"middle\" x=\"936\" y=\"-377.8\" font-family=\"Helvetica,sans-Serif\" font-size=\"14.00\" fill=\"#000000\">x2 &lt;= 0.995</text>\n<text text-anchor=\"middle\" x=\"936\" y=\"-362.8\" font-family=\"Helvetica,sans-Serif\" font-size=\"14.00\" fill=\"#000000\">gini = 0.008</text>\n<text text-anchor=\"middle\" x=\"936\" y=\"-347.8\" font-family=\"Helvetica,sans-Serif\" font-size=\"14.00\" fill=\"#000000\">samples = 21991</text>\n<text text-anchor=\"middle\" x=\"936\" y=\"-332.8\" font-family=\"Helvetica,sans-Serif\" font-size=\"14.00\" fill=\"#000000\">value = [21898, 93]</text>\n<text text-anchor=\"middle\" x=\"936\" y=\"-317.8\" font-family=\"Helvetica,sans-Serif\" font-size=\"14.00\" fill=\"#000000\">class = yellow</text>\n</g>\n<!-- 79&#45;&gt;181 -->\n<g id=\"edge25\" class=\"edge\">\n<title>79&#45;&gt;181</title>\n<path fill=\"none\" stroke=\"#000000\" d=\"M843.6647,-428.8796C854.8416,-419.513 866.7962,-409.4948 878.2712,-399.8784\"/>\n<polygon fill=\"#000000\" stroke=\"#000000\" points=\"880.7069,-402.4037 886.1233,-393.2981 876.2107,-397.0386 880.7069,-402.4037\"/>\n</g>\n<!-- 81 -->\n<g id=\"node16\" class=\"node\">\n<title>81</title>\n<path fill=\"#e5823b\" stroke=\"#000000\" d=\"M537,-274C537,-274 445,-274 445,-274 439,-274 433,-268 433,-262 433,-262 433,-203 433,-203 433,-197 439,-191 445,-191 445,-191 537,-191 537,-191 543,-191 549,-197 549,-203 549,-203 549,-262 549,-262 549,-268 543,-274 537,-274\"/>\n<text text-anchor=\"middle\" x=\"491\" y=\"-258.8\" font-family=\"Helvetica,sans-Serif\" font-size=\"14.00\" fill=\"#000000\">x1 &lt;= 64609.5</text>\n<text text-anchor=\"middle\" x=\"491\" y=\"-243.8\" font-family=\"Helvetica,sans-Serif\" font-size=\"14.00\" fill=\"#000000\">gini = 0.015</text>\n<text text-anchor=\"middle\" x=\"491\" y=\"-228.8\" font-family=\"Helvetica,sans-Serif\" font-size=\"14.00\" fill=\"#000000\">samples = 794</text>\n<text text-anchor=\"middle\" x=\"491\" y=\"-213.8\" font-family=\"Helvetica,sans-Serif\" font-size=\"14.00\" fill=\"#000000\">value = [788, 6]</text>\n<text text-anchor=\"middle\" x=\"491\" y=\"-198.8\" font-family=\"Helvetica,sans-Serif\" font-size=\"14.00\" fill=\"#000000\">class = yellow</text>\n</g>\n<!-- 80&#45;&gt;81 -->\n<g id=\"edge15\" class=\"edge\">\n<title>80&#45;&gt;81</title>\n<path fill=\"none\" stroke=\"#000000\" d=\"M650.7196,-316.6001C621.5648,-301.2487 587.3739,-283.2456 558.1231,-267.8436\"/>\n<polygon fill=\"#000000\" stroke=\"#000000\" points=\"559.694,-264.7152 549.215,-263.153 556.4326,-270.9091 559.694,-264.7152\"/>\n</g>\n<!-- 108 -->\n<g id=\"node21\" class=\"node\">\n<title>108</title>\n<path fill=\"#e6843d\" stroke=\"#000000\" d=\"M771,-274C771,-274 663,-274 663,-274 657,-274 651,-268 651,-262 651,-262 651,-203 651,-203 651,-197 657,-191 663,-191 663,-191 771,-191 771,-191 777,-191 783,-197 783,-203 783,-203 783,-262 783,-262 783,-268 777,-274 771,-274\"/>\n<text text-anchor=\"middle\" x=\"717\" y=\"-258.8\" font-family=\"Helvetica,sans-Serif\" font-size=\"14.00\" fill=\"#000000\">x1 &lt;= 84209.5</text>\n<text text-anchor=\"middle\" x=\"717\" y=\"-243.8\" font-family=\"Helvetica,sans-Serif\" font-size=\"14.00\" fill=\"#000000\">gini = 0.04</text>\n<text text-anchor=\"middle\" x=\"717\" y=\"-228.8\" font-family=\"Helvetica,sans-Serif\" font-size=\"14.00\" fill=\"#000000\">samples = 1025</text>\n<text text-anchor=\"middle\" x=\"717\" y=\"-213.8\" font-family=\"Helvetica,sans-Serif\" font-size=\"14.00\" fill=\"#000000\">value = [1004, 21]</text>\n<text text-anchor=\"middle\" x=\"717\" y=\"-198.8\" font-family=\"Helvetica,sans-Serif\" font-size=\"14.00\" fill=\"#000000\">class = yellow</text>\n</g>\n<!-- 80&#45;&gt;108 -->\n<g id=\"edge20\" class=\"edge\">\n<title>80&#45;&gt;108</title>\n<path fill=\"none\" stroke=\"#000000\" d=\"M717,-309.8796C717,-301.6838 717,-292.9891 717,-284.5013\"/>\n<polygon fill=\"#000000\" stroke=\"#000000\" points=\"720.5001,-284.298 717,-274.2981 713.5001,-284.2981 720.5001,-284.298\"/>\n</g>\n<!-- 82 -->\n<g id=\"node17\" class=\"node\">\n<title>82</title>\n<path fill=\"#e5823b\" stroke=\"#000000\" d=\"M403,-155C403,-155 311,-155 311,-155 305,-155 299,-149 299,-143 299,-143 299,-84 299,-84 299,-78 305,-72 311,-72 311,-72 403,-72 403,-72 409,-72 415,-78 415,-84 415,-84 415,-143 415,-143 415,-149 409,-155 403,-155\"/>\n<text text-anchor=\"middle\" x=\"357\" y=\"-139.8\" font-family=\"Helvetica,sans-Serif\" font-size=\"14.00\" fill=\"#000000\">x1 &lt;= 64578.5</text>\n<text text-anchor=\"middle\" x=\"357\" y=\"-124.8\" font-family=\"Helvetica,sans-Serif\" font-size=\"14.00\" fill=\"#000000\">gini = 0.022</text>\n<text text-anchor=\"middle\" x=\"357\" y=\"-109.8\" font-family=\"Helvetica,sans-Serif\" font-size=\"14.00\" fill=\"#000000\">samples = 541</text>\n<text text-anchor=\"middle\" x=\"357\" y=\"-94.8\" font-family=\"Helvetica,sans-Serif\" font-size=\"14.00\" fill=\"#000000\">value = [535, 6]</text>\n<text text-anchor=\"middle\" x=\"357\" y=\"-79.8\" font-family=\"Helvetica,sans-Serif\" font-size=\"14.00\" fill=\"#000000\">class = yellow</text>\n</g>\n<!-- 81&#45;&gt;82 -->\n<g id=\"edge16\" class=\"edge\">\n<title>81&#45;&gt;82</title>\n<path fill=\"none\" stroke=\"#000000\" d=\"M444.1333,-190.8796C433.6875,-181.6031 422.5219,-171.6874 411.789,-162.1559\"/>\n<polygon fill=\"#000000\" stroke=\"#000000\" points=\"413.868,-159.3213 404.0667,-155.2981 409.2199,-164.5553 413.868,-159.3213\"/>\n</g>\n<!-- 107 -->\n<g id=\"node20\" class=\"node\">\n<title>107</title>\n<path fill=\"#e58139\" stroke=\"#000000\" d=\"M537,-147.5C537,-147.5 445,-147.5 445,-147.5 439,-147.5 433,-141.5 433,-135.5 433,-135.5 433,-91.5 433,-91.5 433,-85.5 439,-79.5 445,-79.5 445,-79.5 537,-79.5 537,-79.5 543,-79.5 549,-85.5 549,-91.5 549,-91.5 549,-135.5 549,-135.5 549,-141.5 543,-147.5 537,-147.5\"/>\n<text text-anchor=\"middle\" x=\"491\" y=\"-132.3\" font-family=\"Helvetica,sans-Serif\" font-size=\"14.00\" fill=\"#000000\">gini = 0.0</text>\n<text text-anchor=\"middle\" x=\"491\" y=\"-117.3\" font-family=\"Helvetica,sans-Serif\" font-size=\"14.00\" fill=\"#000000\">samples = 253</text>\n<text text-anchor=\"middle\" x=\"491\" y=\"-102.3\" font-family=\"Helvetica,sans-Serif\" font-size=\"14.00\" fill=\"#000000\">value = [253, 0]</text>\n<text text-anchor=\"middle\" x=\"491\" y=\"-87.3\" font-family=\"Helvetica,sans-Serif\" font-size=\"14.00\" fill=\"#000000\">class = yellow</text>\n</g>\n<!-- 81&#45;&gt;107 -->\n<g id=\"edge19\" class=\"edge\">\n<title>81&#45;&gt;107</title>\n<path fill=\"none\" stroke=\"#000000\" d=\"M491,-190.8796C491,-180.2134 491,-168.7021 491,-157.9015\"/>\n<polygon fill=\"#000000\" stroke=\"#000000\" points=\"494.5001,-157.8149 491,-147.8149 487.5001,-157.815 494.5001,-157.8149\"/>\n</g>\n<!-- 83 -->\n<g id=\"node18\" class=\"node\">\n<title>83</title>\n<path fill=\"#c0c0c0\" stroke=\"#000000\" d=\"M366,-36C366,-36 336,-36 336,-36 330,-36 324,-30 324,-24 324,-24 324,-12 324,-12 324,-6 330,0 336,0 336,0 366,0 366,0 372,0 378,-6 378,-12 378,-12 378,-24 378,-24 378,-30 372,-36 366,-36\"/>\n<text text-anchor=\"middle\" x=\"351\" y=\"-14.3\" font-family=\"Helvetica,sans-Serif\" font-size=\"14.00\" fill=\"#000000\">(...)</text>\n</g>\n<!-- 82&#45;&gt;83 -->\n<g id=\"edge17\" class=\"edge\">\n<title>82&#45;&gt;83</title>\n<path fill=\"none\" stroke=\"#000000\" d=\"M354.3858,-71.8901C353.8473,-63.3201 353.292,-54.4817 352.7908,-46.5041\"/>\n<polygon fill=\"#000000\" stroke=\"#000000\" points=\"356.2678,-46.0259 352.1475,-36.2651 349.2816,-46.4649 356.2678,-46.0259\"/>\n</g>\n<!-- 106 -->\n<g id=\"node19\" class=\"node\">\n<title>106</title>\n<path fill=\"#c0c0c0\" stroke=\"#000000\" d=\"M438,-36C438,-36 408,-36 408,-36 402,-36 396,-30 396,-24 396,-24 396,-12 396,-12 396,-6 402,0 408,0 408,0 438,0 438,0 444,0 450,-6 450,-12 450,-12 450,-24 450,-24 450,-30 444,-36 438,-36\"/>\n<text text-anchor=\"middle\" x=\"423\" y=\"-14.3\" font-family=\"Helvetica,sans-Serif\" font-size=\"14.00\" fill=\"#000000\">(...)</text>\n</g>\n<!-- 82&#45;&gt;106 -->\n<g id=\"edge18\" class=\"edge\">\n<title>82&#45;&gt;106</title>\n<path fill=\"none\" stroke=\"#000000\" d=\"M385.7566,-71.8901C392.1505,-62.6384 398.7604,-53.0739 404.6048,-44.6173\"/>\n<polygon fill=\"#000000\" stroke=\"#000000\" points=\"407.5709,-46.4816 410.377,-36.2651 401.8123,-42.5018 407.5709,-46.4816\"/>\n</g>\n<!-- 109 -->\n<g id=\"node22\" class=\"node\">\n<title>109</title>\n<path fill=\"#399de5\" stroke=\"#000000\" d=\"M654.5,-147.5C654.5,-147.5 579.5,-147.5 579.5,-147.5 573.5,-147.5 567.5,-141.5 567.5,-135.5 567.5,-135.5 567.5,-91.5 567.5,-91.5 567.5,-85.5 573.5,-79.5 579.5,-79.5 579.5,-79.5 654.5,-79.5 654.5,-79.5 660.5,-79.5 666.5,-85.5 666.5,-91.5 666.5,-91.5 666.5,-135.5 666.5,-135.5 666.5,-141.5 660.5,-147.5 654.5,-147.5\"/>\n<text text-anchor=\"middle\" x=\"617\" y=\"-132.3\" font-family=\"Helvetica,sans-Serif\" font-size=\"14.00\" fill=\"#000000\">gini = 0.0</text>\n<text text-anchor=\"middle\" x=\"617\" y=\"-117.3\" font-family=\"Helvetica,sans-Serif\" font-size=\"14.00\" fill=\"#000000\">samples = 2</text>\n<text text-anchor=\"middle\" x=\"617\" y=\"-102.3\" font-family=\"Helvetica,sans-Serif\" font-size=\"14.00\" fill=\"#000000\">value = [0, 2]</text>\n<text text-anchor=\"middle\" x=\"617\" y=\"-87.3\" font-family=\"Helvetica,sans-Serif\" font-size=\"14.00\" fill=\"#000000\">class = blue</text>\n</g>\n<!-- 108&#45;&gt;109 -->\n<g id=\"edge21\" class=\"edge\">\n<title>108&#45;&gt;109</title>\n<path fill=\"none\" stroke=\"#000000\" d=\"M682.0249,-190.8796C672.4148,-179.4436 661.9885,-167.0363 652.3571,-155.575\"/>\n<polygon fill=\"#000000\" stroke=\"#000000\" points=\"654.9491,-153.219 645.8361,-147.8149 649.59,-157.7225 654.9491,-153.219\"/>\n</g>\n<!-- 110 -->\n<g id=\"node23\" class=\"node\">\n<title>110</title>\n<path fill=\"#e5833d\" stroke=\"#000000\" d=\"M805,-155C805,-155 697,-155 697,-155 691,-155 685,-149 685,-143 685,-143 685,-84 685,-84 685,-78 691,-72 697,-72 697,-72 805,-72 805,-72 811,-72 817,-78 817,-84 817,-84 817,-143 817,-143 817,-149 811,-155 805,-155\"/>\n<text text-anchor=\"middle\" x=\"751\" y=\"-139.8\" font-family=\"Helvetica,sans-Serif\" font-size=\"14.00\" fill=\"#000000\">x1 &lt;= 85305.5</text>\n<text text-anchor=\"middle\" x=\"751\" y=\"-124.8\" font-family=\"Helvetica,sans-Serif\" font-size=\"14.00\" fill=\"#000000\">gini = 0.036</text>\n<text text-anchor=\"middle\" x=\"751\" y=\"-109.8\" font-family=\"Helvetica,sans-Serif\" font-size=\"14.00\" fill=\"#000000\">samples = 1023</text>\n<text text-anchor=\"middle\" x=\"751\" y=\"-94.8\" font-family=\"Helvetica,sans-Serif\" font-size=\"14.00\" fill=\"#000000\">value = [1004, 19]</text>\n<text text-anchor=\"middle\" x=\"751\" y=\"-79.8\" font-family=\"Helvetica,sans-Serif\" font-size=\"14.00\" fill=\"#000000\">class = yellow</text>\n</g>\n<!-- 108&#45;&gt;110 -->\n<g id=\"edge22\" class=\"edge\">\n<title>108&#45;&gt;110</title>\n<path fill=\"none\" stroke=\"#000000\" d=\"M728.8916,-190.8796C731.2847,-182.5037 733.8267,-173.6067 736.3023,-164.942\"/>\n<polygon fill=\"#000000\" stroke=\"#000000\" points=\"739.6757,-165.8749 739.0577,-155.2981 732.9451,-163.9518 739.6757,-165.8749\"/>\n</g>\n<!-- 111 -->\n<g id=\"node24\" class=\"node\">\n<title>111</title>\n<path fill=\"#c0c0c0\" stroke=\"#000000\" d=\"M730,-36C730,-36 700,-36 700,-36 694,-36 688,-30 688,-24 688,-24 688,-12 688,-12 688,-6 694,0 700,0 700,0 730,0 730,0 736,0 742,-6 742,-12 742,-12 742,-24 742,-24 742,-30 736,-36 730,-36\"/>\n<text text-anchor=\"middle\" x=\"715\" y=\"-14.3\" font-family=\"Helvetica,sans-Serif\" font-size=\"14.00\" fill=\"#000000\">(...)</text>\n</g>\n<!-- 110&#45;&gt;111 -->\n<g id=\"edge23\" class=\"edge\">\n<title>110&#45;&gt;111</title>\n<path fill=\"none\" stroke=\"#000000\" d=\"M735.3146,-71.8901C731.9739,-63.0279 728.525,-53.8788 725.4386,-45.6913\"/>\n<polygon fill=\"#000000\" stroke=\"#000000\" points=\"728.6877,-44.3878 721.8853,-36.2651 722.1376,-46.8569 728.6877,-44.3878\"/>\n</g>\n<!-- 114 -->\n<g id=\"node25\" class=\"node\">\n<title>114</title>\n<path fill=\"#c0c0c0\" stroke=\"#000000\" d=\"M802,-36C802,-36 772,-36 772,-36 766,-36 760,-30 760,-24 760,-24 760,-12 760,-12 760,-6 766,0 772,0 772,0 802,0 802,0 808,0 814,-6 814,-12 814,-12 814,-24 814,-24 814,-30 808,-36 802,-36\"/>\n<text text-anchor=\"middle\" x=\"787\" y=\"-14.3\" font-family=\"Helvetica,sans-Serif\" font-size=\"14.00\" fill=\"#000000\">(...)</text>\n</g>\n<!-- 110&#45;&gt;114 -->\n<g id=\"edge24\" class=\"edge\">\n<title>110&#45;&gt;114</title>\n<path fill=\"none\" stroke=\"#000000\" d=\"M766.6854,-71.8901C770.0261,-63.0279 773.475,-53.8788 776.5614,-45.6913\"/>\n<polygon fill=\"#000000\" stroke=\"#000000\" points=\"779.8624,-46.8569 780.1147,-36.2651 773.3123,-44.3878 779.8624,-46.8569\"/>\n</g>\n<!-- 182 -->\n<g id=\"node27\" class=\"node\">\n<title>182</title>\n<path fill=\"#e5813a\" stroke=\"#000000\" d=\"M994,-274C994,-274 878,-274 878,-274 872,-274 866,-268 866,-262 866,-262 866,-203 866,-203 866,-197 872,-191 878,-191 878,-191 994,-191 994,-191 1000,-191 1006,-197 1006,-203 1006,-203 1006,-262 1006,-262 1006,-268 1000,-274 994,-274\"/>\n<text text-anchor=\"middle\" x=\"936\" y=\"-258.8\" font-family=\"Helvetica,sans-Serif\" font-size=\"14.00\" fill=\"#000000\">x2 &lt;= 0.835</text>\n<text text-anchor=\"middle\" x=\"936\" y=\"-243.8\" font-family=\"Helvetica,sans-Serif\" font-size=\"14.00\" fill=\"#000000\">gini = 0.005</text>\n<text text-anchor=\"middle\" x=\"936\" y=\"-228.8\" font-family=\"Helvetica,sans-Serif\" font-size=\"14.00\" fill=\"#000000\">samples = 11025</text>\n<text text-anchor=\"middle\" x=\"936\" y=\"-213.8\" font-family=\"Helvetica,sans-Serif\" font-size=\"14.00\" fill=\"#000000\">value = [10995, 30]</text>\n<text text-anchor=\"middle\" x=\"936\" y=\"-198.8\" font-family=\"Helvetica,sans-Serif\" font-size=\"14.00\" fill=\"#000000\">class = yellow</text>\n</g>\n<!-- 181&#45;&gt;182 -->\n<g id=\"edge26\" class=\"edge\">\n<title>181&#45;&gt;182</title>\n<path fill=\"none\" stroke=\"#000000\" d=\"M936,-309.8796C936,-301.6838 936,-292.9891 936,-284.5013\"/>\n<polygon fill=\"#000000\" stroke=\"#000000\" points=\"939.5001,-284.298 936,-274.2981 932.5001,-284.2981 939.5001,-284.298\"/>\n</g>\n<!-- 301 -->\n<g id=\"node32\" class=\"node\">\n<title>301</title>\n<path fill=\"#e5823a\" stroke=\"#000000\" d=\"M1251,-274C1251,-274 1135,-274 1135,-274 1129,-274 1123,-268 1123,-262 1123,-262 1123,-203 1123,-203 1123,-197 1129,-191 1135,-191 1135,-191 1251,-191 1251,-191 1257,-191 1263,-197 1263,-203 1263,-203 1263,-262 1263,-262 1263,-268 1257,-274 1251,-274\"/>\n<text text-anchor=\"middle\" x=\"1193\" y=\"-258.8\" font-family=\"Helvetica,sans-Serif\" font-size=\"14.00\" fill=\"#000000\">x1 &lt;= 110090.0</text>\n<text text-anchor=\"middle\" x=\"1193\" y=\"-243.8\" font-family=\"Helvetica,sans-Serif\" font-size=\"14.00\" fill=\"#000000\">gini = 0.011</text>\n<text text-anchor=\"middle\" x=\"1193\" y=\"-228.8\" font-family=\"Helvetica,sans-Serif\" font-size=\"14.00\" fill=\"#000000\">samples = 10966</text>\n<text text-anchor=\"middle\" x=\"1193\" y=\"-213.8\" font-family=\"Helvetica,sans-Serif\" font-size=\"14.00\" fill=\"#000000\">value = [10903, 63]</text>\n<text text-anchor=\"middle\" x=\"1193\" y=\"-198.8\" font-family=\"Helvetica,sans-Serif\" font-size=\"14.00\" fill=\"#000000\">class = yellow</text>\n</g>\n<!-- 181&#45;&gt;301 -->\n<g id=\"edge31\" class=\"edge\">\n<title>181&#45;&gt;301</title>\n<path fill=\"none\" stroke=\"#000000\" d=\"M1006.2264,-318.9827C1039.3731,-303.6346 1079.0829,-285.2476 1113.3483,-269.3815\"/>\n<polygon fill=\"#000000\" stroke=\"#000000\" points=\"1115.2547,-272.3558 1122.8585,-264.978 1112.3135,-266.0037 1115.2547,-272.3558\"/>\n</g>\n<!-- 183 -->\n<g id=\"node28\" class=\"node\">\n<title>183</title>\n<path fill=\"#e5823a\" stroke=\"#000000\" d=\"M955,-155C955,-155 847,-155 847,-155 841,-155 835,-149 835,-143 835,-143 835,-84 835,-84 835,-78 841,-72 847,-72 847,-72 955,-72 955,-72 961,-72 967,-78 967,-84 967,-84 967,-143 967,-143 967,-149 961,-155 955,-155\"/>\n<text text-anchor=\"middle\" x=\"901\" y=\"-139.8\" font-family=\"Helvetica,sans-Serif\" font-size=\"14.00\" fill=\"#000000\">x2 &lt;= 0.825</text>\n<text text-anchor=\"middle\" x=\"901\" y=\"-124.8\" font-family=\"Helvetica,sans-Serif\" font-size=\"14.00\" fill=\"#000000\">gini = 0.012</text>\n<text text-anchor=\"middle\" x=\"901\" y=\"-109.8\" font-family=\"Helvetica,sans-Serif\" font-size=\"14.00\" fill=\"#000000\">samples = 4984</text>\n<text text-anchor=\"middle\" x=\"901\" y=\"-94.8\" font-family=\"Helvetica,sans-Serif\" font-size=\"14.00\" fill=\"#000000\">value = [4954, 30]</text>\n<text text-anchor=\"middle\" x=\"901\" y=\"-79.8\" font-family=\"Helvetica,sans-Serif\" font-size=\"14.00\" fill=\"#000000\">class = yellow</text>\n</g>\n<!-- 182&#45;&gt;183 -->\n<g id=\"edge27\" class=\"edge\">\n<title>182&#45;&gt;183</title>\n<path fill=\"none\" stroke=\"#000000\" d=\"M923.7587,-190.8796C921.2952,-182.5037 918.6784,-173.6067 916.13,-164.942\"/>\n<polygon fill=\"#000000\" stroke=\"#000000\" points=\"919.4731,-163.9041 913.2936,-155.2981 912.7575,-165.8793 919.4731,-163.9041\"/>\n</g>\n<!-- 300 -->\n<g id=\"node31\" class=\"node\">\n<title>300</title>\n<path fill=\"#e58139\" stroke=\"#000000\" d=\"M1097,-147.5C1097,-147.5 997,-147.5 997,-147.5 991,-147.5 985,-141.5 985,-135.5 985,-135.5 985,-91.5 985,-91.5 985,-85.5 991,-79.5 997,-79.5 997,-79.5 1097,-79.5 1097,-79.5 1103,-79.5 1109,-85.5 1109,-91.5 1109,-91.5 1109,-135.5 1109,-135.5 1109,-141.5 1103,-147.5 1097,-147.5\"/>\n<text text-anchor=\"middle\" x=\"1047\" y=\"-132.3\" font-family=\"Helvetica,sans-Serif\" font-size=\"14.00\" fill=\"#000000\">gini = 0.0</text>\n<text text-anchor=\"middle\" x=\"1047\" y=\"-117.3\" font-family=\"Helvetica,sans-Serif\" font-size=\"14.00\" fill=\"#000000\">samples = 6041</text>\n<text text-anchor=\"middle\" x=\"1047\" y=\"-102.3\" font-family=\"Helvetica,sans-Serif\" font-size=\"14.00\" fill=\"#000000\">value = [6041, 0]</text>\n<text text-anchor=\"middle\" x=\"1047\" y=\"-87.3\" font-family=\"Helvetica,sans-Serif\" font-size=\"14.00\" fill=\"#000000\">class = yellow</text>\n</g>\n<!-- 182&#45;&gt;300 -->\n<g id=\"edge30\" class=\"edge\">\n<title>182&#45;&gt;300</title>\n<path fill=\"none\" stroke=\"#000000\" d=\"M974.8224,-190.8796C985.5921,-179.3337 997.2854,-166.7976 1008.0617,-155.2446\"/>\n<polygon fill=\"#000000\" stroke=\"#000000\" points=\"1010.7303,-157.5149 1014.992,-147.8149 1005.6115,-152.7402 1010.7303,-157.5149\"/>\n</g>\n<!-- 184 -->\n<g id=\"node29\" class=\"node\">\n<title>184</title>\n<path fill=\"#c0c0c0\" stroke=\"#000000\" d=\"M913,-36C913,-36 883,-36 883,-36 877,-36 871,-30 871,-24 871,-24 871,-12 871,-12 871,-6 877,0 883,0 883,0 913,0 913,0 919,0 925,-6 925,-12 925,-12 925,-24 925,-24 925,-30 919,-36 913,-36\"/>\n<text text-anchor=\"middle\" x=\"898\" y=\"-14.3\" font-family=\"Helvetica,sans-Serif\" font-size=\"14.00\" fill=\"#000000\">(...)</text>\n</g>\n<!-- 183&#45;&gt;184 -->\n<g id=\"edge28\" class=\"edge\">\n<title>183&#45;&gt;184</title>\n<path fill=\"none\" stroke=\"#000000\" d=\"M899.6929,-71.8901C899.4237,-63.3201 899.146,-54.4817 898.8954,-46.5041\"/>\n<polygon fill=\"#000000\" stroke=\"#000000\" points=\"902.3861,-46.1502 898.5738,-36.2651 895.3896,-46.3701 902.3861,-46.1502\"/>\n</g>\n<!-- 297 -->\n<g id=\"node30\" class=\"node\">\n<title>297</title>\n<path fill=\"#c0c0c0\" stroke=\"#000000\" d=\"M985,-36C985,-36 955,-36 955,-36 949,-36 943,-30 943,-24 943,-24 943,-12 943,-12 943,-6 949,0 955,0 955,0 985,0 985,0 991,0 997,-6 997,-12 997,-12 997,-24 997,-24 997,-30 991,-36 985,-36\"/>\n<text text-anchor=\"middle\" x=\"970\" y=\"-14.3\" font-family=\"Helvetica,sans-Serif\" font-size=\"14.00\" fill=\"#000000\">(...)</text>\n</g>\n<!-- 183&#45;&gt;297 -->\n<g id=\"edge29\" class=\"edge\">\n<title>183&#45;&gt;297</title>\n<path fill=\"none\" stroke=\"#000000\" d=\"M931.0637,-71.8901C937.7482,-62.6384 944.6586,-53.0739 950.7687,-44.6173\"/>\n<polygon fill=\"#000000\" stroke=\"#000000\" points=\"953.7837,-46.4206 956.8032,-36.2651 948.1097,-42.321 953.7837,-46.4206\"/>\n</g>\n<!-- 302 -->\n<g id=\"node33\" class=\"node\">\n<title>302</title>\n<path fill=\"#e5823b\" stroke=\"#000000\" d=\"M1247,-155C1247,-155 1139,-155 1139,-155 1133,-155 1127,-149 1127,-143 1127,-143 1127,-84 1127,-84 1127,-78 1133,-72 1139,-72 1139,-72 1247,-72 1247,-72 1253,-72 1259,-78 1259,-84 1259,-84 1259,-143 1259,-143 1259,-149 1253,-155 1247,-155\"/>\n<text text-anchor=\"middle\" x=\"1193\" y=\"-139.8\" font-family=\"Helvetica,sans-Serif\" font-size=\"14.00\" fill=\"#000000\">x1 &lt;= 110085.0</text>\n<text text-anchor=\"middle\" x=\"1193\" y=\"-124.8\" font-family=\"Helvetica,sans-Serif\" font-size=\"14.00\" fill=\"#000000\">gini = 0.016</text>\n<text text-anchor=\"middle\" x=\"1193\" y=\"-109.8\" font-family=\"Helvetica,sans-Serif\" font-size=\"14.00\" fill=\"#000000\">samples = 5972</text>\n<text text-anchor=\"middle\" x=\"1193\" y=\"-94.8\" font-family=\"Helvetica,sans-Serif\" font-size=\"14.00\" fill=\"#000000\">value = [5923, 49]</text>\n<text text-anchor=\"middle\" x=\"1193\" y=\"-79.8\" font-family=\"Helvetica,sans-Serif\" font-size=\"14.00\" fill=\"#000000\">class = yellow</text>\n</g>\n<!-- 301&#45;&gt;302 -->\n<g id=\"edge32\" class=\"edge\">\n<title>301&#45;&gt;302</title>\n<path fill=\"none\" stroke=\"#000000\" d=\"M1193,-190.8796C1193,-182.6838 1193,-173.9891 1193,-165.5013\"/>\n<polygon fill=\"#000000\" stroke=\"#000000\" points=\"1196.5001,-165.298 1193,-155.2981 1189.5001,-165.2981 1196.5001,-165.298\"/>\n</g>\n<!-- 469 -->\n<g id=\"node36\" class=\"node\">\n<title>469</title>\n<path fill=\"#e5813a\" stroke=\"#000000\" d=\"M1397,-155C1397,-155 1289,-155 1289,-155 1283,-155 1277,-149 1277,-143 1277,-143 1277,-84 1277,-84 1277,-78 1283,-72 1289,-72 1289,-72 1397,-72 1397,-72 1403,-72 1409,-78 1409,-84 1409,-84 1409,-143 1409,-143 1409,-149 1403,-155 1397,-155\"/>\n<text text-anchor=\"middle\" x=\"1343\" y=\"-139.8\" font-family=\"Helvetica,sans-Serif\" font-size=\"14.00\" fill=\"#000000\">x1 &lt;= 128581.5</text>\n<text text-anchor=\"middle\" x=\"1343\" y=\"-124.8\" font-family=\"Helvetica,sans-Serif\" font-size=\"14.00\" fill=\"#000000\">gini = 0.006</text>\n<text text-anchor=\"middle\" x=\"1343\" y=\"-109.8\" font-family=\"Helvetica,sans-Serif\" font-size=\"14.00\" fill=\"#000000\">samples = 4994</text>\n<text text-anchor=\"middle\" x=\"1343\" y=\"-94.8\" font-family=\"Helvetica,sans-Serif\" font-size=\"14.00\" fill=\"#000000\">value = [4980, 14]</text>\n<text text-anchor=\"middle\" x=\"1343\" y=\"-79.8\" font-family=\"Helvetica,sans-Serif\" font-size=\"14.00\" fill=\"#000000\">class = yellow</text>\n</g>\n<!-- 301&#45;&gt;469 -->\n<g id=\"edge35\" class=\"edge\">\n<title>301&#45;&gt;469</title>\n<path fill=\"none\" stroke=\"#000000\" d=\"M1245.4627,-190.8796C1257.4521,-181.368 1270.2887,-171.1843 1282.5816,-161.432\"/>\n<polygon fill=\"#000000\" stroke=\"#000000\" points=\"1284.9081,-164.054 1290.5669,-155.0969 1280.5575,-158.5701 1284.9081,-164.054\"/>\n</g>\n<!-- 303 -->\n<g id=\"node34\" class=\"node\">\n<title>303</title>\n<path fill=\"#c0c0c0\" stroke=\"#000000\" d=\"M1172,-36C1172,-36 1142,-36 1142,-36 1136,-36 1130,-30 1130,-24 1130,-24 1130,-12 1130,-12 1130,-6 1136,0 1142,0 1142,0 1172,0 1172,0 1178,0 1184,-6 1184,-12 1184,-12 1184,-24 1184,-24 1184,-30 1178,-36 1172,-36\"/>\n<text text-anchor=\"middle\" x=\"1157\" y=\"-14.3\" font-family=\"Helvetica,sans-Serif\" font-size=\"14.00\" fill=\"#000000\">(...)</text>\n</g>\n<!-- 302&#45;&gt;303 -->\n<g id=\"edge33\" class=\"edge\">\n<title>302&#45;&gt;303</title>\n<path fill=\"none\" stroke=\"#000000\" d=\"M1177.3146,-71.8901C1173.9739,-63.0279 1170.525,-53.8788 1167.4386,-45.6913\"/>\n<polygon fill=\"#000000\" stroke=\"#000000\" points=\"1170.6877,-44.3878 1163.8853,-36.2651 1164.1376,-46.8569 1170.6877,-44.3878\"/>\n</g>\n<!-- 468 -->\n<g id=\"node35\" class=\"node\">\n<title>468</title>\n<path fill=\"#c0c0c0\" stroke=\"#000000\" d=\"M1244,-36C1244,-36 1214,-36 1214,-36 1208,-36 1202,-30 1202,-24 1202,-24 1202,-12 1202,-12 1202,-6 1208,0 1214,0 1214,0 1244,0 1244,0 1250,0 1256,-6 1256,-12 1256,-12 1256,-24 1256,-24 1256,-30 1250,-36 1244,-36\"/>\n<text text-anchor=\"middle\" x=\"1229\" y=\"-14.3\" font-family=\"Helvetica,sans-Serif\" font-size=\"14.00\" fill=\"#000000\">(...)</text>\n</g>\n<!-- 302&#45;&gt;468 -->\n<g id=\"edge34\" class=\"edge\">\n<title>302&#45;&gt;468</title>\n<path fill=\"none\" stroke=\"#000000\" d=\"M1208.6854,-71.8901C1212.0261,-63.0279 1215.475,-53.8788 1218.5614,-45.6913\"/>\n<polygon fill=\"#000000\" stroke=\"#000000\" points=\"1221.8624,-46.8569 1222.1147,-36.2651 1215.3123,-44.3878 1221.8624,-46.8569\"/>\n</g>\n<!-- 470 -->\n<g id=\"node37\" class=\"node\">\n<title>470</title>\n<path fill=\"#c0c0c0\" stroke=\"#000000\" d=\"M1355,-36C1355,-36 1325,-36 1325,-36 1319,-36 1313,-30 1313,-24 1313,-24 1313,-12 1313,-12 1313,-6 1319,0 1325,0 1325,0 1355,0 1355,0 1361,0 1367,-6 1367,-12 1367,-12 1367,-24 1367,-24 1367,-30 1361,-36 1355,-36\"/>\n<text text-anchor=\"middle\" x=\"1340\" y=\"-14.3\" font-family=\"Helvetica,sans-Serif\" font-size=\"14.00\" fill=\"#000000\">(...)</text>\n</g>\n<!-- 469&#45;&gt;470 -->\n<g id=\"edge36\" class=\"edge\">\n<title>469&#45;&gt;470</title>\n<path fill=\"none\" stroke=\"#000000\" d=\"M1341.6929,-71.8901C1341.4237,-63.3201 1341.146,-54.4817 1340.8954,-46.5041\"/>\n<polygon fill=\"#000000\" stroke=\"#000000\" points=\"1344.3861,-46.1502 1340.5738,-36.2651 1337.3896,-46.3701 1344.3861,-46.1502\"/>\n</g>\n<!-- 471 -->\n<g id=\"node38\" class=\"node\">\n<title>471</title>\n<path fill=\"#c0c0c0\" stroke=\"#000000\" d=\"M1427,-36C1427,-36 1397,-36 1397,-36 1391,-36 1385,-30 1385,-24 1385,-24 1385,-12 1385,-12 1385,-6 1391,0 1397,0 1397,0 1427,0 1427,0 1433,0 1439,-6 1439,-12 1439,-12 1439,-24 1439,-24 1439,-30 1433,-36 1427,-36\"/>\n<text text-anchor=\"middle\" x=\"1412\" y=\"-14.3\" font-family=\"Helvetica,sans-Serif\" font-size=\"14.00\" fill=\"#000000\">(...)</text>\n</g>\n<!-- 469&#45;&gt;471 -->\n<g id=\"edge37\" class=\"edge\">\n<title>469&#45;&gt;471</title>\n<path fill=\"none\" stroke=\"#000000\" d=\"M1373.0637,-71.8901C1379.7482,-62.6384 1386.6586,-53.0739 1392.7687,-44.6173\"/>\n<polygon fill=\"#000000\" stroke=\"#000000\" points=\"1395.7837,-46.4206 1398.8032,-36.2651 1390.1097,-42.321 1395.7837,-46.4206\"/>\n</g>\n<!-- 527 -->\n<g id=\"node40\" class=\"node\">\n<title>527</title>\n<path fill=\"#e58139\" stroke=\"#000000\" d=\"M2035.5,-512C2035.5,-512 1902.5,-512 1902.5,-512 1896.5,-512 1890.5,-506 1890.5,-500 1890.5,-500 1890.5,-441 1890.5,-441 1890.5,-435 1896.5,-429 1902.5,-429 1902.5,-429 2035.5,-429 2035.5,-429 2041.5,-429 2047.5,-435 2047.5,-441 2047.5,-441 2047.5,-500 2047.5,-500 2047.5,-506 2041.5,-512 2035.5,-512\"/>\n<text text-anchor=\"middle\" x=\"1969\" y=\"-496.8\" font-family=\"Helvetica,sans-Serif\" font-size=\"14.00\" fill=\"#000000\">x2 &lt;= 9.295</text>\n<text text-anchor=\"middle\" x=\"1969\" y=\"-481.8\" font-family=\"Helvetica,sans-Serif\" font-size=\"14.00\" fill=\"#000000\">gini = 0.002</text>\n<text text-anchor=\"middle\" x=\"1969\" y=\"-466.8\" font-family=\"Helvetica,sans-Serif\" font-size=\"14.00\" fill=\"#000000\">samples = 156428</text>\n<text text-anchor=\"middle\" x=\"1969\" y=\"-451.8\" font-family=\"Helvetica,sans-Serif\" font-size=\"14.00\" fill=\"#000000\">value = [156310, 118]</text>\n<text text-anchor=\"middle\" x=\"1969\" y=\"-436.8\" font-family=\"Helvetica,sans-Serif\" font-size=\"14.00\" fill=\"#000000\">class = yellow</text>\n</g>\n<!-- 526&#45;&gt;527 -->\n<g id=\"edge39\" class=\"edge\">\n<title>526&#45;&gt;527</title>\n<path fill=\"none\" stroke=\"#000000\" d=\"M1969,-547.8796C1969,-539.6838 1969,-530.9891 1969,-522.5013\"/>\n<polygon fill=\"#000000\" stroke=\"#000000\" points=\"1972.5001,-522.298 1969,-512.2981 1965.5001,-522.2981 1972.5001,-522.298\"/>\n</g>\n<!-- 1140 -->\n<g id=\"node69\" class=\"node\">\n<title>1140</title>\n<path fill=\"#e5813a\" stroke=\"#000000\" d=\"M2888.5,-512C2888.5,-512 2763.5,-512 2763.5,-512 2757.5,-512 2751.5,-506 2751.5,-500 2751.5,-500 2751.5,-441 2751.5,-441 2751.5,-435 2757.5,-429 2763.5,-429 2763.5,-429 2888.5,-429 2888.5,-429 2894.5,-429 2900.5,-435 2900.5,-441 2900.5,-441 2900.5,-500 2900.5,-500 2900.5,-506 2894.5,-512 2888.5,-512\"/>\n<text text-anchor=\"middle\" x=\"2826\" y=\"-496.8\" font-family=\"Helvetica,sans-Serif\" font-size=\"14.00\" fill=\"#000000\">x2 &lt;= 99.995</text>\n<text text-anchor=\"middle\" x=\"2826\" y=\"-481.8\" font-family=\"Helvetica,sans-Serif\" font-size=\"14.00\" fill=\"#000000\">gini = 0.005</text>\n<text text-anchor=\"middle\" x=\"2826\" y=\"-466.8\" font-family=\"Helvetica,sans-Serif\" font-size=\"14.00\" fill=\"#000000\">samples = 46467</text>\n<text text-anchor=\"middle\" x=\"2826\" y=\"-451.8\" font-family=\"Helvetica,sans-Serif\" font-size=\"14.00\" fill=\"#000000\">value = [46341, 126]</text>\n<text text-anchor=\"middle\" x=\"2826\" y=\"-436.8\" font-family=\"Helvetica,sans-Serif\" font-size=\"14.00\" fill=\"#000000\">class = yellow</text>\n</g>\n<!-- 526&#45;&gt;1140 -->\n<g id=\"edge68\" class=\"edge\">\n<title>526&#45;&gt;1140</title>\n<path fill=\"none\" stroke=\"#000000\" d=\"M2047.7063,-578.5711C2208.814,-556.2003 2574.9642,-505.358 2741.1445,-482.2827\"/>\n<polygon fill=\"#000000\" stroke=\"#000000\" points=\"2741.8923,-485.7126 2751.3159,-480.8704 2740.9295,-478.7791 2741.8923,-485.7126\"/>\n</g>\n<!-- 528 -->\n<g id=\"node41\" class=\"node\">\n<title>528</title>\n<path fill=\"#e58139\" stroke=\"#000000\" d=\"M1897,-393C1897,-393 1781,-393 1781,-393 1775,-393 1769,-387 1769,-381 1769,-381 1769,-322 1769,-322 1769,-316 1775,-310 1781,-310 1781,-310 1897,-310 1897,-310 1903,-310 1909,-316 1909,-322 1909,-322 1909,-381 1909,-381 1909,-387 1903,-393 1897,-393\"/>\n<text text-anchor=\"middle\" x=\"1839\" y=\"-377.8\" font-family=\"Helvetica,sans-Serif\" font-size=\"14.00\" fill=\"#000000\">x2 &lt;= 9.285</text>\n<text text-anchor=\"middle\" x=\"1839\" y=\"-362.8\" font-family=\"Helvetica,sans-Serif\" font-size=\"14.00\" fill=\"#000000\">gini = 0.002</text>\n<text text-anchor=\"middle\" x=\"1839\" y=\"-347.8\" font-family=\"Helvetica,sans-Serif\" font-size=\"14.00\" fill=\"#000000\">samples = 46706</text>\n<text text-anchor=\"middle\" x=\"1839\" y=\"-332.8\" font-family=\"Helvetica,sans-Serif\" font-size=\"14.00\" fill=\"#000000\">value = [46658, 48]</text>\n<text text-anchor=\"middle\" x=\"1839\" y=\"-317.8\" font-family=\"Helvetica,sans-Serif\" font-size=\"14.00\" fill=\"#000000\">class = yellow</text>\n</g>\n<!-- 527&#45;&gt;528 -->\n<g id=\"edge40\" class=\"edge\">\n<title>527&#45;&gt;528</title>\n<path fill=\"none\" stroke=\"#000000\" d=\"M1923.5323,-428.8796C1913.3983,-419.6031 1902.566,-409.6874 1892.1535,-400.1559\"/>\n<polygon fill=\"#000000\" stroke=\"#000000\" points=\"1894.4013,-397.4685 1884.6618,-393.2981 1889.6748,-402.6319 1894.4013,-397.4685\"/>\n</g>\n<!-- 777 -->\n<g id=\"node54\" class=\"node\">\n<title>777</title>\n<path fill=\"#e58139\" stroke=\"#000000\" d=\"M2180.5,-393C2180.5,-393 2055.5,-393 2055.5,-393 2049.5,-393 2043.5,-387 2043.5,-381 2043.5,-381 2043.5,-322 2043.5,-322 2043.5,-316 2049.5,-310 2055.5,-310 2055.5,-310 2180.5,-310 2180.5,-310 2186.5,-310 2192.5,-316 2192.5,-322 2192.5,-322 2192.5,-381 2192.5,-381 2192.5,-387 2186.5,-393 2180.5,-393\"/>\n<text text-anchor=\"middle\" x=\"2118\" y=\"-377.8\" font-family=\"Helvetica,sans-Serif\" font-size=\"14.00\" fill=\"#000000\">x2 &lt;= 30.135</text>\n<text text-anchor=\"middle\" x=\"2118\" y=\"-362.8\" font-family=\"Helvetica,sans-Serif\" font-size=\"14.00\" fill=\"#000000\">gini = 0.001</text>\n<text text-anchor=\"middle\" x=\"2118\" y=\"-347.8\" font-family=\"Helvetica,sans-Serif\" font-size=\"14.00\" fill=\"#000000\">samples = 109722</text>\n<text text-anchor=\"middle\" x=\"2118\" y=\"-332.8\" font-family=\"Helvetica,sans-Serif\" font-size=\"14.00\" fill=\"#000000\">value = [109652, 70]</text>\n<text text-anchor=\"middle\" x=\"2118\" y=\"-317.8\" font-family=\"Helvetica,sans-Serif\" font-size=\"14.00\" fill=\"#000000\">class = yellow</text>\n</g>\n<!-- 527&#45;&gt;777 -->\n<g id=\"edge53\" class=\"edge\">\n<title>527&#45;&gt;777</title>\n<path fill=\"none\" stroke=\"#000000\" d=\"M2021.113,-428.8796C2033.0225,-419.368 2045.7734,-409.1843 2057.9844,-399.432\"/>\n<polygon fill=\"#000000\" stroke=\"#000000\" points=\"2060.2868,-402.0724 2065.9165,-393.0969 2055.9184,-396.6027 2060.2868,-402.0724\"/>\n</g>\n<!-- 529 -->\n<g id=\"node42\" class=\"node\">\n<title>529</title>\n<path fill=\"#e58139\" stroke=\"#000000\" d=\"M1701,-274C1701,-274 1585,-274 1585,-274 1579,-274 1573,-268 1573,-262 1573,-262 1573,-203 1573,-203 1573,-197 1579,-191 1585,-191 1585,-191 1701,-191 1701,-191 1707,-191 1713,-197 1713,-203 1713,-203 1713,-262 1713,-262 1713,-268 1707,-274 1701,-274\"/>\n<text text-anchor=\"middle\" x=\"1643\" y=\"-258.8\" font-family=\"Helvetica,sans-Serif\" font-size=\"14.00\" fill=\"#000000\">x2 &lt;= 9.125</text>\n<text text-anchor=\"middle\" x=\"1643\" y=\"-243.8\" font-family=\"Helvetica,sans-Serif\" font-size=\"14.00\" fill=\"#000000\">gini = 0.002</text>\n<text text-anchor=\"middle\" x=\"1643\" y=\"-228.8\" font-family=\"Helvetica,sans-Serif\" font-size=\"14.00\" fill=\"#000000\">samples = 46695</text>\n<text text-anchor=\"middle\" x=\"1643\" y=\"-213.8\" font-family=\"Helvetica,sans-Serif\" font-size=\"14.00\" fill=\"#000000\">value = [46648, 47]</text>\n<text text-anchor=\"middle\" x=\"1643\" y=\"-198.8\" font-family=\"Helvetica,sans-Serif\" font-size=\"14.00\" fill=\"#000000\">class = yellow</text>\n</g>\n<!-- 528&#45;&gt;529 -->\n<g id=\"edge41\" class=\"edge\">\n<title>528&#45;&gt;529</title>\n<path fill=\"none\" stroke=\"#000000\" d=\"M1770.4487,-309.8796C1754.1857,-300.0056 1736.7299,-289.4075 1720.1142,-279.3193\"/>\n<polygon fill=\"#000000\" stroke=\"#000000\" points=\"1721.8769,-276.295 1711.5126,-274.0969 1718.244,-282.2785 1721.8769,-276.295\"/>\n</g>\n<!-- 772 -->\n<g id=\"node49\" class=\"node\">\n<title>772</title>\n<path fill=\"#e88e4d\" stroke=\"#000000\" d=\"M1886,-274C1886,-274 1792,-274 1792,-274 1786,-274 1780,-268 1780,-262 1780,-262 1780,-203 1780,-203 1780,-197 1786,-191 1792,-191 1792,-191 1886,-191 1886,-191 1892,-191 1898,-197 1898,-203 1898,-203 1898,-262 1898,-262 1898,-268 1892,-274 1886,-274\"/>\n<text text-anchor=\"middle\" x=\"1839\" y=\"-258.8\" font-family=\"Helvetica,sans-Serif\" font-size=\"14.00\" fill=\"#000000\">x1 &lt;= 140143.5</text>\n<text text-anchor=\"middle\" x=\"1839\" y=\"-243.8\" font-family=\"Helvetica,sans-Serif\" font-size=\"14.00\" fill=\"#000000\">gini = 0.165</text>\n<text text-anchor=\"middle\" x=\"1839\" y=\"-228.8\" font-family=\"Helvetica,sans-Serif\" font-size=\"14.00\" fill=\"#000000\">samples = 11</text>\n<text text-anchor=\"middle\" x=\"1839\" y=\"-213.8\" font-family=\"Helvetica,sans-Serif\" font-size=\"14.00\" fill=\"#000000\">value = [10, 1]</text>\n<text text-anchor=\"middle\" x=\"1839\" y=\"-198.8\" font-family=\"Helvetica,sans-Serif\" font-size=\"14.00\" fill=\"#000000\">class = yellow</text>\n</g>\n<!-- 528&#45;&gt;772 -->\n<g id=\"edge48\" class=\"edge\">\n<title>528&#45;&gt;772</title>\n<path fill=\"none\" stroke=\"#000000\" d=\"M1839,-309.8796C1839,-301.6838 1839,-292.9891 1839,-284.5013\"/>\n<polygon fill=\"#000000\" stroke=\"#000000\" points=\"1842.5001,-284.298 1839,-274.2981 1835.5001,-284.2981 1842.5001,-284.298\"/>\n</g>\n<!-- 530 -->\n<g id=\"node43\" class=\"node\">\n<title>530</title>\n<path fill=\"#e58139\" stroke=\"#000000\" d=\"M1555,-155C1555,-155 1439,-155 1439,-155 1433,-155 1427,-149 1427,-143 1427,-143 1427,-84 1427,-84 1427,-78 1433,-72 1439,-72 1439,-72 1555,-72 1555,-72 1561,-72 1567,-78 1567,-84 1567,-84 1567,-143 1567,-143 1567,-149 1561,-155 1555,-155\"/>\n<text text-anchor=\"middle\" x=\"1497\" y=\"-139.8\" font-family=\"Helvetica,sans-Serif\" font-size=\"14.00\" fill=\"#000000\">x1 &lt;= 157207.5</text>\n<text text-anchor=\"middle\" x=\"1497\" y=\"-124.8\" font-family=\"Helvetica,sans-Serif\" font-size=\"14.00\" fill=\"#000000\">gini = 0.002</text>\n<text text-anchor=\"middle\" x=\"1497\" y=\"-109.8\" font-family=\"Helvetica,sans-Serif\" font-size=\"14.00\" fill=\"#000000\">samples = 46335</text>\n<text text-anchor=\"middle\" x=\"1497\" y=\"-94.8\" font-family=\"Helvetica,sans-Serif\" font-size=\"14.00\" fill=\"#000000\">value = [46290, 45]</text>\n<text text-anchor=\"middle\" x=\"1497\" y=\"-79.8\" font-family=\"Helvetica,sans-Serif\" font-size=\"14.00\" fill=\"#000000\">class = yellow</text>\n</g>\n<!-- 529&#45;&gt;530 -->\n<g id=\"edge42\" class=\"edge\">\n<title>529&#45;&gt;530</title>\n<path fill=\"none\" stroke=\"#000000\" d=\"M1591.9363,-190.8796C1580.4445,-181.513 1568.1532,-171.4948 1556.355,-161.8784\"/>\n<polygon fill=\"#000000\" stroke=\"#000000\" points=\"1558.2444,-158.903 1548.2817,-155.2981 1553.8218,-164.329 1558.2444,-158.903\"/>\n</g>\n<!-- 757 -->\n<g id=\"node46\" class=\"node\">\n<title>757</title>\n<path fill=\"#e5823a\" stroke=\"#000000\" d=\"M1689,-155C1689,-155 1597,-155 1597,-155 1591,-155 1585,-149 1585,-143 1585,-143 1585,-84 1585,-84 1585,-78 1591,-72 1597,-72 1597,-72 1689,-72 1689,-72 1695,-72 1701,-78 1701,-84 1701,-84 1701,-143 1701,-143 1701,-149 1695,-155 1689,-155\"/>\n<text text-anchor=\"middle\" x=\"1643\" y=\"-139.8\" font-family=\"Helvetica,sans-Serif\" font-size=\"14.00\" fill=\"#000000\">x2 &lt;= 9.135</text>\n<text text-anchor=\"middle\" x=\"1643\" y=\"-124.8\" font-family=\"Helvetica,sans-Serif\" font-size=\"14.00\" fill=\"#000000\">gini = 0.011</text>\n<text text-anchor=\"middle\" x=\"1643\" y=\"-109.8\" font-family=\"Helvetica,sans-Serif\" font-size=\"14.00\" fill=\"#000000\">samples = 360</text>\n<text text-anchor=\"middle\" x=\"1643\" y=\"-94.8\" font-family=\"Helvetica,sans-Serif\" font-size=\"14.00\" fill=\"#000000\">value = [358, 2]</text>\n<text text-anchor=\"middle\" x=\"1643\" y=\"-79.8\" font-family=\"Helvetica,sans-Serif\" font-size=\"14.00\" fill=\"#000000\">class = yellow</text>\n</g>\n<!-- 529&#45;&gt;757 -->\n<g id=\"edge45\" class=\"edge\">\n<title>529&#45;&gt;757</title>\n<path fill=\"none\" stroke=\"#000000\" d=\"M1643,-190.8796C1643,-182.6838 1643,-173.9891 1643,-165.5013\"/>\n<polygon fill=\"#000000\" stroke=\"#000000\" points=\"1646.5001,-165.298 1643,-155.2981 1639.5001,-165.2981 1646.5001,-165.298\"/>\n</g>\n<!-- 531 -->\n<g id=\"node44\" class=\"node\">\n<title>531</title>\n<path fill=\"#c0c0c0\" stroke=\"#000000\" d=\"M1506,-36C1506,-36 1476,-36 1476,-36 1470,-36 1464,-30 1464,-24 1464,-24 1464,-12 1464,-12 1464,-6 1470,0 1476,0 1476,0 1506,0 1506,0 1512,0 1518,-6 1518,-12 1518,-12 1518,-24 1518,-24 1518,-30 1512,-36 1506,-36\"/>\n<text text-anchor=\"middle\" x=\"1491\" y=\"-14.3\" font-family=\"Helvetica,sans-Serif\" font-size=\"14.00\" fill=\"#000000\">(...)</text>\n</g>\n<!-- 530&#45;&gt;531 -->\n<g id=\"edge43\" class=\"edge\">\n<title>530&#45;&gt;531</title>\n<path fill=\"none\" stroke=\"#000000\" d=\"M1494.3858,-71.8901C1493.8473,-63.3201 1493.292,-54.4817 1492.7908,-46.5041\"/>\n<polygon fill=\"#000000\" stroke=\"#000000\" points=\"1496.2678,-46.0259 1492.1475,-36.2651 1489.2816,-46.4649 1496.2678,-46.0259\"/>\n</g>\n<!-- 756 -->\n<g id=\"node45\" class=\"node\">\n<title>756</title>\n<path fill=\"#c0c0c0\" stroke=\"#000000\" d=\"M1578,-36C1578,-36 1548,-36 1548,-36 1542,-36 1536,-30 1536,-24 1536,-24 1536,-12 1536,-12 1536,-6 1542,0 1548,0 1548,0 1578,0 1578,0 1584,0 1590,-6 1590,-12 1590,-12 1590,-24 1590,-24 1590,-30 1584,-36 1578,-36\"/>\n<text text-anchor=\"middle\" x=\"1563\" y=\"-14.3\" font-family=\"Helvetica,sans-Serif\" font-size=\"14.00\" fill=\"#000000\">(...)</text>\n</g>\n<!-- 530&#45;&gt;756 -->\n<g id=\"edge44\" class=\"edge\">\n<title>530&#45;&gt;756</title>\n<path fill=\"none\" stroke=\"#000000\" d=\"M1525.7566,-71.8901C1532.1505,-62.6384 1538.7604,-53.0739 1544.6048,-44.6173\"/>\n<polygon fill=\"#000000\" stroke=\"#000000\" points=\"1547.5709,-46.4816 1550.377,-36.2651 1541.8123,-42.5018 1547.5709,-46.4816\"/>\n</g>\n<!-- 758 -->\n<g id=\"node47\" class=\"node\">\n<title>758</title>\n<path fill=\"#c0c0c0\" stroke=\"#000000\" d=\"M1654,-36C1654,-36 1624,-36 1624,-36 1618,-36 1612,-30 1612,-24 1612,-24 1612,-12 1612,-12 1612,-6 1618,0 1624,0 1624,0 1654,0 1654,0 1660,0 1666,-6 1666,-12 1666,-12 1666,-24 1666,-24 1666,-30 1660,-36 1654,-36\"/>\n<text text-anchor=\"middle\" x=\"1639\" y=\"-14.3\" font-family=\"Helvetica,sans-Serif\" font-size=\"14.00\" fill=\"#000000\">(...)</text>\n</g>\n<!-- 757&#45;&gt;758 -->\n<g id=\"edge46\" class=\"edge\">\n<title>757&#45;&gt;758</title>\n<path fill=\"none\" stroke=\"#000000\" d=\"M1641.2572,-71.8901C1640.8982,-63.3201 1640.528,-54.4817 1640.1939,-46.5041\"/>\n<polygon fill=\"#000000\" stroke=\"#000000\" points=\"1643.6805,-46.1098 1639.765,-36.2651 1636.6867,-46.4028 1643.6805,-46.1098\"/>\n</g>\n<!-- 763 -->\n<g id=\"node48\" class=\"node\">\n<title>763</title>\n<path fill=\"#c0c0c0\" stroke=\"#000000\" d=\"M1726,-36C1726,-36 1696,-36 1696,-36 1690,-36 1684,-30 1684,-24 1684,-24 1684,-12 1684,-12 1684,-6 1690,0 1696,0 1696,0 1726,0 1726,0 1732,0 1738,-6 1738,-12 1738,-12 1738,-24 1738,-24 1738,-30 1732,-36 1726,-36\"/>\n<text text-anchor=\"middle\" x=\"1711\" y=\"-14.3\" font-family=\"Helvetica,sans-Serif\" font-size=\"14.00\" fill=\"#000000\">(...)</text>\n</g>\n<!-- 757&#45;&gt;763 -->\n<g id=\"edge47\" class=\"edge\">\n<title>757&#45;&gt;763</title>\n<path fill=\"none\" stroke=\"#000000\" d=\"M1672.628,-71.8901C1679.2156,-62.6384 1686.0259,-53.0739 1692.0474,-44.6173\"/>\n<polygon fill=\"#000000\" stroke=\"#000000\" points=\"1695.0453,-46.4412 1697.9945,-36.2651 1689.3431,-42.381 1695.0453,-46.4412\"/>\n</g>\n<!-- 773 -->\n<g id=\"node50\" class=\"node\">\n<title>773</title>\n<path fill=\"#e58139\" stroke=\"#000000\" d=\"M1814.5,-147.5C1814.5,-147.5 1731.5,-147.5 1731.5,-147.5 1725.5,-147.5 1719.5,-141.5 1719.5,-135.5 1719.5,-135.5 1719.5,-91.5 1719.5,-91.5 1719.5,-85.5 1725.5,-79.5 1731.5,-79.5 1731.5,-79.5 1814.5,-79.5 1814.5,-79.5 1820.5,-79.5 1826.5,-85.5 1826.5,-91.5 1826.5,-91.5 1826.5,-135.5 1826.5,-135.5 1826.5,-141.5 1820.5,-147.5 1814.5,-147.5\"/>\n<text text-anchor=\"middle\" x=\"1773\" y=\"-132.3\" font-family=\"Helvetica,sans-Serif\" font-size=\"14.00\" fill=\"#000000\">gini = 0.0</text>\n<text text-anchor=\"middle\" x=\"1773\" y=\"-117.3\" font-family=\"Helvetica,sans-Serif\" font-size=\"14.00\" fill=\"#000000\">samples = 7</text>\n<text text-anchor=\"middle\" x=\"1773\" y=\"-102.3\" font-family=\"Helvetica,sans-Serif\" font-size=\"14.00\" fill=\"#000000\">value = [7, 0]</text>\n<text text-anchor=\"middle\" x=\"1773\" y=\"-87.3\" font-family=\"Helvetica,sans-Serif\" font-size=\"14.00\" fill=\"#000000\">class = yellow</text>\n</g>\n<!-- 772&#45;&gt;773 -->\n<g id=\"edge49\" class=\"edge\">\n<title>772&#45;&gt;773</title>\n<path fill=\"none\" stroke=\"#000000\" d=\"M1815.9164,-190.8796C1809.7567,-179.7735 1803.0889,-167.7513 1796.8871,-156.5691\"/>\n<polygon fill=\"#000000\" stroke=\"#000000\" points=\"1799.9428,-154.8624 1792.0318,-147.8149 1793.8213,-158.2576 1799.9428,-154.8624\"/>\n</g>\n<!-- 774 -->\n<g id=\"node51\" class=\"node\">\n<title>774</title>\n<path fill=\"#eeab7b\" stroke=\"#000000\" d=\"M1951,-155C1951,-155 1857,-155 1857,-155 1851,-155 1845,-149 1845,-143 1845,-143 1845,-84 1845,-84 1845,-78 1851,-72 1857,-72 1857,-72 1951,-72 1951,-72 1957,-72 1963,-78 1963,-84 1963,-84 1963,-143 1963,-143 1963,-149 1957,-155 1951,-155\"/>\n<text text-anchor=\"middle\" x=\"1904\" y=\"-139.8\" font-family=\"Helvetica,sans-Serif\" font-size=\"14.00\" fill=\"#000000\">x1 &lt;= 159173.5</text>\n<text text-anchor=\"middle\" x=\"1904\" y=\"-124.8\" font-family=\"Helvetica,sans-Serif\" font-size=\"14.00\" fill=\"#000000\">gini = 0.375</text>\n<text text-anchor=\"middle\" x=\"1904\" y=\"-109.8\" font-family=\"Helvetica,sans-Serif\" font-size=\"14.00\" fill=\"#000000\">samples = 4</text>\n<text text-anchor=\"middle\" x=\"1904\" y=\"-94.8\" font-family=\"Helvetica,sans-Serif\" font-size=\"14.00\" fill=\"#000000\">value = [3, 1]</text>\n<text text-anchor=\"middle\" x=\"1904\" y=\"-79.8\" font-family=\"Helvetica,sans-Serif\" font-size=\"14.00\" fill=\"#000000\">class = yellow</text>\n</g>\n<!-- 772&#45;&gt;774 -->\n<g id=\"edge50\" class=\"edge\">\n<title>772&#45;&gt;774</title>\n<path fill=\"none\" stroke=\"#000000\" d=\"M1861.7338,-190.8796C1866.4565,-182.2335 1871.4824,-173.0322 1876.359,-164.1042\"/>\n<polygon fill=\"#000000\" stroke=\"#000000\" points=\"1879.447,-165.752 1881.1691,-155.2981 1873.3037,-162.3964 1879.447,-165.752\"/>\n</g>\n<!-- 775 -->\n<g id=\"node52\" class=\"node\">\n<title>775</title>\n<path fill=\"#c0c0c0\" stroke=\"#000000\" d=\"M1851,-36C1851,-36 1821,-36 1821,-36 1815,-36 1809,-30 1809,-24 1809,-24 1809,-12 1809,-12 1809,-6 1815,0 1821,0 1821,0 1851,0 1851,0 1857,0 1863,-6 1863,-12 1863,-12 1863,-24 1863,-24 1863,-30 1857,-36 1851,-36\"/>\n<text text-anchor=\"middle\" x=\"1836\" y=\"-14.3\" font-family=\"Helvetica,sans-Serif\" font-size=\"14.00\" fill=\"#000000\">(...)</text>\n</g>\n<!-- 774&#45;&gt;775 -->\n<g id=\"edge51\" class=\"edge\">\n<title>774&#45;&gt;775</title>\n<path fill=\"none\" stroke=\"#000000\" d=\"M1874.372,-71.8901C1867.7844,-62.6384 1860.9741,-53.0739 1854.9526,-44.6173\"/>\n<polygon fill=\"#000000\" stroke=\"#000000\" points=\"1857.6569,-42.381 1849.0055,-36.2651 1851.9547,-46.4412 1857.6569,-42.381\"/>\n</g>\n<!-- 776 -->\n<g id=\"node53\" class=\"node\">\n<title>776</title>\n<path fill=\"#c0c0c0\" stroke=\"#000000\" d=\"M1923,-36C1923,-36 1893,-36 1893,-36 1887,-36 1881,-30 1881,-24 1881,-24 1881,-12 1881,-12 1881,-6 1887,0 1893,0 1893,0 1923,0 1923,0 1929,0 1935,-6 1935,-12 1935,-12 1935,-24 1935,-24 1935,-30 1929,-36 1923,-36\"/>\n<text text-anchor=\"middle\" x=\"1908\" y=\"-14.3\" font-family=\"Helvetica,sans-Serif\" font-size=\"14.00\" fill=\"#000000\">(...)</text>\n</g>\n<!-- 774&#45;&gt;776 -->\n<g id=\"edge52\" class=\"edge\">\n<title>774&#45;&gt;776</title>\n<path fill=\"none\" stroke=\"#000000\" d=\"M1905.7428,-71.8901C1906.1018,-63.3201 1906.472,-54.4817 1906.8061,-46.5041\"/>\n<polygon fill=\"#000000\" stroke=\"#000000\" points=\"1910.3133,-46.4028 1907.235,-36.2651 1903.3195,-46.1098 1910.3133,-46.4028\"/>\n</g>\n<!-- 778 -->\n<g id=\"node55\" class=\"node\">\n<title>778</title>\n<path fill=\"#e58139\" stroke=\"#000000\" d=\"M2176,-274C2176,-274 2060,-274 2060,-274 2054,-274 2048,-268 2048,-262 2048,-262 2048,-203 2048,-203 2048,-197 2054,-191 2060,-191 2060,-191 2176,-191 2176,-191 2182,-191 2188,-197 2188,-203 2188,-203 2188,-262 2188,-262 2188,-268 2182,-274 2176,-274\"/>\n<text text-anchor=\"middle\" x=\"2118\" y=\"-258.8\" font-family=\"Helvetica,sans-Serif\" font-size=\"14.00\" fill=\"#000000\">x1 &lt;= 126220.5</text>\n<text text-anchor=\"middle\" x=\"2118\" y=\"-243.8\" font-family=\"Helvetica,sans-Serif\" font-size=\"14.00\" fill=\"#000000\">gini = 0.001</text>\n<text text-anchor=\"middle\" x=\"2118\" y=\"-228.8\" font-family=\"Helvetica,sans-Serif\" font-size=\"14.00\" fill=\"#000000\">samples = 57165</text>\n<text text-anchor=\"middle\" x=\"2118\" y=\"-213.8\" font-family=\"Helvetica,sans-Serif\" font-size=\"14.00\" fill=\"#000000\">value = [57140, 25]</text>\n<text text-anchor=\"middle\" x=\"2118\" y=\"-198.8\" font-family=\"Helvetica,sans-Serif\" font-size=\"14.00\" fill=\"#000000\">class = yellow</text>\n</g>\n<!-- 777&#45;&gt;778 -->\n<g id=\"edge54\" class=\"edge\">\n<title>777&#45;&gt;778</title>\n<path fill=\"none\" stroke=\"#000000\" d=\"M2118,-309.8796C2118,-301.6838 2118,-292.9891 2118,-284.5013\"/>\n<polygon fill=\"#000000\" stroke=\"#000000\" points=\"2121.5001,-284.298 2118,-274.2981 2114.5001,-284.2981 2121.5001,-284.298\"/>\n</g>\n<!-- 921 -->\n<g id=\"node62\" class=\"node\">\n<title>921</title>\n<path fill=\"#e58139\" stroke=\"#000000\" d=\"M2402,-274C2402,-274 2286,-274 2286,-274 2280,-274 2274,-268 2274,-262 2274,-262 2274,-203 2274,-203 2274,-197 2280,-191 2286,-191 2286,-191 2402,-191 2402,-191 2408,-191 2414,-197 2414,-203 2414,-203 2414,-262 2414,-262 2414,-268 2408,-274 2402,-274\"/>\n<text text-anchor=\"middle\" x=\"2344\" y=\"-258.8\" font-family=\"Helvetica,sans-Serif\" font-size=\"14.00\" fill=\"#000000\">x2 &lt;= 30.145</text>\n<text text-anchor=\"middle\" x=\"2344\" y=\"-243.8\" font-family=\"Helvetica,sans-Serif\" font-size=\"14.00\" fill=\"#000000\">gini = 0.002</text>\n<text text-anchor=\"middle\" x=\"2344\" y=\"-228.8\" font-family=\"Helvetica,sans-Serif\" font-size=\"14.00\" fill=\"#000000\">samples = 52557</text>\n<text text-anchor=\"middle\" x=\"2344\" y=\"-213.8\" font-family=\"Helvetica,sans-Serif\" font-size=\"14.00\" fill=\"#000000\">value = [52512, 45]</text>\n<text text-anchor=\"middle\" x=\"2344\" y=\"-198.8\" font-family=\"Helvetica,sans-Serif\" font-size=\"14.00\" fill=\"#000000\">class = yellow</text>\n</g>\n<!-- 777&#45;&gt;921 -->\n<g id=\"edge61\" class=\"edge\">\n<title>777&#45;&gt;921</title>\n<path fill=\"none\" stroke=\"#000000\" d=\"M2192.6272,-312.2052C2215.7706,-300.019 2241.3509,-286.5497 2264.794,-274.2058\"/>\n<polygon fill=\"#000000\" stroke=\"#000000\" points=\"2266.447,-277.2911 2273.6646,-269.535 2263.1856,-271.0972 2266.447,-277.2911\"/>\n</g>\n<!-- 779 -->\n<g id=\"node56\" class=\"node\">\n<title>779</title>\n<path fill=\"#e58139\" stroke=\"#000000\" d=\"M2109,-155C2109,-155 1993,-155 1993,-155 1987,-155 1981,-149 1981,-143 1981,-143 1981,-84 1981,-84 1981,-78 1987,-72 1993,-72 1993,-72 2109,-72 2109,-72 2115,-72 2121,-78 2121,-84 2121,-84 2121,-143 2121,-143 2121,-149 2115,-155 2109,-155\"/>\n<text text-anchor=\"middle\" x=\"2051\" y=\"-139.8\" font-family=\"Helvetica,sans-Serif\" font-size=\"14.00\" fill=\"#000000\">x1 &lt;= 126217.0</text>\n<text text-anchor=\"middle\" x=\"2051\" y=\"-124.8\" font-family=\"Helvetica,sans-Serif\" font-size=\"14.00\" fill=\"#000000\">gini = 0.001</text>\n<text text-anchor=\"middle\" x=\"2051\" y=\"-109.8\" font-family=\"Helvetica,sans-Serif\" font-size=\"14.00\" fill=\"#000000\">samples = 36969</text>\n<text text-anchor=\"middle\" x=\"2051\" y=\"-94.8\" font-family=\"Helvetica,sans-Serif\" font-size=\"14.00\" fill=\"#000000\">value = [36948, 21]</text>\n<text text-anchor=\"middle\" x=\"2051\" y=\"-79.8\" font-family=\"Helvetica,sans-Serif\" font-size=\"14.00\" fill=\"#000000\">class = yellow</text>\n</g>\n<!-- 778&#45;&gt;779 -->\n<g id=\"edge55\" class=\"edge\">\n<title>778&#45;&gt;779</title>\n<path fill=\"none\" stroke=\"#000000\" d=\"M2094.5667,-190.8796C2089.6987,-182.2335 2084.5181,-173.0322 2079.4914,-164.1042\"/>\n<polygon fill=\"#000000\" stroke=\"#000000\" points=\"2082.4893,-162.2947 2074.5334,-155.2981 2076.3897,-165.729 2082.4893,-162.2947\"/>\n</g>\n<!-- 892 -->\n<g id=\"node59\" class=\"node\">\n<title>892</title>\n<path fill=\"#e58139\" stroke=\"#000000\" d=\"M2259,-155C2259,-155 2151,-155 2151,-155 2145,-155 2139,-149 2139,-143 2139,-143 2139,-84 2139,-84 2139,-78 2145,-72 2151,-72 2151,-72 2259,-72 2259,-72 2265,-72 2271,-78 2271,-84 2271,-84 2271,-143 2271,-143 2271,-149 2265,-155 2259,-155\"/>\n<text text-anchor=\"middle\" x=\"2205\" y=\"-139.8\" font-family=\"Helvetica,sans-Serif\" font-size=\"14.00\" fill=\"#000000\">x1 &lt;= 139106.5</text>\n<text text-anchor=\"middle\" x=\"2205\" y=\"-124.8\" font-family=\"Helvetica,sans-Serif\" font-size=\"14.00\" fill=\"#000000\">gini = 0.0</text>\n<text text-anchor=\"middle\" x=\"2205\" y=\"-109.8\" font-family=\"Helvetica,sans-Serif\" font-size=\"14.00\" fill=\"#000000\">samples = 20196</text>\n<text text-anchor=\"middle\" x=\"2205\" y=\"-94.8\" font-family=\"Helvetica,sans-Serif\" font-size=\"14.00\" fill=\"#000000\">value = [20192, 4]</text>\n<text text-anchor=\"middle\" x=\"2205\" y=\"-79.8\" font-family=\"Helvetica,sans-Serif\" font-size=\"14.00\" fill=\"#000000\">class = yellow</text>\n</g>\n<!-- 778&#45;&gt;892 -->\n<g id=\"edge58\" class=\"edge\">\n<title>778&#45;&gt;892</title>\n<path fill=\"none\" stroke=\"#000000\" d=\"M2148.4284,-190.8796C2154.8811,-182.0534 2161.757,-172.6485 2168.4113,-163.5466\"/>\n<polygon fill=\"#000000\" stroke=\"#000000\" points=\"2171.3653,-165.4364 2174.4417,-155.2981 2165.7144,-161.3051 2171.3653,-165.4364\"/>\n</g>\n<!-- 780 -->\n<g id=\"node57\" class=\"node\">\n<title>780</title>\n<path fill=\"#c0c0c0\" stroke=\"#000000\" d=\"M2007,-36C2007,-36 1977,-36 1977,-36 1971,-36 1965,-30 1965,-24 1965,-24 1965,-12 1965,-12 1965,-6 1971,0 1977,0 1977,0 2007,0 2007,0 2013,0 2019,-6 2019,-12 2019,-12 2019,-24 2019,-24 2019,-30 2013,-36 2007,-36\"/>\n<text text-anchor=\"middle\" x=\"1992\" y=\"-14.3\" font-family=\"Helvetica,sans-Serif\" font-size=\"14.00\" fill=\"#000000\">(...)</text>\n</g>\n<!-- 779&#45;&gt;780 -->\n<g id=\"edge56\" class=\"edge\">\n<title>779&#45;&gt;780</title>\n<path fill=\"none\" stroke=\"#000000\" d=\"M2025.2934,-71.8901C2019.6378,-62.7357 2013.7931,-53.2752 2008.6094,-44.8847\"/>\n<polygon fill=\"#000000\" stroke=\"#000000\" points=\"2011.5177,-42.9329 2003.2842,-36.2651 2005.5625,-46.6121 2011.5177,-42.9329\"/>\n</g>\n<!-- 889 -->\n<g id=\"node58\" class=\"node\">\n<title>889</title>\n<path fill=\"#c0c0c0\" stroke=\"#000000\" d=\"M2079,-36C2079,-36 2049,-36 2049,-36 2043,-36 2037,-30 2037,-24 2037,-24 2037,-12 2037,-12 2037,-6 2043,0 2049,0 2049,0 2079,0 2079,0 2085,0 2091,-6 2091,-12 2091,-12 2091,-24 2091,-24 2091,-30 2085,-36 2079,-36\"/>\n<text text-anchor=\"middle\" x=\"2064\" y=\"-14.3\" font-family=\"Helvetica,sans-Serif\" font-size=\"14.00\" fill=\"#000000\">(...)</text>\n</g>\n<!-- 779&#45;&gt;889 -->\n<g id=\"edge57\" class=\"edge\">\n<title>779&#45;&gt;889</title>\n<path fill=\"none\" stroke=\"#000000\" d=\"M2056.6642,-71.8901C2057.844,-63.2227 2059.0613,-54.2808 2060.1568,-46.2325\"/>\n<polygon fill=\"#000000\" stroke=\"#000000\" points=\"2063.6328,-46.6458 2061.5137,-36.2651 2056.6967,-45.7016 2063.6328,-46.6458\"/>\n</g>\n<!-- 893 -->\n<g id=\"node60\" class=\"node\">\n<title>893</title>\n<path fill=\"#c0c0c0\" stroke=\"#000000\" d=\"M2156,-36C2156,-36 2126,-36 2126,-36 2120,-36 2114,-30 2114,-24 2114,-24 2114,-12 2114,-12 2114,-6 2120,0 2126,0 2126,0 2156,0 2156,0 2162,0 2168,-6 2168,-12 2168,-12 2168,-24 2168,-24 2168,-30 2162,-36 2156,-36\"/>\n<text text-anchor=\"middle\" x=\"2141\" y=\"-14.3\" font-family=\"Helvetica,sans-Serif\" font-size=\"14.00\" fill=\"#000000\">(...)</text>\n</g>\n<!-- 892&#45;&gt;893 -->\n<g id=\"edge59\" class=\"edge\">\n<title>892&#45;&gt;893</title>\n<path fill=\"none\" stroke=\"#000000\" d=\"M2177.1148,-71.8901C2170.9147,-62.6384 2164.505,-53.0739 2158.8377,-44.6173\"/>\n<polygon fill=\"#000000\" stroke=\"#000000\" points=\"2161.7151,-42.6237 2153.2405,-36.2651 2155.9001,-46.5207 2161.7151,-42.6237\"/>\n</g>\n<!-- 894 -->\n<g id=\"node61\" class=\"node\">\n<title>894</title>\n<path fill=\"#c0c0c0\" stroke=\"#000000\" d=\"M2228,-36C2228,-36 2198,-36 2198,-36 2192,-36 2186,-30 2186,-24 2186,-24 2186,-12 2186,-12 2186,-6 2192,0 2198,0 2198,0 2228,0 2228,0 2234,0 2240,-6 2240,-12 2240,-12 2240,-24 2240,-24 2240,-30 2234,-36 2228,-36\"/>\n<text text-anchor=\"middle\" x=\"2213\" y=\"-14.3\" font-family=\"Helvetica,sans-Serif\" font-size=\"14.00\" fill=\"#000000\">(...)</text>\n</g>\n<!-- 892&#45;&gt;894 -->\n<g id=\"edge60\" class=\"edge\">\n<title>892&#45;&gt;894</title>\n<path fill=\"none\" stroke=\"#000000\" d=\"M2208.4856,-71.8901C2209.2117,-63.2227 2209.9608,-54.2808 2210.635,-46.2325\"/>\n<polygon fill=\"#000000\" stroke=\"#000000\" points=\"2214.1229,-46.5224 2211.4699,-36.2651 2207.1473,-45.938 2214.1229,-46.5224\"/>\n</g>\n<!-- 922 -->\n<g id=\"node63\" class=\"node\">\n<title>922</title>\n<path fill=\"#e88f4f\" stroke=\"#000000\" d=\"M2387,-155C2387,-155 2301,-155 2301,-155 2295,-155 2289,-149 2289,-143 2289,-143 2289,-84 2289,-84 2289,-78 2295,-72 2301,-72 2301,-72 2387,-72 2387,-72 2393,-72 2399,-78 2399,-84 2399,-84 2399,-143 2399,-143 2399,-149 2393,-155 2387,-155\"/>\n<text text-anchor=\"middle\" x=\"2344\" y=\"-139.8\" font-family=\"Helvetica,sans-Serif\" font-size=\"14.00\" fill=\"#000000\">x1 &lt;= 78975.0</text>\n<text text-anchor=\"middle\" x=\"2344\" y=\"-124.8\" font-family=\"Helvetica,sans-Serif\" font-size=\"14.00\" fill=\"#000000\">gini = 0.18</text>\n<text text-anchor=\"middle\" x=\"2344\" y=\"-109.8\" font-family=\"Helvetica,sans-Serif\" font-size=\"14.00\" fill=\"#000000\">samples = 10</text>\n<text text-anchor=\"middle\" x=\"2344\" y=\"-94.8\" font-family=\"Helvetica,sans-Serif\" font-size=\"14.00\" fill=\"#000000\">value = [9, 1]</text>\n<text text-anchor=\"middle\" x=\"2344\" y=\"-79.8\" font-family=\"Helvetica,sans-Serif\" font-size=\"14.00\" fill=\"#000000\">class = yellow</text>\n</g>\n<!-- 921&#45;&gt;922 -->\n<g id=\"edge62\" class=\"edge\">\n<title>921&#45;&gt;922</title>\n<path fill=\"none\" stroke=\"#000000\" d=\"M2344,-190.8796C2344,-182.6838 2344,-173.9891 2344,-165.5013\"/>\n<polygon fill=\"#000000\" stroke=\"#000000\" points=\"2347.5001,-165.298 2344,-155.2981 2340.5001,-165.2981 2347.5001,-165.298\"/>\n</g>\n<!-- 927 -->\n<g id=\"node66\" class=\"node\">\n<title>927</title>\n<path fill=\"#e58139\" stroke=\"#000000\" d=\"M2545,-155C2545,-155 2429,-155 2429,-155 2423,-155 2417,-149 2417,-143 2417,-143 2417,-84 2417,-84 2417,-78 2423,-72 2429,-72 2429,-72 2545,-72 2545,-72 2551,-72 2557,-78 2557,-84 2557,-84 2557,-143 2557,-143 2557,-149 2551,-155 2545,-155\"/>\n<text text-anchor=\"middle\" x=\"2487\" y=\"-139.8\" font-family=\"Helvetica,sans-Serif\" font-size=\"14.00\" fill=\"#000000\">x2 &lt;= 30.395</text>\n<text text-anchor=\"middle\" x=\"2487\" y=\"-124.8\" font-family=\"Helvetica,sans-Serif\" font-size=\"14.00\" fill=\"#000000\">gini = 0.002</text>\n<text text-anchor=\"middle\" x=\"2487\" y=\"-109.8\" font-family=\"Helvetica,sans-Serif\" font-size=\"14.00\" fill=\"#000000\">samples = 52547</text>\n<text text-anchor=\"middle\" x=\"2487\" y=\"-94.8\" font-family=\"Helvetica,sans-Serif\" font-size=\"14.00\" fill=\"#000000\">value = [52503, 44]</text>\n<text text-anchor=\"middle\" x=\"2487\" y=\"-79.8\" font-family=\"Helvetica,sans-Serif\" font-size=\"14.00\" fill=\"#000000\">class = yellow</text>\n</g>\n<!-- 921&#45;&gt;927 -->\n<g id=\"edge65\" class=\"edge\">\n<title>921&#45;&gt;927</title>\n<path fill=\"none\" stroke=\"#000000\" d=\"M2394.0145,-190.8796C2405.2701,-181.513 2417.3088,-171.4948 2428.8646,-161.8784\"/>\n<polygon fill=\"#000000\" stroke=\"#000000\" points=\"2431.3242,-164.385 2436.7721,-155.2981 2426.8466,-159.0043 2431.3242,-164.385\"/>\n</g>\n<!-- 923 -->\n<g id=\"node64\" class=\"node\">\n<title>923</title>\n<path fill=\"#c0c0c0\" stroke=\"#000000\" d=\"M2333,-36C2333,-36 2303,-36 2303,-36 2297,-36 2291,-30 2291,-24 2291,-24 2291,-12 2291,-12 2291,-6 2297,0 2303,0 2303,0 2333,0 2333,0 2339,0 2345,-6 2345,-12 2345,-12 2345,-24 2345,-24 2345,-30 2339,-36 2333,-36\"/>\n<text text-anchor=\"middle\" x=\"2318\" y=\"-14.3\" font-family=\"Helvetica,sans-Serif\" font-size=\"14.00\" fill=\"#000000\">(...)</text>\n</g>\n<!-- 922&#45;&gt;923 -->\n<g id=\"edge63\" class=\"edge\">\n<title>922&#45;&gt;923</title>\n<path fill=\"none\" stroke=\"#000000\" d=\"M2332.6717,-71.8901C2330.2854,-63.1253 2327.8228,-54.0798 2325.6126,-45.9615\"/>\n<polygon fill=\"#000000\" stroke=\"#000000\" points=\"2328.9768,-44.9945 2322.9727,-36.2651 2322.2226,-46.8333 2328.9768,-44.9945\"/>\n</g>\n<!-- 926 -->\n<g id=\"node65\" class=\"node\">\n<title>926</title>\n<path fill=\"#c0c0c0\" stroke=\"#000000\" d=\"M2405,-36C2405,-36 2375,-36 2375,-36 2369,-36 2363,-30 2363,-24 2363,-24 2363,-12 2363,-12 2363,-6 2369,0 2375,0 2375,0 2405,0 2405,0 2411,0 2417,-6 2417,-12 2417,-12 2417,-24 2417,-24 2417,-30 2411,-36 2405,-36\"/>\n<text text-anchor=\"middle\" x=\"2390\" y=\"-14.3\" font-family=\"Helvetica,sans-Serif\" font-size=\"14.00\" fill=\"#000000\">(...)</text>\n</g>\n<!-- 922&#45;&gt;926 -->\n<g id=\"edge64\" class=\"edge\">\n<title>922&#45;&gt;926</title>\n<path fill=\"none\" stroke=\"#000000\" d=\"M2364.0425,-71.8901C2368.3581,-62.9305 2372.8149,-53.6777 2376.7917,-45.4217\"/>\n<polygon fill=\"#000000\" stroke=\"#000000\" points=\"2380.0158,-46.7933 2381.2021,-36.2651 2373.7092,-43.7556 2380.0158,-46.7933\"/>\n</g>\n<!-- 928 -->\n<g id=\"node67\" class=\"node\">\n<title>928</title>\n<path fill=\"#c0c0c0\" stroke=\"#000000\" d=\"M2493,-36C2493,-36 2463,-36 2463,-36 2457,-36 2451,-30 2451,-24 2451,-24 2451,-12 2451,-12 2451,-6 2457,0 2463,0 2463,0 2493,0 2493,0 2499,0 2505,-6 2505,-12 2505,-12 2505,-24 2505,-24 2505,-30 2499,-36 2493,-36\"/>\n<text text-anchor=\"middle\" x=\"2478\" y=\"-14.3\" font-family=\"Helvetica,sans-Serif\" font-size=\"14.00\" fill=\"#000000\">(...)</text>\n</g>\n<!-- 927&#45;&gt;928 -->\n<g id=\"edge66\" class=\"edge\">\n<title>927&#45;&gt;928</title>\n<path fill=\"none\" stroke=\"#000000\" d=\"M2483.0787,-71.8901C2482.2618,-63.2227 2481.4191,-54.2808 2480.6607,-46.2325\"/>\n<polygon fill=\"#000000\" stroke=\"#000000\" points=\"2484.1442,-45.8926 2479.7213,-36.2651 2477.1751,-46.5494 2484.1442,-45.8926\"/>\n</g>\n<!-- 943 -->\n<g id=\"node68\" class=\"node\">\n<title>943</title>\n<path fill=\"#c0c0c0\" stroke=\"#000000\" d=\"M2565,-36C2565,-36 2535,-36 2535,-36 2529,-36 2523,-30 2523,-24 2523,-24 2523,-12 2523,-12 2523,-6 2529,0 2535,0 2535,0 2565,0 2565,0 2571,0 2577,-6 2577,-12 2577,-12 2577,-24 2577,-24 2577,-30 2571,-36 2565,-36\"/>\n<text text-anchor=\"middle\" x=\"2550\" y=\"-14.3\" font-family=\"Helvetica,sans-Serif\" font-size=\"14.00\" fill=\"#000000\">(...)</text>\n</g>\n<!-- 927&#45;&gt;943 -->\n<g id=\"edge67\" class=\"edge\">\n<title>927&#45;&gt;943</title>\n<path fill=\"none\" stroke=\"#000000\" d=\"M2514.4494,-71.8901C2520.5527,-62.6384 2526.8622,-53.0739 2532.441,-44.6173\"/>\n<polygon fill=\"#000000\" stroke=\"#000000\" points=\"2535.3657,-46.5397 2537.9508,-36.2651 2529.5226,-42.6851 2535.3657,-46.5397\"/>\n</g>\n<!-- 1141 -->\n<g id=\"node70\" class=\"node\">\n<title>1141</title>\n<path fill=\"#e68743\" stroke=\"#000000\" d=\"M2876,-393C2876,-393 2776,-393 2776,-393 2770,-393 2764,-387 2764,-381 2764,-381 2764,-322 2764,-322 2764,-316 2770,-310 2776,-310 2776,-310 2876,-310 2876,-310 2882,-310 2888,-316 2888,-322 2888,-322 2888,-381 2888,-381 2888,-387 2882,-393 2876,-393\"/>\n<text text-anchor=\"middle\" x=\"2826\" y=\"-377.8\" font-family=\"Helvetica,sans-Serif\" font-size=\"14.00\" fill=\"#000000\">x1 &lt;= 28778.5</text>\n<text text-anchor=\"middle\" x=\"2826\" y=\"-362.8\" font-family=\"Helvetica,sans-Serif\" font-size=\"14.00\" fill=\"#000000\">gini = 0.093</text>\n<text text-anchor=\"middle\" x=\"2826\" y=\"-347.8\" font-family=\"Helvetica,sans-Serif\" font-size=\"14.00\" fill=\"#000000\">samples = 451</text>\n<text text-anchor=\"middle\" x=\"2826\" y=\"-332.8\" font-family=\"Helvetica,sans-Serif\" font-size=\"14.00\" fill=\"#000000\">value = [429, 22]</text>\n<text text-anchor=\"middle\" x=\"2826\" y=\"-317.8\" font-family=\"Helvetica,sans-Serif\" font-size=\"14.00\" fill=\"#000000\">class = yellow</text>\n</g>\n<!-- 1140&#45;&gt;1141 -->\n<g id=\"edge69\" class=\"edge\">\n<title>1140&#45;&gt;1141</title>\n<path fill=\"none\" stroke=\"#000000\" d=\"M2826,-428.8796C2826,-420.6838 2826,-411.9891 2826,-403.5013\"/>\n<polygon fill=\"#000000\" stroke=\"#000000\" points=\"2829.5001,-403.298 2826,-393.2981 2822.5001,-403.2981 2829.5001,-403.298\"/>\n</g>\n<!-- 1176 -->\n<g id=\"node83\" class=\"node\">\n<title>1176</title>\n<path fill=\"#e58139\" stroke=\"#000000\" d=\"M3300.5,-393C3300.5,-393 3175.5,-393 3175.5,-393 3169.5,-393 3163.5,-387 3163.5,-381 3163.5,-381 3163.5,-322 3163.5,-322 3163.5,-316 3169.5,-310 3175.5,-310 3175.5,-310 3300.5,-310 3300.5,-310 3306.5,-310 3312.5,-316 3312.5,-322 3312.5,-322 3312.5,-381 3312.5,-381 3312.5,-387 3306.5,-393 3300.5,-393\"/>\n<text text-anchor=\"middle\" x=\"3238\" y=\"-377.8\" font-family=\"Helvetica,sans-Serif\" font-size=\"14.00\" fill=\"#000000\">x2 &lt;= 237.25</text>\n<text text-anchor=\"middle\" x=\"3238\" y=\"-362.8\" font-family=\"Helvetica,sans-Serif\" font-size=\"14.00\" fill=\"#000000\">gini = 0.005</text>\n<text text-anchor=\"middle\" x=\"3238\" y=\"-347.8\" font-family=\"Helvetica,sans-Serif\" font-size=\"14.00\" fill=\"#000000\">samples = 46016</text>\n<text text-anchor=\"middle\" x=\"3238\" y=\"-332.8\" font-family=\"Helvetica,sans-Serif\" font-size=\"14.00\" fill=\"#000000\">value = [45912, 104]</text>\n<text text-anchor=\"middle\" x=\"3238\" y=\"-317.8\" font-family=\"Helvetica,sans-Serif\" font-size=\"14.00\" fill=\"#000000\">class = yellow</text>\n</g>\n<!-- 1140&#45;&gt;1176 -->\n<g id=\"edge82\" class=\"edge\">\n<title>1140&#45;&gt;1176</title>\n<path fill=\"none\" stroke=\"#000000\" d=\"M2900.6101,-448.95C2971.848,-428.374 3079.0644,-397.4062 3153.4373,-375.9247\"/>\n<polygon fill=\"#000000\" stroke=\"#000000\" points=\"3154.6139,-379.228 3163.25,-373.0904 3152.6715,-372.5029 3154.6139,-379.228\"/>\n</g>\n<!-- 1142 -->\n<g id=\"node71\" class=\"node\">\n<title>1142</title>\n<path fill=\"#eda775\" stroke=\"#000000\" d=\"M2805,-274C2805,-274 2713,-274 2713,-274 2707,-274 2701,-268 2701,-262 2701,-262 2701,-203 2701,-203 2701,-197 2707,-191 2713,-191 2713,-191 2805,-191 2805,-191 2811,-191 2817,-197 2817,-203 2817,-203 2817,-262 2817,-262 2817,-268 2811,-274 2805,-274\"/>\n<text text-anchor=\"middle\" x=\"2759\" y=\"-258.8\" font-family=\"Helvetica,sans-Serif\" font-size=\"14.00\" fill=\"#000000\">x1 &lt;= 24496.0</text>\n<text text-anchor=\"middle\" x=\"2759\" y=\"-243.8\" font-family=\"Helvetica,sans-Serif\" font-size=\"14.00\" fill=\"#000000\">gini = 0.356</text>\n<text text-anchor=\"middle\" x=\"2759\" y=\"-228.8\" font-family=\"Helvetica,sans-Serif\" font-size=\"14.00\" fill=\"#000000\">samples = 69</text>\n<text text-anchor=\"middle\" x=\"2759\" y=\"-213.8\" font-family=\"Helvetica,sans-Serif\" font-size=\"14.00\" fill=\"#000000\">value = [53, 16]</text>\n<text text-anchor=\"middle\" x=\"2759\" y=\"-198.8\" font-family=\"Helvetica,sans-Serif\" font-size=\"14.00\" fill=\"#000000\">class = yellow</text>\n</g>\n<!-- 1141&#45;&gt;1142 -->\n<g id=\"edge70\" class=\"edge\">\n<title>1141&#45;&gt;1142</title>\n<path fill=\"none\" stroke=\"#000000\" d=\"M2802.5667,-309.8796C2797.6987,-301.2335 2792.5181,-292.0322 2787.4914,-283.1042\"/>\n<polygon fill=\"#000000\" stroke=\"#000000\" points=\"2790.4893,-281.2947 2782.5334,-274.2981 2784.3897,-284.729 2790.4893,-281.2947\"/>\n</g>\n<!-- 1165 -->\n<g id=\"node76\" class=\"node\">\n<title>1165</title>\n<path fill=\"#e5833c\" stroke=\"#000000\" d=\"M2939,-274C2939,-274 2847,-274 2847,-274 2841,-274 2835,-268 2835,-262 2835,-262 2835,-203 2835,-203 2835,-197 2841,-191 2847,-191 2847,-191 2939,-191 2939,-191 2945,-191 2951,-197 2951,-203 2951,-203 2951,-262 2951,-262 2951,-268 2945,-274 2939,-274\"/>\n<text text-anchor=\"middle\" x=\"2893\" y=\"-258.8\" font-family=\"Helvetica,sans-Serif\" font-size=\"14.00\" fill=\"#000000\">x1 &lt;= 51176.0</text>\n<text text-anchor=\"middle\" x=\"2893\" y=\"-243.8\" font-family=\"Helvetica,sans-Serif\" font-size=\"14.00\" fill=\"#000000\">gini = 0.031</text>\n<text text-anchor=\"middle\" x=\"2893\" y=\"-228.8\" font-family=\"Helvetica,sans-Serif\" font-size=\"14.00\" fill=\"#000000\">samples = 382</text>\n<text text-anchor=\"middle\" x=\"2893\" y=\"-213.8\" font-family=\"Helvetica,sans-Serif\" font-size=\"14.00\" fill=\"#000000\">value = [376, 6]</text>\n<text text-anchor=\"middle\" x=\"2893\" y=\"-198.8\" font-family=\"Helvetica,sans-Serif\" font-size=\"14.00\" fill=\"#000000\">class = yellow</text>\n</g>\n<!-- 1141&#45;&gt;1165 -->\n<g id=\"edge75\" class=\"edge\">\n<title>1141&#45;&gt;1165</title>\n<path fill=\"none\" stroke=\"#000000\" d=\"M2849.4333,-309.8796C2854.3013,-301.2335 2859.4819,-292.0322 2864.5086,-283.1042\"/>\n<polygon fill=\"#000000\" stroke=\"#000000\" points=\"2867.6103,-284.729 2869.4666,-274.2981 2861.5107,-281.2947 2867.6103,-284.729\"/>\n</g>\n<!-- 1143 -->\n<g id=\"node72\" class=\"node\">\n<title>1143</title>\n<path fill=\"#e58139\" stroke=\"#000000\" d=\"M2670.5,-147.5C2670.5,-147.5 2587.5,-147.5 2587.5,-147.5 2581.5,-147.5 2575.5,-141.5 2575.5,-135.5 2575.5,-135.5 2575.5,-91.5 2575.5,-91.5 2575.5,-85.5 2581.5,-79.5 2587.5,-79.5 2587.5,-79.5 2670.5,-79.5 2670.5,-79.5 2676.5,-79.5 2682.5,-85.5 2682.5,-91.5 2682.5,-91.5 2682.5,-135.5 2682.5,-135.5 2682.5,-141.5 2676.5,-147.5 2670.5,-147.5\"/>\n<text text-anchor=\"middle\" x=\"2629\" y=\"-132.3\" font-family=\"Helvetica,sans-Serif\" font-size=\"14.00\" fill=\"#000000\">gini = 0.0</text>\n<text text-anchor=\"middle\" x=\"2629\" y=\"-117.3\" font-family=\"Helvetica,sans-Serif\" font-size=\"14.00\" fill=\"#000000\">samples = 32</text>\n<text text-anchor=\"middle\" x=\"2629\" y=\"-102.3\" font-family=\"Helvetica,sans-Serif\" font-size=\"14.00\" fill=\"#000000\">value = [32, 0]</text>\n<text text-anchor=\"middle\" x=\"2629\" y=\"-87.3\" font-family=\"Helvetica,sans-Serif\" font-size=\"14.00\" fill=\"#000000\">class = yellow</text>\n</g>\n<!-- 1142&#45;&gt;1143 -->\n<g id=\"edge71\" class=\"edge\">\n<title>1142&#45;&gt;1143</title>\n<path fill=\"none\" stroke=\"#000000\" d=\"M2713.5323,-190.8796C2700.6789,-179.1138 2686.7021,-166.3197 2673.8834,-154.5855\"/>\n<polygon fill=\"#000000\" stroke=\"#000000\" points=\"2676.2264,-151.9854 2666.4869,-147.8149 2671.4999,-157.1488 2676.2264,-151.9854\"/>\n</g>\n<!-- 1144 -->\n<g id=\"node73\" class=\"node\">\n<title>1144</title>\n<path fill=\"#f9e1d0\" stroke=\"#000000\" d=\"M2805,-155C2805,-155 2713,-155 2713,-155 2707,-155 2701,-149 2701,-143 2701,-143 2701,-84 2701,-84 2701,-78 2707,-72 2713,-72 2713,-72 2805,-72 2805,-72 2811,-72 2817,-78 2817,-84 2817,-84 2817,-143 2817,-143 2817,-149 2811,-155 2805,-155\"/>\n<text text-anchor=\"middle\" x=\"2759\" y=\"-139.8\" font-family=\"Helvetica,sans-Serif\" font-size=\"14.00\" fill=\"#000000\">x1 &lt;= 27296.5</text>\n<text text-anchor=\"middle\" x=\"2759\" y=\"-124.8\" font-family=\"Helvetica,sans-Serif\" font-size=\"14.00\" fill=\"#000000\">gini = 0.491</text>\n<text text-anchor=\"middle\" x=\"2759\" y=\"-109.8\" font-family=\"Helvetica,sans-Serif\" font-size=\"14.00\" fill=\"#000000\">samples = 37</text>\n<text text-anchor=\"middle\" x=\"2759\" y=\"-94.8\" font-family=\"Helvetica,sans-Serif\" font-size=\"14.00\" fill=\"#000000\">value = [21, 16]</text>\n<text text-anchor=\"middle\" x=\"2759\" y=\"-79.8\" font-family=\"Helvetica,sans-Serif\" font-size=\"14.00\" fill=\"#000000\">class = yellow</text>\n</g>\n<!-- 1142&#45;&gt;1144 -->\n<g id=\"edge72\" class=\"edge\">\n<title>1142&#45;&gt;1144</title>\n<path fill=\"none\" stroke=\"#000000\" d=\"M2759,-190.8796C2759,-182.6838 2759,-173.9891 2759,-165.5013\"/>\n<polygon fill=\"#000000\" stroke=\"#000000\" points=\"2762.5001,-165.298 2759,-155.2981 2755.5001,-165.2981 2762.5001,-165.298\"/>\n</g>\n<!-- 1145 -->\n<g id=\"node74\" class=\"node\">\n<title>1145</title>\n<path fill=\"#c0c0c0\" stroke=\"#000000\" d=\"M2708,-36C2708,-36 2678,-36 2678,-36 2672,-36 2666,-30 2666,-24 2666,-24 2666,-12 2666,-12 2666,-6 2672,0 2678,0 2678,0 2708,0 2708,0 2714,0 2720,-6 2720,-12 2720,-12 2720,-24 2720,-24 2720,-30 2714,-36 2708,-36\"/>\n<text text-anchor=\"middle\" x=\"2693\" y=\"-14.3\" font-family=\"Helvetica,sans-Serif\" font-size=\"14.00\" fill=\"#000000\">(...)</text>\n</g>\n<!-- 1144&#45;&gt;1145 -->\n<g id=\"edge73\" class=\"edge\">\n<title>1144&#45;&gt;1145</title>\n<path fill=\"none\" stroke=\"#000000\" d=\"M2730.2434,-71.8901C2723.8495,-62.6384 2717.2396,-53.0739 2711.3952,-44.6173\"/>\n<polygon fill=\"#000000\" stroke=\"#000000\" points=\"2714.1877,-42.5018 2705.623,-36.2651 2708.4291,-46.4816 2714.1877,-42.5018\"/>\n</g>\n<!-- 1156 -->\n<g id=\"node75\" class=\"node\">\n<title>1156</title>\n<path fill=\"#c0c0c0\" stroke=\"#000000\" d=\"M2780,-36C2780,-36 2750,-36 2750,-36 2744,-36 2738,-30 2738,-24 2738,-24 2738,-12 2738,-12 2738,-6 2744,0 2750,0 2750,0 2780,0 2780,0 2786,0 2792,-6 2792,-12 2792,-12 2792,-24 2792,-24 2792,-30 2786,-36 2780,-36\"/>\n<text text-anchor=\"middle\" x=\"2765\" y=\"-14.3\" font-family=\"Helvetica,sans-Serif\" font-size=\"14.00\" fill=\"#000000\">(...)</text>\n</g>\n<!-- 1144&#45;&gt;1156 -->\n<g id=\"edge74\" class=\"edge\">\n<title>1144&#45;&gt;1156</title>\n<path fill=\"none\" stroke=\"#000000\" d=\"M2761.6142,-71.8901C2762.1527,-63.3201 2762.708,-54.4817 2763.2092,-46.5041\"/>\n<polygon fill=\"#000000\" stroke=\"#000000\" points=\"2766.7184,-46.4649 2763.8525,-36.2651 2759.7322,-46.0259 2766.7184,-46.4649\"/>\n</g>\n<!-- 1166 -->\n<g id=\"node77\" class=\"node\">\n<title>1166</title>\n<path fill=\"#e68641\" stroke=\"#000000\" d=\"M2939,-155C2939,-155 2847,-155 2847,-155 2841,-155 2835,-149 2835,-143 2835,-143 2835,-84 2835,-84 2835,-78 2841,-72 2847,-72 2847,-72 2939,-72 2939,-72 2945,-72 2951,-78 2951,-84 2951,-84 2951,-143 2951,-143 2951,-149 2945,-155 2939,-155\"/>\n<text text-anchor=\"middle\" x=\"2893\" y=\"-139.8\" font-family=\"Helvetica,sans-Serif\" font-size=\"14.00\" fill=\"#000000\">x1 &lt;= 50622.0</text>\n<text text-anchor=\"middle\" x=\"2893\" y=\"-124.8\" font-family=\"Helvetica,sans-Serif\" font-size=\"14.00\" fill=\"#000000\">gini = 0.071</text>\n<text text-anchor=\"middle\" x=\"2893\" y=\"-109.8\" font-family=\"Helvetica,sans-Serif\" font-size=\"14.00\" fill=\"#000000\">samples = 135</text>\n<text text-anchor=\"middle\" x=\"2893\" y=\"-94.8\" font-family=\"Helvetica,sans-Serif\" font-size=\"14.00\" fill=\"#000000\">value = [130, 5]</text>\n<text text-anchor=\"middle\" x=\"2893\" y=\"-79.8\" font-family=\"Helvetica,sans-Serif\" font-size=\"14.00\" fill=\"#000000\">class = yellow</text>\n</g>\n<!-- 1165&#45;&gt;1166 -->\n<g id=\"edge76\" class=\"edge\">\n<title>1165&#45;&gt;1166</title>\n<path fill=\"none\" stroke=\"#000000\" d=\"M2893,-190.8796C2893,-182.6838 2893,-173.9891 2893,-165.5013\"/>\n<polygon fill=\"#000000\" stroke=\"#000000\" points=\"2896.5001,-165.298 2893,-155.2981 2889.5001,-165.2981 2896.5001,-165.298\"/>\n</g>\n<!-- 1169 -->\n<g id=\"node80\" class=\"node\">\n<title>1169</title>\n<path fill=\"#e5823a\" stroke=\"#000000\" d=\"M3073,-155C3073,-155 2981,-155 2981,-155 2975,-155 2969,-149 2969,-143 2969,-143 2969,-84 2969,-84 2969,-78 2975,-72 2981,-72 2981,-72 3073,-72 3073,-72 3079,-72 3085,-78 3085,-84 3085,-84 3085,-143 3085,-143 3085,-149 3079,-155 3073,-155\"/>\n<text text-anchor=\"middle\" x=\"3027\" y=\"-139.8\" font-family=\"Helvetica,sans-Serif\" font-size=\"14.00\" fill=\"#000000\">x2 &lt;= 99.91</text>\n<text text-anchor=\"middle\" x=\"3027\" y=\"-124.8\" font-family=\"Helvetica,sans-Serif\" font-size=\"14.00\" fill=\"#000000\">gini = 0.008</text>\n<text text-anchor=\"middle\" x=\"3027\" y=\"-109.8\" font-family=\"Helvetica,sans-Serif\" font-size=\"14.00\" fill=\"#000000\">samples = 247</text>\n<text text-anchor=\"middle\" x=\"3027\" y=\"-94.8\" font-family=\"Helvetica,sans-Serif\" font-size=\"14.00\" fill=\"#000000\">value = [246, 1]</text>\n<text text-anchor=\"middle\" x=\"3027\" y=\"-79.8\" font-family=\"Helvetica,sans-Serif\" font-size=\"14.00\" fill=\"#000000\">class = yellow</text>\n</g>\n<!-- 1165&#45;&gt;1169 -->\n<g id=\"edge79\" class=\"edge\">\n<title>1165&#45;&gt;1169</title>\n<path fill=\"none\" stroke=\"#000000\" d=\"M2939.8667,-190.8796C2950.3125,-181.6031 2961.4781,-171.6874 2972.211,-162.1559\"/>\n<polygon fill=\"#000000\" stroke=\"#000000\" points=\"2974.7801,-164.5553 2979.9333,-155.2981 2970.132,-159.3213 2974.7801,-164.5553\"/>\n</g>\n<!-- 1167 -->\n<g id=\"node78\" class=\"node\">\n<title>1167</title>\n<path fill=\"#c0c0c0\" stroke=\"#000000\" d=\"M2859,-36C2859,-36 2829,-36 2829,-36 2823,-36 2817,-30 2817,-24 2817,-24 2817,-12 2817,-12 2817,-6 2823,0 2829,0 2829,0 2859,0 2859,0 2865,0 2871,-6 2871,-12 2871,-12 2871,-24 2871,-24 2871,-30 2865,-36 2859,-36\"/>\n<text text-anchor=\"middle\" x=\"2844\" y=\"-14.3\" font-family=\"Helvetica,sans-Serif\" font-size=\"14.00\" fill=\"#000000\">(...)</text>\n</g>\n<!-- 1166&#45;&gt;1167 -->\n<g id=\"edge77\" class=\"edge\">\n<title>1166&#45;&gt;1167</title>\n<path fill=\"none\" stroke=\"#000000\" d=\"M2871.6504,-71.8901C2867.0534,-62.9305 2862.3058,-53.6777 2858.0698,-45.4217\"/>\n<polygon fill=\"#000000\" stroke=\"#000000\" points=\"2861.0508,-43.5645 2853.3716,-36.2651 2854.8227,-46.7601 2861.0508,-43.5645\"/>\n</g>\n<!-- 1168 -->\n<g id=\"node79\" class=\"node\">\n<title>1168</title>\n<path fill=\"#c0c0c0\" stroke=\"#000000\" d=\"M2931,-36C2931,-36 2901,-36 2901,-36 2895,-36 2889,-30 2889,-24 2889,-24 2889,-12 2889,-12 2889,-6 2895,0 2901,0 2901,0 2931,0 2931,0 2937,0 2943,-6 2943,-12 2943,-12 2943,-24 2943,-24 2943,-30 2937,-36 2931,-36\"/>\n<text text-anchor=\"middle\" x=\"2916\" y=\"-14.3\" font-family=\"Helvetica,sans-Serif\" font-size=\"14.00\" fill=\"#000000\">(...)</text>\n</g>\n<!-- 1166&#45;&gt;1168 -->\n<g id=\"edge78\" class=\"edge\">\n<title>1166&#45;&gt;1168</title>\n<path fill=\"none\" stroke=\"#000000\" d=\"M2903.0212,-71.8901C2905.1087,-63.2227 2907.2622,-54.2808 2909.2006,-46.2325\"/>\n<polygon fill=\"#000000\" stroke=\"#000000\" points=\"2912.6623,-46.8067 2911.6011,-36.2651 2905.8569,-45.1676 2912.6623,-46.8067\"/>\n</g>\n<!-- 1170 -->\n<g id=\"node81\" class=\"node\">\n<title>1170</title>\n<path fill=\"#c0c0c0\" stroke=\"#000000\" d=\"M3016,-36C3016,-36 2986,-36 2986,-36 2980,-36 2974,-30 2974,-24 2974,-24 2974,-12 2974,-12 2974,-6 2980,0 2986,0 2986,0 3016,0 3016,0 3022,0 3028,-6 3028,-12 3028,-12 3028,-24 3028,-24 3028,-30 3022,-36 3016,-36\"/>\n<text text-anchor=\"middle\" x=\"3001\" y=\"-14.3\" font-family=\"Helvetica,sans-Serif\" font-size=\"14.00\" fill=\"#000000\">(...)</text>\n</g>\n<!-- 1169&#45;&gt;1170 -->\n<g id=\"edge80\" class=\"edge\">\n<title>1169&#45;&gt;1170</title>\n<path fill=\"none\" stroke=\"#000000\" d=\"M3015.6717,-71.8901C3013.2854,-63.1253 3010.8228,-54.0798 3008.6126,-45.9615\"/>\n<polygon fill=\"#000000\" stroke=\"#000000\" points=\"3011.9768,-44.9945 3005.9727,-36.2651 3005.2226,-46.8333 3011.9768,-44.9945\"/>\n</g>\n<!-- 1175 -->\n<g id=\"node82\" class=\"node\">\n<title>1175</title>\n<path fill=\"#c0c0c0\" stroke=\"#000000\" d=\"M3088,-36C3088,-36 3058,-36 3058,-36 3052,-36 3046,-30 3046,-24 3046,-24 3046,-12 3046,-12 3046,-6 3052,0 3058,0 3058,0 3088,0 3088,0 3094,0 3100,-6 3100,-12 3100,-12 3100,-24 3100,-24 3100,-30 3094,-36 3088,-36\"/>\n<text text-anchor=\"middle\" x=\"3073\" y=\"-14.3\" font-family=\"Helvetica,sans-Serif\" font-size=\"14.00\" fill=\"#000000\">(...)</text>\n</g>\n<!-- 1169&#45;&gt;1175 -->\n<g id=\"edge81\" class=\"edge\">\n<title>1169&#45;&gt;1175</title>\n<path fill=\"none\" stroke=\"#000000\" d=\"M3047.0425,-71.8901C3051.3581,-62.9305 3055.8149,-53.6777 3059.7917,-45.4217\"/>\n<polygon fill=\"#000000\" stroke=\"#000000\" points=\"3063.0158,-46.7933 3064.2021,-36.2651 3056.7092,-43.7556 3063.0158,-46.7933\"/>\n</g>\n<!-- 1177 -->\n<g id=\"node84\" class=\"node\">\n<title>1177</title>\n<path fill=\"#e58139\" stroke=\"#000000\" d=\"M3296,-274C3296,-274 3180,-274 3180,-274 3174,-274 3168,-268 3168,-262 3168,-262 3168,-203 3168,-203 3168,-197 3174,-191 3180,-191 3180,-191 3296,-191 3296,-191 3302,-191 3308,-197 3308,-203 3308,-203 3308,-262 3308,-262 3308,-268 3302,-274 3296,-274\"/>\n<text text-anchor=\"middle\" x=\"3238\" y=\"-258.8\" font-family=\"Helvetica,sans-Serif\" font-size=\"14.00\" fill=\"#000000\">x1 &lt;= 121240.0</text>\n<text text-anchor=\"middle\" x=\"3238\" y=\"-243.8\" font-family=\"Helvetica,sans-Serif\" font-size=\"14.00\" fill=\"#000000\">gini = 0.003</text>\n<text text-anchor=\"middle\" x=\"3238\" y=\"-228.8\" font-family=\"Helvetica,sans-Serif\" font-size=\"14.00\" fill=\"#000000\">samples = 26555</text>\n<text text-anchor=\"middle\" x=\"3238\" y=\"-213.8\" font-family=\"Helvetica,sans-Serif\" font-size=\"14.00\" fill=\"#000000\">value = [26513, 42]</text>\n<text text-anchor=\"middle\" x=\"3238\" y=\"-198.8\" font-family=\"Helvetica,sans-Serif\" font-size=\"14.00\" fill=\"#000000\">class = yellow</text>\n</g>\n<!-- 1176&#45;&gt;1177 -->\n<g id=\"edge83\" class=\"edge\">\n<title>1176&#45;&gt;1177</title>\n<path fill=\"none\" stroke=\"#000000\" d=\"M3238,-309.8796C3238,-301.6838 3238,-292.9891 3238,-284.5013\"/>\n<polygon fill=\"#000000\" stroke=\"#000000\" points=\"3241.5001,-284.298 3238,-274.2981 3234.5001,-284.2981 3241.5001,-284.298\"/>\n</g>\n<!-- 1346 -->\n<g id=\"node91\" class=\"node\">\n<title>1346</title>\n<path fill=\"#e5813a\" stroke=\"#000000\" d=\"M3519,-274C3519,-274 3403,-274 3403,-274 3397,-274 3391,-268 3391,-262 3391,-262 3391,-203 3391,-203 3391,-197 3397,-191 3403,-191 3403,-191 3519,-191 3519,-191 3525,-191 3531,-197 3531,-203 3531,-203 3531,-262 3531,-262 3531,-268 3525,-274 3519,-274\"/>\n<text text-anchor=\"middle\" x=\"3461\" y=\"-258.8\" font-family=\"Helvetica,sans-Serif\" font-size=\"14.00\" fill=\"#000000\">x2 &lt;= 237.265</text>\n<text text-anchor=\"middle\" x=\"3461\" y=\"-243.8\" font-family=\"Helvetica,sans-Serif\" font-size=\"14.00\" fill=\"#000000\">gini = 0.006</text>\n<text text-anchor=\"middle\" x=\"3461\" y=\"-228.8\" font-family=\"Helvetica,sans-Serif\" font-size=\"14.00\" fill=\"#000000\">samples = 19461</text>\n<text text-anchor=\"middle\" x=\"3461\" y=\"-213.8\" font-family=\"Helvetica,sans-Serif\" font-size=\"14.00\" fill=\"#000000\">value = [19399, 62]</text>\n<text text-anchor=\"middle\" x=\"3461\" y=\"-198.8\" font-family=\"Helvetica,sans-Serif\" font-size=\"14.00\" fill=\"#000000\">class = yellow</text>\n</g>\n<!-- 1176&#45;&gt;1346 -->\n<g id=\"edge90\" class=\"edge\">\n<title>1176&#45;&gt;1346</title>\n<path fill=\"none\" stroke=\"#000000\" d=\"M3312.5658,-311.7093C3334.8098,-299.8392 3359.2646,-286.7893 3381.7943,-274.7667\"/>\n<polygon fill=\"#000000\" stroke=\"#000000\" points=\"3383.4802,-277.8343 3390.6549,-270.0384 3380.1846,-271.6586 3383.4802,-277.8343\"/>\n</g>\n<!-- 1178 -->\n<g id=\"node85\" class=\"node\">\n<title>1178</title>\n<path fill=\"#e58139\" stroke=\"#000000\" d=\"M3231,-155C3231,-155 3115,-155 3115,-155 3109,-155 3103,-149 3103,-143 3103,-143 3103,-84 3103,-84 3103,-78 3109,-72 3115,-72 3115,-72 3231,-72 3231,-72 3237,-72 3243,-78 3243,-84 3243,-84 3243,-143 3243,-143 3243,-149 3237,-155 3231,-155\"/>\n<text text-anchor=\"middle\" x=\"3173\" y=\"-139.8\" font-family=\"Helvetica,sans-Serif\" font-size=\"14.00\" fill=\"#000000\">x1 &lt;= 121237.0</text>\n<text text-anchor=\"middle\" x=\"3173\" y=\"-124.8\" font-family=\"Helvetica,sans-Serif\" font-size=\"14.00\" fill=\"#000000\">gini = 0.004</text>\n<text text-anchor=\"middle\" x=\"3173\" y=\"-109.8\" font-family=\"Helvetica,sans-Serif\" font-size=\"14.00\" fill=\"#000000\">samples = 16109</text>\n<text text-anchor=\"middle\" x=\"3173\" y=\"-94.8\" font-family=\"Helvetica,sans-Serif\" font-size=\"14.00\" fill=\"#000000\">value = [16073, 36]</text>\n<text text-anchor=\"middle\" x=\"3173\" y=\"-79.8\" font-family=\"Helvetica,sans-Serif\" font-size=\"14.00\" fill=\"#000000\">class = yellow</text>\n</g>\n<!-- 1177&#45;&gt;1178 -->\n<g id=\"edge84\" class=\"edge\">\n<title>1177&#45;&gt;1178</title>\n<path fill=\"none\" stroke=\"#000000\" d=\"M3215.2662,-190.8796C3210.5435,-182.2335 3205.5176,-173.0322 3200.641,-164.1042\"/>\n<polygon fill=\"#000000\" stroke=\"#000000\" points=\"3203.6963,-162.3964 3195.8309,-155.2981 3197.553,-165.752 3203.6963,-162.3964\"/>\n</g>\n<!-- 1321 -->\n<g id=\"node88\" class=\"node\">\n<title>1321</title>\n<path fill=\"#e58139\" stroke=\"#000000\" d=\"M3381,-155C3381,-155 3273,-155 3273,-155 3267,-155 3261,-149 3261,-143 3261,-143 3261,-84 3261,-84 3261,-78 3267,-72 3273,-72 3273,-72 3381,-72 3381,-72 3387,-72 3393,-78 3393,-84 3393,-84 3393,-143 3393,-143 3393,-149 3387,-155 3381,-155\"/>\n<text text-anchor=\"middle\" x=\"3327\" y=\"-139.8\" font-family=\"Helvetica,sans-Serif\" font-size=\"14.00\" fill=\"#000000\">x1 &lt;= 133953.0</text>\n<text text-anchor=\"middle\" x=\"3327\" y=\"-124.8\" font-family=\"Helvetica,sans-Serif\" font-size=\"14.00\" fill=\"#000000\">gini = 0.001</text>\n<text text-anchor=\"middle\" x=\"3327\" y=\"-109.8\" font-family=\"Helvetica,sans-Serif\" font-size=\"14.00\" fill=\"#000000\">samples = 10446</text>\n<text text-anchor=\"middle\" x=\"3327\" y=\"-94.8\" font-family=\"Helvetica,sans-Serif\" font-size=\"14.00\" fill=\"#000000\">value = [10440, 6]</text>\n<text text-anchor=\"middle\" x=\"3327\" y=\"-79.8\" font-family=\"Helvetica,sans-Serif\" font-size=\"14.00\" fill=\"#000000\">class = yellow</text>\n</g>\n<!-- 1177&#45;&gt;1321 -->\n<g id=\"edge87\" class=\"edge\">\n<title>1177&#45;&gt;1321</title>\n<path fill=\"none\" stroke=\"#000000\" d=\"M3269.1279,-190.8796C3275.729,-182.0534 3282.7629,-172.6485 3289.5702,-163.5466\"/>\n<polygon fill=\"#000000\" stroke=\"#000000\" points=\"3292.5528,-165.4024 3295.7393,-155.2981 3286.9472,-161.2099 3292.5528,-165.4024\"/>\n</g>\n<!-- 1179 -->\n<g id=\"node86\" class=\"node\">\n<title>1179</title>\n<path fill=\"#c0c0c0\" stroke=\"#000000\" d=\"M3174,-36C3174,-36 3144,-36 3144,-36 3138,-36 3132,-30 3132,-24 3132,-24 3132,-12 3132,-12 3132,-6 3138,0 3144,0 3144,0 3174,0 3174,0 3180,0 3186,-6 3186,-12 3186,-12 3186,-24 3186,-24 3186,-30 3180,-36 3174,-36\"/>\n<text text-anchor=\"middle\" x=\"3159\" y=\"-14.3\" font-family=\"Helvetica,sans-Serif\" font-size=\"14.00\" fill=\"#000000\">(...)</text>\n</g>\n<!-- 1178&#45;&gt;1179 -->\n<g id=\"edge85\" class=\"edge\">\n<title>1178&#45;&gt;1179</title>\n<path fill=\"none\" stroke=\"#000000\" d=\"M3166.9001,-71.8901C3165.6295,-63.2227 3164.3187,-54.2808 3163.1388,-46.2325\"/>\n<polygon fill=\"#000000\" stroke=\"#000000\" points=\"3166.5911,-45.6517 3161.6776,-36.2651 3159.6652,-46.667 3166.5911,-45.6517\"/>\n</g>\n<!-- 1320 -->\n<g id=\"node87\" class=\"node\">\n<title>1320</title>\n<path fill=\"#c0c0c0\" stroke=\"#000000\" d=\"M3246,-36C3246,-36 3216,-36 3216,-36 3210,-36 3204,-30 3204,-24 3204,-24 3204,-12 3204,-12 3204,-6 3210,0 3216,0 3216,0 3246,0 3246,0 3252,0 3258,-6 3258,-12 3258,-12 3258,-24 3258,-24 3258,-30 3252,-36 3246,-36\"/>\n<text text-anchor=\"middle\" x=\"3231\" y=\"-14.3\" font-family=\"Helvetica,sans-Serif\" font-size=\"14.00\" fill=\"#000000\">(...)</text>\n</g>\n<!-- 1178&#45;&gt;1320 -->\n<g id=\"edge86\" class=\"edge\">\n<title>1178&#45;&gt;1320</title>\n<path fill=\"none\" stroke=\"#000000\" d=\"M3198.2709,-71.8901C3203.8306,-62.7357 3209.5763,-53.2752 3214.6721,-44.8847\"/>\n<polygon fill=\"#000000\" stroke=\"#000000\" points=\"3217.7076,-46.6291 3219.9071,-36.2651 3211.7245,-42.9954 3217.7076,-46.6291\"/>\n</g>\n<!-- 1322 -->\n<g id=\"node89\" class=\"node\">\n<title>1322</title>\n<path fill=\"#c0c0c0\" stroke=\"#000000\" d=\"M3330,-36C3330,-36 3300,-36 3300,-36 3294,-36 3288,-30 3288,-24 3288,-24 3288,-12 3288,-12 3288,-6 3294,0 3300,0 3300,0 3330,0 3330,0 3336,0 3342,-6 3342,-12 3342,-12 3342,-24 3342,-24 3342,-30 3336,-36 3330,-36\"/>\n<text text-anchor=\"middle\" x=\"3315\" y=\"-14.3\" font-family=\"Helvetica,sans-Serif\" font-size=\"14.00\" fill=\"#000000\">(...)</text>\n</g>\n<!-- 1321&#45;&gt;1322 -->\n<g id=\"edge88\" class=\"edge\">\n<title>1321&#45;&gt;1322</title>\n<path fill=\"none\" stroke=\"#000000\" d=\"M3321.7715,-71.8901C3320.6824,-63.2227 3319.5588,-54.2808 3318.5475,-46.2325\"/>\n<polygon fill=\"#000000\" stroke=\"#000000\" points=\"3322.0146,-45.7507 3317.2951,-36.2651 3315.0692,-46.6235 3322.0146,-45.7507\"/>\n</g>\n<!-- 1323 -->\n<g id=\"node90\" class=\"node\">\n<title>1323</title>\n<path fill=\"#c0c0c0\" stroke=\"#000000\" d=\"M3402,-36C3402,-36 3372,-36 3372,-36 3366,-36 3360,-30 3360,-24 3360,-24 3360,-12 3360,-12 3360,-6 3366,0 3372,0 3372,0 3402,0 3402,0 3408,0 3414,-6 3414,-12 3414,-12 3414,-24 3414,-24 3414,-30 3408,-36 3402,-36\"/>\n<text text-anchor=\"middle\" x=\"3387\" y=\"-14.3\" font-family=\"Helvetica,sans-Serif\" font-size=\"14.00\" fill=\"#000000\">(...)</text>\n</g>\n<!-- 1321&#45;&gt;1323 -->\n<g id=\"edge89\" class=\"edge\">\n<title>1321&#45;&gt;1323</title>\n<path fill=\"none\" stroke=\"#000000\" d=\"M3353.1423,-71.8901C3358.8938,-62.7357 3364.8376,-53.2752 3370.1091,-44.8847\"/>\n<polygon fill=\"#000000\" stroke=\"#000000\" points=\"3373.1682,-46.5946 3375.5245,-36.2651 3367.241,-42.8706 3373.1682,-46.5946\"/>\n</g>\n<!-- 1347 -->\n<g id=\"node92\" class=\"node\">\n<title>1347</title>\n<path fill=\"#399de5\" stroke=\"#000000\" d=\"M3498.5,-147.5C3498.5,-147.5 3423.5,-147.5 3423.5,-147.5 3417.5,-147.5 3411.5,-141.5 3411.5,-135.5 3411.5,-135.5 3411.5,-91.5 3411.5,-91.5 3411.5,-85.5 3417.5,-79.5 3423.5,-79.5 3423.5,-79.5 3498.5,-79.5 3498.5,-79.5 3504.5,-79.5 3510.5,-85.5 3510.5,-91.5 3510.5,-91.5 3510.5,-135.5 3510.5,-135.5 3510.5,-141.5 3504.5,-147.5 3498.5,-147.5\"/>\n<text text-anchor=\"middle\" x=\"3461\" y=\"-132.3\" font-family=\"Helvetica,sans-Serif\" font-size=\"14.00\" fill=\"#000000\">gini = 0.0</text>\n<text text-anchor=\"middle\" x=\"3461\" y=\"-117.3\" font-family=\"Helvetica,sans-Serif\" font-size=\"14.00\" fill=\"#000000\">samples = 1</text>\n<text text-anchor=\"middle\" x=\"3461\" y=\"-102.3\" font-family=\"Helvetica,sans-Serif\" font-size=\"14.00\" fill=\"#000000\">value = [0, 1]</text>\n<text text-anchor=\"middle\" x=\"3461\" y=\"-87.3\" font-family=\"Helvetica,sans-Serif\" font-size=\"14.00\" fill=\"#000000\">class = blue</text>\n</g>\n<!-- 1346&#45;&gt;1347 -->\n<g id=\"edge91\" class=\"edge\">\n<title>1346&#45;&gt;1347</title>\n<path fill=\"none\" stroke=\"#000000\" d=\"M3461,-190.8796C3461,-180.2134 3461,-168.7021 3461,-157.9015\"/>\n<polygon fill=\"#000000\" stroke=\"#000000\" points=\"3464.5001,-157.8149 3461,-147.8149 3457.5001,-157.815 3464.5001,-157.8149\"/>\n</g>\n<!-- 1348 -->\n<g id=\"node93\" class=\"node\">\n<title>1348</title>\n<path fill=\"#e5813a\" stroke=\"#000000\" d=\"M3657,-155C3657,-155 3541,-155 3541,-155 3535,-155 3529,-149 3529,-143 3529,-143 3529,-84 3529,-84 3529,-78 3535,-72 3541,-72 3541,-72 3657,-72 3657,-72 3663,-72 3669,-78 3669,-84 3669,-84 3669,-143 3669,-143 3669,-149 3663,-155 3657,-155\"/>\n<text text-anchor=\"middle\" x=\"3599\" y=\"-139.8\" font-family=\"Helvetica,sans-Serif\" font-size=\"14.00\" fill=\"#000000\">x1 &lt;= 476.0</text>\n<text text-anchor=\"middle\" x=\"3599\" y=\"-124.8\" font-family=\"Helvetica,sans-Serif\" font-size=\"14.00\" fill=\"#000000\">gini = 0.006</text>\n<text text-anchor=\"middle\" x=\"3599\" y=\"-109.8\" font-family=\"Helvetica,sans-Serif\" font-size=\"14.00\" fill=\"#000000\">samples = 19460</text>\n<text text-anchor=\"middle\" x=\"3599\" y=\"-94.8\" font-family=\"Helvetica,sans-Serif\" font-size=\"14.00\" fill=\"#000000\">value = [19399, 61]</text>\n<text text-anchor=\"middle\" x=\"3599\" y=\"-79.8\" font-family=\"Helvetica,sans-Serif\" font-size=\"14.00\" fill=\"#000000\">class = yellow</text>\n</g>\n<!-- 1346&#45;&gt;1348 -->\n<g id=\"edge92\" class=\"edge\">\n<title>1346&#45;&gt;1348</title>\n<path fill=\"none\" stroke=\"#000000\" d=\"M3509.2657,-190.8796C3520.1278,-181.513 3531.7456,-171.4948 3542.8973,-161.8784\"/>\n<polygon fill=\"#000000\" stroke=\"#000000\" points=\"3545.2408,-164.4792 3550.5283,-155.2981 3540.6694,-159.178 3545.2408,-164.4792\"/>\n</g>\n<!-- 1349 -->\n<g id=\"node94\" class=\"node\">\n<title>1349</title>\n<path fill=\"#c0c0c0\" stroke=\"#000000\" d=\"M3578,-36C3578,-36 3548,-36 3548,-36 3542,-36 3536,-30 3536,-24 3536,-24 3536,-12 3536,-12 3536,-6 3542,0 3548,0 3548,0 3578,0 3578,0 3584,0 3590,-6 3590,-12 3590,-12 3590,-24 3590,-24 3590,-30 3584,-36 3578,-36\"/>\n<text text-anchor=\"middle\" x=\"3563\" y=\"-14.3\" font-family=\"Helvetica,sans-Serif\" font-size=\"14.00\" fill=\"#000000\">(...)</text>\n</g>\n<!-- 1348&#45;&gt;1349 -->\n<g id=\"edge93\" class=\"edge\">\n<title>1348&#45;&gt;1349</title>\n<path fill=\"none\" stroke=\"#000000\" d=\"M3583.3146,-71.8901C3579.9739,-63.0279 3576.525,-53.8788 3573.4386,-45.6913\"/>\n<polygon fill=\"#000000\" stroke=\"#000000\" points=\"3576.6877,-44.3878 3569.8853,-36.2651 3570.1376,-46.8569 3576.6877,-44.3878\"/>\n</g>\n<!-- 1352 -->\n<g id=\"node95\" class=\"node\">\n<title>1352</title>\n<path fill=\"#c0c0c0\" stroke=\"#000000\" d=\"M3650,-36C3650,-36 3620,-36 3620,-36 3614,-36 3608,-30 3608,-24 3608,-24 3608,-12 3608,-12 3608,-6 3614,0 3620,0 3620,0 3650,0 3650,0 3656,0 3662,-6 3662,-12 3662,-12 3662,-24 3662,-24 3662,-30 3656,-36 3650,-36\"/>\n<text text-anchor=\"middle\" x=\"3635\" y=\"-14.3\" font-family=\"Helvetica,sans-Serif\" font-size=\"14.00\" fill=\"#000000\">(...)</text>\n</g>\n<!-- 1348&#45;&gt;1352 -->\n<g id=\"edge94\" class=\"edge\">\n<title>1348&#45;&gt;1352</title>\n<path fill=\"none\" stroke=\"#000000\" d=\"M3614.6854,-71.8901C3618.0261,-63.0279 3621.475,-53.8788 3624.5614,-45.6913\"/>\n<polygon fill=\"#000000\" stroke=\"#000000\" points=\"3627.8624,-46.8569 3628.1147,-36.2651 3621.3123,-44.3878 3627.8624,-46.8569\"/>\n</g>\n</g>\n</svg>\n"
          },
          "metadata": {
            "tags": []
          },
          "execution_count": 18
        }
      ]
    },
    {
      "cell_type": "markdown",
      "metadata": {
        "id": "AQSYqf1AoyLO",
        "colab_type": "text"
      },
      "source": [
        "# Random Forest"
      ]
    },
    {
      "cell_type": "code",
      "metadata": {
        "id": "Y_OKn5cnoyLT",
        "colab_type": "code",
        "colab": {}
      },
      "source": [
        "from sklearn.ensemble import RandomForestClassifier \n",
        "\n",
        "rfc = RandomForestClassifier() \n",
        "rfc.fit(xTrain, yTrain) \n",
        "# predictions \n",
        "yPred = rfc.predict(xTest) "
      ],
      "execution_count": 0,
      "outputs": []
    },
    {
      "cell_type": "code",
      "metadata": {
        "id": "Iy4pcEuSoyLV",
        "colab_type": "code",
        "outputId": "9228329d-60e8-42ec-dfa6-fcbd2413555a",
        "colab": {
          "base_uri": "https://localhost:8080/",
          "height": 34
        }
      },
      "source": [
        "from sklearn.metrics import accuracy_score  \n",
        "acc = accuracy_score(yTest, yPred) \n",
        "print(\"The accuracy of Random forest is {}\".format(acc))"
      ],
      "execution_count": 20,
      "outputs": [
        {
          "output_type": "stream",
          "text": [
            "The accuracy of Random forest is 0.9980337769039008\n"
          ],
          "name": "stdout"
        }
      ]
    },
    {
      "cell_type": "code",
      "metadata": {
        "id": "Lwj1FqGEK-LR",
        "colab_type": "code",
        "colab": {
          "base_uri": "https://localhost:8080/",
          "height": 87
        },
        "outputId": "5ca67064-d38e-4b5b-a15f-94d02850eeba"
      },
      "source": [
        "# Evaluating the classifier \n",
        "# printing every score of the classifier \n",
        "from sklearn.metrics import precision_score, recall_score \n",
        "from sklearn.metrics import f1_score\n",
        "\n",
        "n_outliers = len(fraud) \n",
        "n_errors = (yPred != yTest).sum() \n",
        "print(\"The model used is Random Forest classifier\") \n",
        "\n",
        "prec = precision_score(yTest, yPred) \n",
        "print(\"The precision is {}\".format(prec)) \n",
        "\n",
        "rec = recall_score(yTest, yPred) \n",
        "print(\"The recall is {}\".format(rec)) \n",
        "\n",
        "f1 = f1_score(yTest, yPred) \n",
        "print(\"The F1-Score is {}\".format(f1)) \n",
        "\n"
      ],
      "execution_count": 21,
      "outputs": [
        {
          "output_type": "stream",
          "text": [
            "The model used is Random Forest classifier\n",
            "The precision is 0.3333333333333333\n",
            "The recall is 0.15463917525773196\n",
            "The F1-Score is 0.2112676056338028\n"
          ],
          "name": "stdout"
        }
      ]
    },
    {
      "cell_type": "markdown",
      "metadata": {
        "id": "3HFbPh51oyLZ",
        "colab_type": "text"
      },
      "source": [
        "# Naive Bayes"
      ]
    },
    {
      "cell_type": "code",
      "metadata": {
        "id": "dMudanb8oyLa",
        "colab_type": "code",
        "outputId": "3f60fd7a-e9d4-4a55-8101-163e32931f08",
        "colab": {
          "base_uri": "https://localhost:8080/",
          "height": 34
        }
      },
      "source": [
        "from sklearn.naive_bayes import GaussianNB \n",
        "gnb = GaussianNB()\n",
        "gnb.fit(xTrain, yTrain)\n",
        "yPred=gnb.predict(xTest)\n",
        "acc = accuracy_score(yTest, yPred) \n",
        "print(\"The accuracy of Naive Bayes is {}\".format(acc)) "
      ],
      "execution_count": 23,
      "outputs": [
        {
          "output_type": "stream",
          "text": [
            "The accuracy of Naive Bayes is 0.9982971103542713\n"
          ],
          "name": "stdout"
        }
      ]
    },
    {
      "cell_type": "code",
      "metadata": {
        "id": "3ASqB6ktMaIt",
        "colab_type": "code",
        "colab": {
          "base_uri": "https://localhost:8080/",
          "height": 142
        },
        "outputId": "bbd697b3-7414-4394-cd62-96eac06b4329"
      },
      "source": [
        "# Evaluating the classifier \n",
        "# printing every score of the classifier \n",
        "from sklearn.metrics import precision_score, recall_score \n",
        "from sklearn.metrics import f1_score\n",
        "\n",
        "\n",
        "print(\"The model used is Naive Bayes classifier\") \n",
        "\n",
        "prec = precision_score(yTest, yPred) \n",
        "print(\"The precision is {}\".format(prec)) \n",
        "\n",
        "rec = recall_score(yTest, yPred) \n",
        "print(\"The recall is {}\".format(rec)) \n",
        "\n",
        "f1 = f1_score(yTest, yPred) \n",
        "print(\"The F1-Score is {}\".format(f1)) "
      ],
      "execution_count": 25,
      "outputs": [
        {
          "output_type": "stream",
          "text": [
            "The model used is Naive Bayes classifier\n",
            "The precision is 0.0\n",
            "The recall is 0.0\n",
            "The F1-Score is 0.0\n"
          ],
          "name": "stdout"
        },
        {
          "output_type": "stream",
          "text": [
            "/usr/local/lib/python3.6/dist-packages/sklearn/metrics/_classification.py:1272: UndefinedMetricWarning: Precision is ill-defined and being set to 0.0 due to no predicted samples. Use `zero_division` parameter to control this behavior.\n",
            "  _warn_prf(average, modifier, msg_start, len(result))\n"
          ],
          "name": "stderr"
        }
      ]
    },
    {
      "cell_type": "markdown",
      "metadata": {
        "id": "OLPWsjEwoyLe",
        "colab_type": "text"
      },
      "source": [
        "# Support Vector Machines"
      ]
    },
    {
      "cell_type": "code",
      "metadata": {
        "id": "fmRfk07zoyLf",
        "colab_type": "code",
        "outputId": "511b7d94-9c6c-4fd8-99b8-4b46b2184c52",
        "colab": {
          "base_uri": "https://localhost:8080/",
          "height": 34
        }
      },
      "source": [
        " \n",
        "from sklearn.svm import SVC\n",
        "svm = SVC()\n",
        "svm.fit(xTrain, yTrain)\n",
        "yPred=svm.predict(xTest)\n",
        "acc = accuracy_score(yTest, yPred) \n",
        "print(\"The accuracy of SVM is {}\".format(acc)) "
      ],
      "execution_count": 26,
      "outputs": [
        {
          "output_type": "stream",
          "text": [
            "The accuracy of SVM is 0.9982971103542713\n"
          ],
          "name": "stdout"
        }
      ]
    },
    {
      "cell_type": "markdown",
      "metadata": {
        "id": "MuONxnDSoyLk",
        "colab_type": "text"
      },
      "source": [
        "Accuracy is always equal to 99% \n",
        "We want to create a balanced dataset.\n",
        "The new dataset will contain the same number of fraudulent transactions and non-fraudulent transactions \n"
      ]
    },
    {
      "cell_type": "code",
      "metadata": {
        "id": "dnxVNC00oyLl",
        "colab_type": "code",
        "outputId": "7b7a6138-c355-4a8d-87ff-4589132c3220",
        "colab": {
          "base_uri": "https://localhost:8080/",
          "height": 215
        }
      },
      "source": [
        "#first , we shuffle the data\n",
        "data1 = data.sample(frac=1)\n",
        "\n",
        "#we pick same number of fraudulent and non-fraudulent transactions\n",
        "fraud_data1 = data1.loc[data1['Class'] == 1]\n",
        "non_fraud_data1 = data1.loc[data1['Class'] == 0][:492]\n",
        "\n",
        "#we merge into one single data frame\n",
        "normal_distributed_data1 = pd.concat([fraud_data1, non_fraud_data1])\n",
        "\n",
        "#we shuffle the new data frame\n",
        "new_data1 = normal_distributed_data1.sample(frac=1, random_state=42)\n",
        "\n",
        "new_data1.head()"
      ],
      "execution_count": 0,
      "outputs": [
        {
          "output_type": "execute_result",
          "data": {
            "text/html": [
              "<div>\n",
              "<style scoped>\n",
              "    .dataframe tbody tr th:only-of-type {\n",
              "        vertical-align: middle;\n",
              "    }\n",
              "\n",
              "    .dataframe tbody tr th {\n",
              "        vertical-align: top;\n",
              "    }\n",
              "\n",
              "    .dataframe thead th {\n",
              "        text-align: right;\n",
              "    }\n",
              "</style>\n",
              "<table border=\"1\" class=\"dataframe\">\n",
              "  <thead>\n",
              "    <tr style=\"text-align: right;\">\n",
              "      <th></th>\n",
              "      <th>Time</th>\n",
              "      <th>V1</th>\n",
              "      <th>V2</th>\n",
              "      <th>V3</th>\n",
              "      <th>V4</th>\n",
              "      <th>V5</th>\n",
              "      <th>V6</th>\n",
              "      <th>V7</th>\n",
              "      <th>V8</th>\n",
              "      <th>V9</th>\n",
              "      <th>V10</th>\n",
              "      <th>V11</th>\n",
              "      <th>V12</th>\n",
              "      <th>V13</th>\n",
              "      <th>V14</th>\n",
              "      <th>V15</th>\n",
              "      <th>V16</th>\n",
              "      <th>V17</th>\n",
              "      <th>V18</th>\n",
              "      <th>V19</th>\n",
              "      <th>V20</th>\n",
              "      <th>V21</th>\n",
              "      <th>V22</th>\n",
              "      <th>V23</th>\n",
              "      <th>V24</th>\n",
              "      <th>V25</th>\n",
              "      <th>V26</th>\n",
              "      <th>V27</th>\n",
              "      <th>V28</th>\n",
              "      <th>Amount</th>\n",
              "      <th>Class</th>\n",
              "    </tr>\n",
              "  </thead>\n",
              "  <tbody>\n",
              "    <tr>\n",
              "      <th>184048</th>\n",
              "      <td>126071.0</td>\n",
              "      <td>2.281334</td>\n",
              "      <td>-1.352149</td>\n",
              "      <td>-1.058602</td>\n",
              "      <td>-1.680748</td>\n",
              "      <td>-1.059093</td>\n",
              "      <td>-0.497605</td>\n",
              "      <td>-1.060405</td>\n",
              "      <td>-0.160784</td>\n",
              "      <td>-1.520445</td>\n",
              "      <td>1.738323</td>\n",
              "      <td>0.339237</td>\n",
              "      <td>-0.044868</td>\n",
              "      <td>0.774090</td>\n",
              "      <td>-0.293874</td>\n",
              "      <td>-0.930789</td>\n",
              "      <td>-0.315127</td>\n",
              "      <td>0.081569</td>\n",
              "      <td>0.447891</td>\n",
              "      <td>0.331435</td>\n",
              "      <td>-0.386871</td>\n",
              "      <td>-0.140907</td>\n",
              "      <td>0.100090</td>\n",
              "      <td>0.149512</td>\n",
              "      <td>-0.498722</td>\n",
              "      <td>-0.123715</td>\n",
              "      <td>-0.152634</td>\n",
              "      <td>0.006044</td>\n",
              "      <td>-0.064626</td>\n",
              "      <td>20.00</td>\n",
              "      <td>0</td>\n",
              "    </tr>\n",
              "    <tr>\n",
              "      <th>79525</th>\n",
              "      <td>58060.0</td>\n",
              "      <td>-2.630598</td>\n",
              "      <td>5.125759</td>\n",
              "      <td>-6.092255</td>\n",
              "      <td>5.527393</td>\n",
              "      <td>1.605145</td>\n",
              "      <td>-2.319884</td>\n",
              "      <td>-3.207076</td>\n",
              "      <td>-1.482583</td>\n",
              "      <td>-5.074871</td>\n",
              "      <td>-6.778331</td>\n",
              "      <td>5.725255</td>\n",
              "      <td>-6.949172</td>\n",
              "      <td>-3.127795</td>\n",
              "      <td>-11.090425</td>\n",
              "      <td>-0.800273</td>\n",
              "      <td>-1.707501</td>\n",
              "      <td>-1.685473</td>\n",
              "      <td>0.274891</td>\n",
              "      <td>-2.028885</td>\n",
              "      <td>0.948864</td>\n",
              "      <td>-0.527474</td>\n",
              "      <td>0.220546</td>\n",
              "      <td>-1.371110</td>\n",
              "      <td>-0.504899</td>\n",
              "      <td>0.382307</td>\n",
              "      <td>0.395528</td>\n",
              "      <td>0.782036</td>\n",
              "      <td>0.628528</td>\n",
              "      <td>1.00</td>\n",
              "      <td>1</td>\n",
              "    </tr>\n",
              "    <tr>\n",
              "      <th>152971</th>\n",
              "      <td>97693.0</td>\n",
              "      <td>0.647401</td>\n",
              "      <td>-0.774689</td>\n",
              "      <td>0.372791</td>\n",
              "      <td>-0.649799</td>\n",
              "      <td>-0.855406</td>\n",
              "      <td>0.282129</td>\n",
              "      <td>-0.816157</td>\n",
              "      <td>-0.085161</td>\n",
              "      <td>-1.116521</td>\n",
              "      <td>1.524837</td>\n",
              "      <td>1.717333</td>\n",
              "      <td>-2.712531</td>\n",
              "      <td>2.819814</td>\n",
              "      <td>1.138262</td>\n",
              "      <td>-0.558567</td>\n",
              "      <td>-1.452191</td>\n",
              "      <td>1.788285</td>\n",
              "      <td>1.209967</td>\n",
              "      <td>2.485301</td>\n",
              "      <td>0.147219</td>\n",
              "      <td>0.009696</td>\n",
              "      <td>0.730503</td>\n",
              "      <td>0.501343</td>\n",
              "      <td>0.723632</td>\n",
              "      <td>-1.920927</td>\n",
              "      <td>-0.085778</td>\n",
              "      <td>0.351588</td>\n",
              "      <td>0.324848</td>\n",
              "      <td>78.65</td>\n",
              "      <td>0</td>\n",
              "    </tr>\n",
              "    <tr>\n",
              "      <th>245347</th>\n",
              "      <td>152710.0</td>\n",
              "      <td>0.051075</td>\n",
              "      <td>1.310427</td>\n",
              "      <td>0.733222</td>\n",
              "      <td>2.620282</td>\n",
              "      <td>1.402358</td>\n",
              "      <td>0.528489</td>\n",
              "      <td>1.086014</td>\n",
              "      <td>-0.146423</td>\n",
              "      <td>-1.724333</td>\n",
              "      <td>1.280167</td>\n",
              "      <td>0.470865</td>\n",
              "      <td>0.435542</td>\n",
              "      <td>0.594974</td>\n",
              "      <td>-0.142099</td>\n",
              "      <td>-2.024735</td>\n",
              "      <td>0.828291</td>\n",
              "      <td>-1.274787</td>\n",
              "      <td>0.134277</td>\n",
              "      <td>-1.489434</td>\n",
              "      <td>-0.125877</td>\n",
              "      <td>0.229936</td>\n",
              "      <td>0.766927</td>\n",
              "      <td>-0.189624</td>\n",
              "      <td>0.766853</td>\n",
              "      <td>-0.141401</td>\n",
              "      <td>-0.077278</td>\n",
              "      <td>-0.297595</td>\n",
              "      <td>-0.221816</td>\n",
              "      <td>2.47</td>\n",
              "      <td>1</td>\n",
              "    </tr>\n",
              "    <tr>\n",
              "      <th>192687</th>\n",
              "      <td>129808.0</td>\n",
              "      <td>1.522080</td>\n",
              "      <td>-0.519429</td>\n",
              "      <td>-2.581685</td>\n",
              "      <td>0.774741</td>\n",
              "      <td>0.206722</td>\n",
              "      <td>-1.431020</td>\n",
              "      <td>0.757011</td>\n",
              "      <td>-0.444418</td>\n",
              "      <td>0.997921</td>\n",
              "      <td>-1.429490</td>\n",
              "      <td>-0.375466</td>\n",
              "      <td>0.179095</td>\n",
              "      <td>-0.148449</td>\n",
              "      <td>-2.135155</td>\n",
              "      <td>-0.044916</td>\n",
              "      <td>-0.055333</td>\n",
              "      <td>1.778697</td>\n",
              "      <td>0.671832</td>\n",
              "      <td>-0.002021</td>\n",
              "      <td>0.361169</td>\n",
              "      <td>0.019649</td>\n",
              "      <td>-0.211678</td>\n",
              "      <td>-0.247452</td>\n",
              "      <td>-0.279472</td>\n",
              "      <td>0.239646</td>\n",
              "      <td>-0.508398</td>\n",
              "      <td>-0.015551</td>\n",
              "      <td>0.041881</td>\n",
              "      <td>276.17</td>\n",
              "      <td>1</td>\n",
              "    </tr>\n",
              "  </tbody>\n",
              "</table>\n",
              "</div>"
            ],
            "text/plain": [
              "            Time        V1        V2  ...       V28  Amount  Class\n",
              "184048  126071.0  2.281334 -1.352149  ... -0.064626   20.00      0\n",
              "79525    58060.0 -2.630598  5.125759  ...  0.628528    1.00      1\n",
              "152971   97693.0  0.647401 -0.774689  ...  0.324848   78.65      0\n",
              "245347  152710.0  0.051075  1.310427  ... -0.221816    2.47      1\n",
              "192687  129808.0  1.522080 -0.519429  ...  0.041881  276.17      1\n",
              "\n",
              "[5 rows x 31 columns]"
            ]
          },
          "metadata": {
            "tags": []
          },
          "execution_count": 31
        }
      ]
    },
    {
      "cell_type": "code",
      "metadata": {
        "id": "u78e9Z7IoyLo",
        "colab_type": "code",
        "outputId": "a0b4a0da-076e-4bda-d526-25e4abb7e3e4",
        "colab": {
          "base_uri": "https://localhost:8080/",
          "height": 34
        }
      },
      "source": [
        "new_data1.shape"
      ],
      "execution_count": 0,
      "outputs": [
        {
          "output_type": "execute_result",
          "data": {
            "text/plain": [
              "(984, 31)"
            ]
          },
          "metadata": {
            "tags": []
          },
          "execution_count": 32
        }
      ]
    },
    {
      "cell_type": "code",
      "metadata": {
        "id": "CsbcDrBVoyLu",
        "colab_type": "code",
        "outputId": "b7e12193-cefa-423e-c78a-0e90820aef3b",
        "colab": {
          "base_uri": "https://localhost:8080/",
          "height": 366
        }
      },
      "source": [
        "print('Distribution of the Classes in the subsample dataset')\n",
        "print(new_data1['Class'].value_counts()/len(new_data1))\n",
        "\n",
        "\n",
        "import seaborn as sns\n",
        "import matplotlib.pyplot as plt\n",
        "sns.countplot('Class', data=new_data1)\n",
        "plt.title('Equally Distributed Classes', fontsize=14)\n",
        "plt.show()"
      ],
      "execution_count": 0,
      "outputs": [
        {
          "output_type": "stream",
          "text": [
            "Distribution of the Classes in the subsample dataset\n",
            "1    0.5\n",
            "0    0.5\n",
            "Name: Class, dtype: float64\n"
          ],
          "name": "stdout"
        },
        {
          "output_type": "display_data",
          "data": {
            "image/png": "[encoded data removed]",
            "text/plain": [
              "<Figure size 432x288 with 1 Axes>"
            ]
          },
          "metadata": {
            "tags": [],
            "needs_background": "light"
          }
        }
      ]
    },
    {
      "cell_type": "code",
      "metadata": {
        "id": "16zsr08xoyLw",
        "colab_type": "code",
        "outputId": "b7cd31f1-97fd-41d2-8520-1022d04afbd5",
        "colab": {
          "base_uri": "https://localhost:8080/",
          "height": 52
        }
      },
      "source": [
        "X = new_data1[['Time','Amount']]\n",
        "Y = new_data1[\"Class\"] \n",
        "print(X.shape) \n",
        "print(Y.shape) "
      ],
      "execution_count": 0,
      "outputs": [
        {
          "output_type": "stream",
          "text": [
            "(984, 2)\n",
            "(984,)\n"
          ],
          "name": "stdout"
        }
      ]
    },
    {
      "cell_type": "code",
      "metadata": {
        "id": "kbToUN2qoyLz",
        "colab_type": "code",
        "colab": {}
      },
      "source": [
        "from sklearn.model_selection import train_test_split \n",
        " \n",
        "xTrain, xTest, yTrain, yTest = train_test_split( \n",
        "       X,Y, test_size = 0.2, random_state = 40)"
      ],
      "execution_count": 0,
      "outputs": []
    },
    {
      "cell_type": "markdown",
      "metadata": {
        "id": "FFQpwTkqoyL2",
        "colab_type": "text"
      },
      "source": [
        "# Random Forest on a balanced dataset"
      ]
    },
    {
      "cell_type": "code",
      "metadata": {
        "id": "LDh7ddUUoyL3",
        "colab_type": "code",
        "colab": {}
      },
      "source": [
        "from sklearn.ensemble import RandomForestClassifier \n",
        " \n",
        "rfc = RandomForestClassifier() \n",
        "rfc.fit(xTrain, yTrain) \n",
        "# predictions \n",
        "yPred = rfc.predict(xTest)"
      ],
      "execution_count": 0,
      "outputs": []
    },
    {
      "cell_type": "code",
      "metadata": {
        "id": "YQO1wFSmoyL6",
        "colab_type": "code",
        "outputId": "1360958c-f369-4e06-ccc4-038041e5d78a",
        "colab": {
          "base_uri": "https://localhost:8080/",
          "height": 34
        }
      },
      "source": [
        "from sklearn.metrics import accuracy_score  \n",
        "acc = accuracy_score(yTest, yPred) \n",
        "print(\"The accuracy of Render forest is {}\".format(acc)) "
      ],
      "execution_count": 0,
      "outputs": [
        {
          "output_type": "stream",
          "text": [
            "The accuracy of Render forest is 0.7563451776649747\n"
          ],
          "name": "stdout"
        }
      ]
    }
  ]
}