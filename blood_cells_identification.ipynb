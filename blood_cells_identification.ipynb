{
  "nbformat": 4,
  "nbformat_minor": 0,
  "metadata": {
    "kernelspec": {
      "display_name": "Python 3",
      "language": "python",
      "name": "python3"
    },
    "language_info": {
      "name": "python",
      "version": "3.6.6",
      "mimetype": "text/x-python",
      "codemirror_mode": {
        "name": "ipython",
        "version": 3
      },
      "pygments_lexer": "ipython3",
      "nbconvert_exporter": "python",
      "file_extension": ".py"
    },
    "colab": {
      "name": "blood cells identification",
      "provenance": [],
      "include_colab_link": true
    }
  },
  "cells": [
    {
      "cell_type": "markdown",
      "metadata": {
        "id": "view-in-github",
        "colab_type": "text"
      },
      "source": [
        "<a href=\"https://colab.research.google.com/github/GitHubGetHope/ML_YAM/blob/master/blood_cells_identification.ipynb\" target=\"_parent\"><img src=\"https://colab.research.google.com/assets/colab-badge.svg\" alt=\"Open In Colab\"/></a>"
      ]
    },
    {
      "cell_type": "markdown",
      "metadata": {
        "_uuid": "8599beb4c2d63741f86fa9729418653e49c54ddf",
        "id": "4Ha8Nj6lreoo",
        "colab_type": "text"
      },
      "source": [
        "# **Identify Blood Cell Subtypes From Images**\n",
        "An important problem in blood diagnostics is classifying different types of blood cells : EOSINOPHIL vs NEUTROPHIL vs MONOCYTE vs LYMPHOCYTE vs basophil.\n",
        "\n",
        "---\n",
        "\n",
        "Membres:\n",
        "\n",
        "Faik Marwa, Ellatifi Anass\n"
      ]
    },
    {
      "cell_type": "code",
      "metadata": {
        "_uuid": "8f2839f25d086af736a60e9eeb907d3b93b6e0e5",
        "_cell_guid": "b1076dfc-b9ad-4769-8c92-a6c4dae69d19",
        "trusted": true,
        "id": "HmNsRN1vreot",
        "colab_type": "code",
        "colab": {}
      },
      "source": [
        "import numpy as np\n",
        "import keras\n",
        "import pandas as pd\n",
        "from keras.models import Sequential\n",
        "from keras.layers import Dense, Conv2D, BatchNormalization, Dropout, MaxPool2D, Input, Softmax, Activation, Flatten\n",
        "from keras.models import Model\n",
        "import os\n",
        "import cv2\n",
        "import scipy\n",
        "from keras.callbacks import ModelCheckpoint\n",
        "from keras.utils.vis_utils import plot_model\n",
        "import matplotlib.pyplot as plt"
      ],
      "execution_count": null,
      "outputs": []
    },
    {
      "cell_type": "code",
      "metadata": {
        "id": "ka0EqfSXvSF9",
        "colab_type": "code",
        "colab": {
          "base_uri": "https://localhost:8080/",
          "height": 35
        },
        "outputId": "82cbc7db-b2a8-4ff1-f579-cccf5d1a587b"
      },
      "source": [
        "from google.colab import drive\n",
        "drive.mount('/content/gdrive')"
      ],
      "execution_count": null,
      "outputs": [
        {
          "output_type": "stream",
          "text": [
            "Mounted at /content/gdrive\n"
          ],
          "name": "stdout"
        }
      ]
    },
    {
      "cell_type": "code",
      "metadata": {
        "id": "y8YWNPSMTg5f",
        "colab_type": "code",
        "colab": {
          "base_uri": "https://localhost:8080/",
          "height": 53
        },
        "outputId": "51b5338a-ce62-46b9-fff7-3d7a3bdfeed0"
      },
      "source": [
        "import os\n",
        "os.environ['KAGGLE_CONFIG_DIR'] = \"/content/gdrive/My Drive/Kaggle\"\n",
        "%cd /content/gdrive/My Drive/Kaggle\n",
        "%pwd"
      ],
      "execution_count": null,
      "outputs": [
        {
          "output_type": "stream",
          "text": [
            "/content/gdrive/My Drive/Kaggle\n"
          ],
          "name": "stdout"
        },
        {
          "output_type": "execute_result",
          "data": {
            "application/vnd.google.colaboratory.intrinsic": {
              "type": "string"
            },
            "text/plain": [
              "'/content/gdrive/My Drive/Kaggle'"
            ]
          },
          "metadata": {
            "tags": []
          },
          "execution_count": 9
        }
      ]
    },
    {
      "cell_type": "code",
      "metadata": {
        "id": "4qx208kCUZck",
        "colab_type": "code",
        "colab": {
          "base_uri": "https://localhost:8080/",
          "height": 71
        },
        "outputId": "8b6885e7-f46f-470a-96fc-fa03e5bc973b"
      },
      "source": [
        "!kaggle datasets download -d paultimothymooney/blood-cells"
      ],
      "execution_count": null,
      "outputs": [
        {
          "output_type": "stream",
          "text": [
            "Downloading blood-cells.zip to /content/gdrive/My Drive/Kaggle\n",
            " 91% 98.0M/108M [00:00<00:00, 101MB/s]\n",
            "100% 108M/108M [00:01<00:00, 106MB/s] \n"
          ],
          "name": "stdout"
        }
      ]
    },
    {
      "cell_type": "code",
      "metadata": {
        "id": "aSjpFht8Uo-q",
        "colab_type": "code",
        "colab": {
          "base_uri": "https://localhost:8080/",
          "height": 35
        },
        "outputId": "6fc61377-5ee2-40b9-eaab-6bd8b5da0949"
      },
      "source": [
        "!ls"
      ],
      "execution_count": null,
      "outputs": [
        {
          "output_type": "stream",
          "text": [
            "blood-cells.zip  kaggle.json\n"
          ],
          "name": "stdout"
        }
      ]
    },
    {
      "cell_type": "code",
      "metadata": {
        "id": "UUVq0EPUUr4V",
        "colab_type": "code",
        "colab": {}
      },
      "source": [
        "#unzipping the zip files and deleting the zip files\n",
        "!unzip \\*.zip  && rm *.zip\n"
      ],
      "execution_count": null,
      "outputs": []
    },
    {
      "cell_type": "code",
      "metadata": {
        "trusted": true,
        "_uuid": "20acf2f019c14607efd4101506b9496e94e2c697",
        "id": "ba0RMrdXreo3",
        "colab_type": "code",
        "cellView": "both",
        "colab": {
          "base_uri": "https://localhost:8080/",
          "height": 197
        },
        "outputId": "6c5df0cd-aebc-4954-b3ae-5219142826f8"
      },
      "source": [
        "from tqdm import tqdm #make loops show a smart progress meter\n",
        "from PIL import Image\n",
        "\n",
        "#Load the data and labels from the given folder.\n",
        "    \n",
        "def load_data(folder):\n",
        "    X = []\n",
        "    y = []\n",
        "    z = []\n",
        "    for wbc_type in os.listdir(folder):\n",
        "        if not wbc_type.startswith('.'):\n",
        "            if wbc_type in ['NEUTROPHIL']:\n",
        "                label = 1\n",
        "                label2 = 1\n",
        "            elif wbc_type in ['EOSINOPHIL']:\n",
        "                label = 2\n",
        "                label2 = 1\n",
        "            elif wbc_type in ['MONOCYTE']:\n",
        "                label = 3  \n",
        "                label2 = 0\n",
        "            elif wbc_type in ['LYMPHOCYTE']:\n",
        "                label = 4 \n",
        "                label2 = 0\n",
        "            else:\n",
        "                label = 5\n",
        "                label2 = 0\n",
        "            for image_filename in tqdm(os.listdir(folder + wbc_type)):\n",
        "                img_file = cv2.imread(folder + wbc_type + '/' + image_filename)\n",
        "                if img_file is not None:\n",
        "                    img_file = np.array(Image.fromarray(img_file).resize(size=(80, 60 )))\n",
        "                    img_arr = np.asarray(img_file)\n",
        "                    X.append(img_arr)\n",
        "                    y.append(label)\n",
        "                    z.append(label2)\n",
        "    X = np.asarray(X)\n",
        "    y = np.asarray(y)\n",
        "    z = np.asarray(z)\n",
        "    return X,y,z\n",
        "X_train, y_train, z_train = load_data('/content/gdrive/My Drive/Kaggle/dataset2-master/dataset2-master/images/TRAIN/')\n",
        "X_test, y_test, z_test = load_data('/content/gdrive/My Drive/Kaggle/dataset2-master/dataset2-master/images/TEST/')\n",
        "\n",
        "# Encode labels to hot vectors (ex : 2 -> [0,0,1,0,0,0,0,0,0,0])\n",
        "from keras.utils.np_utils import to_categorical\n",
        "y_trainHot = to_categorical(y_train, num_classes = 5)\n",
        "y_testHot = to_categorical(y_test, num_classes = 5)\n",
        "z_trainHot = to_categorical(z_train, num_classes = 2)\n",
        "z_testHot = to_categorical(z_test, num_classes = 2)\n",
        "dict_characters = {1:'NEUTROPHIL',2:'EOSINOPHIL',3:'MONOCYTE',4:'LYMPHOCYTE'}\n",
        "dict_characters2 = {0:'Mononuclear',1:'Polynuclear'}\n",
        "print(dict_characters)\n",
        "print(dict_characters2)"
      ],
      "execution_count": null,
      "outputs": [
        {
          "output_type": "stream",
          "text": [
            "100%|██████████| 2497/2497 [00:18<00:00, 136.11it/s]\n",
            "100%|██████████| 2483/2483 [00:18<00:00, 137.28it/s]\n",
            "100%|██████████| 2478/2478 [00:19<00:00, 126.87it/s]\n",
            "100%|██████████| 2499/2499 [00:17<00:00, 140.34it/s]\n",
            "100%|██████████| 623/623 [00:04<00:00, 149.86it/s]\n",
            "100%|██████████| 620/620 [00:03<00:00, 157.94it/s]\n",
            "100%|██████████| 620/620 [00:03<00:00, 157.66it/s]\n",
            "100%|██████████| 624/624 [00:03<00:00, 156.49it/s]\n"
          ],
          "name": "stderr"
        },
        {
          "output_type": "stream",
          "text": [
            "{1: 'NEUTROPHIL', 2: 'EOSINOPHIL', 3: 'MONOCYTE', 4: 'LYMPHOCYTE'}\n",
            "{0: 'Mononuclear', 1: 'Polynuclear'}\n"
          ],
          "name": "stdout"
        }
      ]
    },
    {
      "cell_type": "code",
      "metadata": {
        "trusted": true,
        "_uuid": "0f9824907af8f13c4182196646b2526182150c26",
        "id": "7m-yz7AZrepA",
        "colab_type": "code",
        "colab": {
          "base_uri": "https://localhost:8080/",
          "height": 71
        },
        "outputId": "79d380e3-0875-46af-ccef-994dd4a5c306"
      },
      "source": [
        "print(\"X train Shape is \",X_train.shape)\n",
        "print(\"y train Shape is \",y_trainHot.shape)\n",
        "print(\"z train Shape is \",z_trainHot.shape)"
      ],
      "execution_count": null,
      "outputs": [
        {
          "output_type": "stream",
          "text": [
            "X train Shape is  (9957, 60, 80, 3)\n",
            "y train Shape is  (9957, 5)\n",
            "z train Shape is  (9957, 2)\n"
          ],
          "name": "stdout"
        }
      ]
    },
    {
      "cell_type": "code",
      "metadata": {
        "trusted": true,
        "_uuid": "3502806cd77f256a69b575041b2bb2a6d934024b",
        "id": "4jxRKiuYrepK",
        "colab_type": "code",
        "colab": {}
      },
      "source": [
        "def keras_model():\n",
        "    inp = Input(shape=(60,80,3))\n",
        "    x = Conv2D(32, (11,11), padding=\"same\",activation=\"relu\")(inp)\n",
        "    x = Conv2D(32, (7,7), padding=\"valid\",activation=\"relu\")(inp)\n",
        "    x = MaxPool2D(pool_size=(2, 2))(x)\n",
        "    x = Conv2D(32, (5, 5), padding=\"same\",activation=\"relu\")(x)\n",
        "    x = Conv2D(32, (5, 5), padding=\"valid\",activation=\"relu\")(x)\n",
        "    x = MaxPool2D(pool_size=(2, 2))(x)\n",
        "    x = Conv2D(64, (3, 3), padding=\"same\",activation=\"relu\")(x)\n",
        "    x = Conv2D(64, (3, 3), padding=\"valid\",activation=\"relu\")(x)\n",
        "    x = MaxPool2D(pool_size=(2, 2))(x)\n",
        "    x = BatchNormalization()(x)\n",
        "    x = Flatten()(x)\n",
        "    x = Dense(1024,activation=\"relu\")(x)\n",
        "    x = Dropout(0.5)(x)\n",
        "    y = Dense(5,activation=\"softmax\")(x)\n",
        "    model = Model(inp, y)\n",
        "    model.compile(loss='categorical_crossentropy',\n",
        "                  optimizer='adam',\n",
        "                  metrics=['accuracy'])\n",
        "    return model"
      ],
      "execution_count": null,
      "outputs": []
    },
    {
      "cell_type": "code",
      "metadata": {
        "trusted": true,
        "_uuid": "ba0077826a22056bde07e43d646d3864274579a9",
        "id": "oY4uLJ8hrepR",
        "colab_type": "code",
        "colab": {
          "base_uri": "https://localhost:8080/",
          "height": 917
        },
        "outputId": "9d3c166d-3259-45ae-b95b-0a38c7c04449"
      },
      "source": [
        "model = keras_model()\n",
        "#plot_model(model, to_file='model_plot.png', show_shapes=True, show_layer_names=True)\n",
        "plt.imshow(plt.imread('model_plot.png'))\n",
        "model.summary()"
      ],
      "execution_count": null,
      "outputs": [
        {
          "output_type": "stream",
          "text": [
            "Model: \"model_2\"\n",
            "_________________________________________________________________\n",
            "Layer (type)                 Output Shape              Param #   \n",
            "=================================================================\n",
            "input_2 (InputLayer)         (None, 60, 80, 3)         0         \n",
            "_________________________________________________________________\n",
            "conv2d_8 (Conv2D)            (None, 54, 74, 32)        4736      \n",
            "_________________________________________________________________\n",
            "max_pooling2d_4 (MaxPooling2 (None, 27, 37, 32)        0         \n",
            "_________________________________________________________________\n",
            "conv2d_9 (Conv2D)            (None, 27, 37, 32)        25632     \n",
            "_________________________________________________________________\n",
            "conv2d_10 (Conv2D)           (None, 23, 33, 32)        25632     \n",
            "_________________________________________________________________\n",
            "max_pooling2d_5 (MaxPooling2 (None, 11, 16, 32)        0         \n",
            "_________________________________________________________________\n",
            "conv2d_11 (Conv2D)           (None, 11, 16, 64)        18496     \n",
            "_________________________________________________________________\n",
            "conv2d_12 (Conv2D)           (None, 9, 14, 64)         36928     \n",
            "_________________________________________________________________\n",
            "max_pooling2d_6 (MaxPooling2 (None, 4, 7, 64)          0         \n",
            "_________________________________________________________________\n",
            "batch_normalization_2 (Batch (None, 4, 7, 64)          256       \n",
            "_________________________________________________________________\n",
            "flatten_2 (Flatten)          (None, 1792)              0         \n",
            "_________________________________________________________________\n",
            "dense_3 (Dense)              (None, 1024)              1836032   \n",
            "_________________________________________________________________\n",
            "dropout_2 (Dropout)          (None, 1024)              0         \n",
            "_________________________________________________________________\n",
            "dense_4 (Dense)              (None, 5)                 5125      \n",
            "=================================================================\n",
            "Total params: 1,952,837\n",
            "Trainable params: 1,952,709\n",
            "Non-trainable params: 128\n",
            "_________________________________________________________________\n"
          ],
          "name": "stdout"
        },
        {
          "output_type": "display_data",
          "data": {
            "image/png": "[encoded data removed]",
            "text/plain": [
              "<Figure size 432x288 with 1 Axes>"
            ]
          },
          "metadata": {
            "tags": [],
            "needs_background": "light"
          }
        }
      ]
    },
    {
      "cell_type": "code",
      "metadata": {
        "trusted": true,
        "_uuid": "af60fb2422a9ce383d7772ead74927f1a345071c",
        "scrolled": false,
        "id": "qYBgsaLsrepa",
        "colab_type": "code",
        "colab": {
          "base_uri": "https://localhost:8080/",
          "height": 1000
        },
        "outputId": "8c0b81dc-0a62-441d-bace-a938dd9bfb21"
      },
      "source": [
        "filepath = \"./weight_tr5.hdf5\"\n",
        "checkpoint = ModelCheckpoint(filepath, monitor='val_acc', verbose=1, save_best_only=True, mode='max')\n",
        "callbacks_list = [checkpoint]\n",
        "history = model.fit(X_train,\n",
        "         y_trainHot,\n",
        "         epochs = 50,\n",
        "         batch_size = 512,\n",
        "         validation_data = (X_test,y_testHot),\n",
        "         callbacks = callbacks_list,\n",
        "         verbose = 1)"
      ],
      "execution_count": null,
      "outputs": [
        {
          "output_type": "stream",
          "text": [
            "Train on 9957 samples, validate on 2487 samples\n",
            "Epoch 1/300\n",
            "9957/9957 [==============================] - 158s 16ms/step - loss: 1.7021 - accuracy: 0.2959 - val_loss: 175.5571 - val_accuracy: 0.2493\n",
            "Epoch 2/300\n"
          ],
          "name": "stdout"
        },
        {
          "output_type": "stream",
          "text": [
            "/usr/local/lib/python3.6/dist-packages/keras/callbacks/callbacks.py:707: RuntimeWarning: Can save best model only with val_acc available, skipping.\n",
            "  'skipping.' % (self.monitor), RuntimeWarning)\n"
          ],
          "name": "stderr"
        },
        {
          "output_type": "stream",
          "text": [
            "9957/9957 [==============================] - 155s 16ms/step - loss: 1.3364 - accuracy: 0.3608 - val_loss: 103.5316 - val_accuracy: 0.2493\n",
            "Epoch 3/300\n",
            "9957/9957 [==============================] - 155s 16ms/step - loss: 1.2675 - accuracy: 0.4081 - val_loss: 44.2027 - val_accuracy: 0.2730\n",
            "Epoch 4/300\n",
            "9957/9957 [==============================] - 155s 16ms/step - loss: 1.2027 - accuracy: 0.4521 - val_loss: 18.6601 - val_accuracy: 0.2509\n",
            "Epoch 5/300\n",
            "9957/9957 [==============================] - 156s 16ms/step - loss: 1.1028 - accuracy: 0.5165 - val_loss: 13.8174 - val_accuracy: 0.2493\n",
            "Epoch 6/300\n",
            "9957/9957 [==============================] - 155s 16ms/step - loss: 0.9939 - accuracy: 0.5660 - val_loss: 23.7976 - val_accuracy: 0.2493\n",
            "Epoch 7/300\n",
            "9957/9957 [==============================] - 155s 16ms/step - loss: 0.8442 - accuracy: 0.6524 - val_loss: 21.4320 - val_accuracy: 0.2493\n",
            "Epoch 8/300\n",
            "9957/9957 [==============================] - 155s 16ms/step - loss: 0.7286 - accuracy: 0.7027 - val_loss: 16.2077 - val_accuracy: 0.2493\n",
            "Epoch 9/300\n",
            "9957/9957 [==============================] - 155s 16ms/step - loss: 0.6243 - accuracy: 0.7521 - val_loss: 12.9131 - val_accuracy: 0.2493\n",
            "Epoch 10/300\n",
            "9957/9957 [==============================] - 155s 16ms/step - loss: 0.5419 - accuracy: 0.7874 - val_loss: 11.7849 - val_accuracy: 0.2939\n",
            "Epoch 11/300\n",
            "9957/9957 [==============================] - 155s 16ms/step - loss: 0.4793 - accuracy: 0.8227 - val_loss: 26.8275 - val_accuracy: 0.2493\n",
            "Epoch 12/300\n",
            "9957/9957 [==============================] - 154s 16ms/step - loss: 0.4253 - accuracy: 0.8399 - val_loss: 8.2875 - val_accuracy: 0.3518\n",
            "Epoch 13/300\n",
            "9957/9957 [==============================] - 155s 16ms/step - loss: 0.3499 - accuracy: 0.8796 - val_loss: 9.1081 - val_accuracy: 0.3486\n",
            "Epoch 14/300\n",
            "9957/9957 [==============================] - 155s 16ms/step - loss: 0.3255 - accuracy: 0.8794 - val_loss: 15.3143 - val_accuracy: 0.2501\n",
            "Epoch 15/300\n",
            "9957/9957 [==============================] - 155s 16ms/step - loss: 0.2868 - accuracy: 0.8991 - val_loss: 8.0550 - val_accuracy: 0.3345\n",
            "Epoch 16/300\n",
            "9957/9957 [==============================] - 155s 16ms/step - loss: 0.2558 - accuracy: 0.9148 - val_loss: 7.5291 - val_accuracy: 0.3639\n",
            "Epoch 17/300\n",
            "9957/9957 [==============================] - 155s 16ms/step - loss: 0.2429 - accuracy: 0.9160 - val_loss: 16.1509 - val_accuracy: 0.2622\n",
            "Epoch 18/300\n",
            "9957/9957 [==============================] - 155s 16ms/step - loss: 0.2107 - accuracy: 0.9287 - val_loss: 5.2852 - val_accuracy: 0.3683\n",
            "Epoch 19/300\n",
            "9957/9957 [==============================] - 155s 16ms/step - loss: 0.1953 - accuracy: 0.9353 - val_loss: 10.6140 - val_accuracy: 0.3321\n",
            "Epoch 20/300\n",
            "9957/9957 [==============================] - 155s 16ms/step - loss: 0.1744 - accuracy: 0.9405 - val_loss: 9.1731 - val_accuracy: 0.3611\n",
            "Epoch 21/300\n",
            "9957/9957 [==============================] - 156s 16ms/step - loss: 0.1491 - accuracy: 0.9538 - val_loss: 7.0411 - val_accuracy: 0.3237\n",
            "Epoch 22/300\n",
            "9957/9957 [==============================] - 155s 16ms/step - loss: 0.1364 - accuracy: 0.9582 - val_loss: 5.9062 - val_accuracy: 0.4077\n",
            "Epoch 23/300\n",
            "9957/9957 [==============================] - 155s 16ms/step - loss: 0.1406 - accuracy: 0.9552 - val_loss: 3.8991 - val_accuracy: 0.3836\n",
            "Epoch 24/300\n",
            "9957/9957 [==============================] - 156s 16ms/step - loss: 0.1308 - accuracy: 0.9578 - val_loss: 5.0204 - val_accuracy: 0.3703\n",
            "Epoch 25/300\n",
            "9957/9957 [==============================] - 155s 16ms/step - loss: 0.1107 - accuracy: 0.9672 - val_loss: 2.0219 - val_accuracy: 0.5042\n",
            "Epoch 26/300\n",
            "9957/9957 [==============================] - 156s 16ms/step - loss: 0.1144 - accuracy: 0.9661 - val_loss: 2.1309 - val_accuracy: 0.5464\n",
            "Epoch 27/300\n",
            "9957/9957 [==============================] - 155s 16ms/step - loss: 0.1065 - accuracy: 0.9669 - val_loss: 5.0095 - val_accuracy: 0.4443\n",
            "Epoch 28/300\n",
            "9957/9957 [==============================] - 156s 16ms/step - loss: 0.0907 - accuracy: 0.9729 - val_loss: 3.5096 - val_accuracy: 0.4407\n",
            "Epoch 29/300\n",
            "9957/9957 [==============================] - 155s 16ms/step - loss: 0.0744 - accuracy: 0.9803 - val_loss: 3.6464 - val_accuracy: 0.4789\n",
            "Epoch 30/300\n",
            "9957/9957 [==============================] - 156s 16ms/step - loss: 0.0695 - accuracy: 0.9798 - val_loss: 5.3776 - val_accuracy: 0.3667\n",
            "Epoch 31/300\n",
            "9957/9957 [==============================] - 155s 16ms/step - loss: 0.0593 - accuracy: 0.9837 - val_loss: 3.5210 - val_accuracy: 0.5275\n",
            "Epoch 32/300\n",
            "9957/9957 [==============================] - 156s 16ms/step - loss: 0.0531 - accuracy: 0.9859 - val_loss: 2.9314 - val_accuracy: 0.4717\n",
            "Epoch 33/300\n",
            "9957/9957 [==============================] - 155s 16ms/step - loss: 0.0524 - accuracy: 0.9866 - val_loss: 2.0819 - val_accuracy: 0.5613\n",
            "Epoch 34/300\n",
            "5120/9957 [==============>...............] - ETA: 1:13 - loss: 0.0493 - accuracy: 0.9873"
          ],
          "name": "stdout"
        }
      ]
    },
    {
      "cell_type": "code",
      "metadata": {
        "trusted": true,
        "_uuid": "72c6b9e11a61308f5175c16a939494b32962ec09",
        "id": "BvsYysCNrepl",
        "colab_type": "code",
        "colab": {}
      },
      "source": [
        "acc = history.history['acc']\n",
        "val_acc = history.history['val_acc']\n",
        "loss = history.history['loss']\n",
        "val_loss = history.history['val_loss']\n",
        "\n",
        "epochs = range(1, len(acc) + 1)\n",
        "\n",
        "\n",
        "plt.plot(epochs, loss, label='Training loss')\n",
        "plt.plot(epochs, val_loss, label='Validation loss')\n",
        "plt.title('Training and validation loss')\n",
        "plt.xlabel('Epochs')\n",
        "plt.ylabel('Loss')\n",
        "plt.legend()\n",
        "\n",
        "plt.show()"
      ],
      "execution_count": null,
      "outputs": []
    },
    {
      "cell_type": "code",
      "metadata": {
        "trusted": true,
        "_uuid": "51c4e3d5ddb3dc73dc7143e681406d76cd3502d5",
        "id": "gd9-QJy_repu",
        "colab_type": "code",
        "colab": {}
      },
      "source": [
        "#Accuracy Plot\n",
        "history_dict = history.history\n",
        "history_dict.keys()\n",
        "plt.clf()   # clear figure\n",
        "acc_values = history_dict['acc']\n",
        "val_acc_values = history_dict['val_acc']\n",
        "\n",
        "plt.plot(epochs, acc, label='Training acc')\n",
        "plt.plot(epochs, val_acc, label='Validation acc')\n",
        "plt.title('Training and validation accuracy')\n",
        "plt.xlabel('Epochs')\n",
        "plt.ylabel('Accuracy')\n",
        "plt.legend()\n",
        "\n",
        "plt.show()"
      ],
      "execution_count": null,
      "outputs": []
    },
    {
      "cell_type": "code",
      "metadata": {
        "trusted": true,
        "_uuid": "f075aff95a656418808d73025b17f519cdf289ce",
        "id": "MmRJERI1rep-",
        "colab_type": "code",
        "colab": {}
      },
      "source": [
        "## Loading Best Weights from the Gang\n",
        "model.load_weights(filepath)"
      ],
      "execution_count": null,
      "outputs": []
    }
  ]
}